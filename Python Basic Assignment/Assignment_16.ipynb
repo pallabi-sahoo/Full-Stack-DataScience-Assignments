{
 "cells": [
  {
   "cell_type": "markdown",
   "id": "47a4667b",
   "metadata": {},
   "source": [
    "# Python Basic Assignment_16 Solutions"
   ]
  },
  {
   "cell_type": "markdown",
   "id": "849a4813",
   "metadata": {},
   "source": [
    "### 1. Create a list called years_list, starting with the year of your birth, and each year thereafter until the year of your fifth birthday. For example, if you were born in 1980. the list would be years_list = [1980, 1981, 1982, 1983, 1984, 1985]."
   ]
  },
  {
   "cell_type": "code",
   "execution_count": 1,
   "id": "b8cd5c2f",
   "metadata": {},
   "outputs": [
    {
     "data": {
      "text/plain": [
       "[1997, 1998, 1999, 2000, 2001, 2002]"
      ]
     },
     "execution_count": 1,
     "metadata": {},
     "output_type": "execute_result"
    }
   ],
   "source": [
    "years_list = [i for i in range(1997,1997+6)]\n",
    "years_list"
   ]
  },
  {
   "cell_type": "markdown",
   "id": "644984c6",
   "metadata": {},
   "source": [
    "### 2. In which year in years_list was your third birthday? Remember, you were 0 years of age for your first year."
   ]
  },
  {
   "cell_type": "code",
   "execution_count": 2,
   "id": "0849aa80",
   "metadata": {},
   "outputs": [
    {
     "data": {
      "text/plain": [
       "2000"
      ]
     },
     "execution_count": 2,
     "metadata": {},
     "output_type": "execute_result"
    }
   ],
   "source": [
    "years_list[3]"
   ]
  },
  {
   "cell_type": "markdown",
   "id": "fca93414",
   "metadata": {},
   "source": [
    "### 3.In the years list, which year were you the oldest?"
   ]
  },
  {
   "cell_type": "code",
   "execution_count": 3,
   "id": "92aaf995",
   "metadata": {},
   "outputs": [
    {
     "data": {
      "text/plain": [
       "2002"
      ]
     },
     "execution_count": 3,
     "metadata": {},
     "output_type": "execute_result"
    }
   ],
   "source": [
    "years_list[-1]"
   ]
  },
  {
   "cell_type": "markdown",
   "id": "087c5a6e",
   "metadata": {},
   "source": [
    "### 4. Make a list called things with these three strings as elements: \"mozzarella\", \"cinderella\", \"salmonella\"."
   ]
  },
  {
   "cell_type": "code",
   "execution_count": 4,
   "id": "9bbc4d5d",
   "metadata": {},
   "outputs": [
    {
     "data": {
      "text/plain": [
       "['mozzarella', 'cinderella', 'salmonella']"
      ]
     },
     "execution_count": 4,
     "metadata": {},
     "output_type": "execute_result"
    }
   ],
   "source": [
    "things = [i+'ella' for i in ['mozzar','cinder','salmon']]\n",
    "things"
   ]
  },
  {
   "cell_type": "markdown",
   "id": "ea09993c",
   "metadata": {},
   "source": [
    "### 5. Capitalize the element in things that refers to a person and then print the list. Did it change the element in the list?"
   ]
  },
  {
   "cell_type": "code",
   "execution_count": 5,
   "id": "9751e6b3",
   "metadata": {},
   "outputs": [
    {
     "name": "stdout",
     "output_type": "stream",
     "text": [
      "['mozzarella', 'Cinderella', 'salmonella']\n"
     ]
    }
   ],
   "source": [
    "for i in range(len(things)):\n",
    "    if things[i] == 'cinderella':\n",
    "        things[i] = things[i].capitalize()\n",
    "print(things)"
   ]
  },
  {
   "cell_type": "markdown",
   "id": "fc3d626a",
   "metadata": {},
   "source": [
    "### 6. Make a surprise list with the elements \"Groucho,\" \"Chico,\" and \"Harpo.\""
   ]
  },
  {
   "cell_type": "code",
   "execution_count": 6,
   "id": "ff4b93af",
   "metadata": {},
   "outputs": [
    {
     "data": {
      "text/plain": [
       "['Groucho', 'Chico', 'Harpo']"
      ]
     },
     "execution_count": 6,
     "metadata": {},
     "output_type": "execute_result"
    }
   ],
   "source": [
    "suprise_list = ['Groucho','Chico','Harpo']\n",
    "suprise_list"
   ]
  },
  {
   "cell_type": "markdown",
   "id": "1acc020c",
   "metadata": {},
   "source": [
    "### 7. Lowercase the last element of the surprise list, reverse it, and then capitalize it."
   ]
  },
  {
   "cell_type": "code",
   "execution_count": 7,
   "id": "006844d7",
   "metadata": {},
   "outputs": [
    {
     "name": "stdout",
     "output_type": "stream",
     "text": [
      "Oprah\n"
     ]
    }
   ],
   "source": [
    "print(suprise_list[-1].lower()[::-1].capitalize())"
   ]
  },
  {
   "cell_type": "markdown",
   "id": "c7157021",
   "metadata": {},
   "source": [
    "### 8. Make an English-to-French dictionary called e2f and print it. Here are your starter words: dog is chien, cat is chat, and walrus is morse."
   ]
  },
  {
   "cell_type": "code",
   "execution_count": 8,
   "id": "200a6eb9",
   "metadata": {},
   "outputs": [
    {
     "name": "stdout",
     "output_type": "stream",
     "text": [
      "{'dog': 'chien', 'cat': 'chat', 'walrus': 'morse'}\n"
     ]
    }
   ],
   "source": [
    "e2f = {'dog':'chien','cat':'chat','walrus':'morse'}\n",
    "print(e2f)"
   ]
  },
  {
   "cell_type": "markdown",
   "id": "f8732d6b",
   "metadata": {},
   "source": [
    "### 9. Write the French word for walrus in your three-word dictionary e2f."
   ]
  },
  {
   "cell_type": "code",
   "execution_count": 9,
   "id": "91e0e648",
   "metadata": {},
   "outputs": [
    {
     "name": "stdout",
     "output_type": "stream",
     "text": [
      "morse\n"
     ]
    }
   ],
   "source": [
    "print(e2f.get('walrus'))"
   ]
  },
  {
   "cell_type": "markdown",
   "id": "dad9417b",
   "metadata": {},
   "source": [
    "### 10. Make a French-to-English dictionary called f2e from e2f. Use the items method."
   ]
  },
  {
   "cell_type": "code",
   "execution_count": 10,
   "id": "0235f940",
   "metadata": {},
   "outputs": [
    {
     "name": "stdout",
     "output_type": "stream",
     "text": [
      "{'chien': 'dog', 'chat': 'cat', 'morse': 'walrus'}\n"
     ]
    }
   ],
   "source": [
    "f2e = dict([i[::-1] for i in e2f.items()])\n",
    "print(f2e)"
   ]
  },
  {
   "cell_type": "markdown",
   "id": "f1b8e032",
   "metadata": {},
   "source": [
    "### 11. Print the English version of the French word chien using f2e."
   ]
  },
  {
   "cell_type": "code",
   "execution_count": 11,
   "id": "bfb7bf7c",
   "metadata": {},
   "outputs": [
    {
     "name": "stdout",
     "output_type": "stream",
     "text": [
      "dog\n"
     ]
    }
   ],
   "source": [
    "print(f2e.get('chien'))"
   ]
  },
  {
   "cell_type": "markdown",
   "id": "85bc6bda",
   "metadata": {},
   "source": [
    "### 12. Make and print a set of English words from the keys in e2f."
   ]
  },
  {
   "cell_type": "code",
   "execution_count": 12,
   "id": "7b081cd4",
   "metadata": {},
   "outputs": [
    {
     "name": "stdout",
     "output_type": "stream",
     "text": [
      "['dog', 'cat', 'walrus']\n"
     ]
    }
   ],
   "source": [
    "print(list(e2f.keys()))"
   ]
  },
  {
   "cell_type": "markdown",
   "id": "053afa98",
   "metadata": {},
   "source": [
    "### 13. Make a multilevel dictionary called life. Use these strings for the topmost keys: 'animals', 'plants', and 'other'. Make the 'animals' key refer to another dictionary with the keys 'cats', 'octopi', and 'emus'. Make the 'cats' key refer to a list of strings with the values 'Henri', 'Grumpy', and 'Lucy'. Make all the other keys refer to empty dictionaries."
   ]
  },
  {
   "cell_type": "code",
   "execution_count": 13,
   "id": "e94ca2d2",
   "metadata": {},
   "outputs": [
    {
     "name": "stdout",
     "output_type": "stream",
     "text": [
      "{'animals': {'cats': ['Henri', 'Grumpy', 'Lucy'], 'octopi': {}, 'emus': {}}, 'plants': {}, 'other': {}}\n"
     ]
    }
   ],
   "source": [
    "life = {\n",
    "    'animals':{\n",
    "        'cats':['Henri','Grumpy','Lucy'],\n",
    "        'octopi':{},\n",
    "        'emus':{}\n",
    "    },\n",
    "    'plants':{},\n",
    "    'other':{}\n",
    "}\n",
    "print(life)"
   ]
  },
  {
   "cell_type": "markdown",
   "id": "946f0ec0",
   "metadata": {},
   "source": [
    "### 14. Print the top-level keys of life."
   ]
  },
  {
   "cell_type": "code",
   "execution_count": 14,
   "id": "368c2103",
   "metadata": {},
   "outputs": [
    {
     "name": "stdout",
     "output_type": "stream",
     "text": [
      "['animals', 'plants', 'other']\n"
     ]
    }
   ],
   "source": [
    "print(list(life.keys()))"
   ]
  },
  {
   "cell_type": "markdown",
   "id": "5123fe4d",
   "metadata": {},
   "source": [
    "### 15. Print the keys for life['animals']."
   ]
  },
  {
   "cell_type": "code",
   "execution_count": 15,
   "id": "d6e7aa9c",
   "metadata": {},
   "outputs": [
    {
     "name": "stdout",
     "output_type": "stream",
     "text": [
      "['cats', 'octopi', 'emus']\n"
     ]
    }
   ],
   "source": [
    "print(list(life['animals'].keys()))"
   ]
  },
  {
   "cell_type": "markdown",
   "id": "275cfa6a",
   "metadata": {},
   "source": [
    "### 16. Print the values for life['animals']['cats']"
   ]
  },
  {
   "cell_type": "code",
   "execution_count": 16,
   "id": "690ff7b5",
   "metadata": {},
   "outputs": [
    {
     "name": "stdout",
     "output_type": "stream",
     "text": [
      "['Henri', 'Grumpy', 'Lucy']\n"
     ]
    }
   ],
   "source": [
    "print(life['animals']['cats'])"
   ]
  },
  {
   "cell_type": "code",
   "execution_count": null,
   "id": "0eb9da61",
   "metadata": {},
   "outputs": [],
   "source": []
  }
 ],
 "metadata": {
  "kernelspec": {
   "display_name": "Python 3 (ipykernel)",
   "language": "python",
   "name": "python3"
  },
  "language_info": {
   "codemirror_mode": {
    "name": "ipython",
    "version": 3
   },
   "file_extension": ".py",
   "mimetype": "text/x-python",
   "name": "python",
   "nbconvert_exporter": "python",
   "pygments_lexer": "ipython3",
   "version": "3.9.7"
  }
 },
 "nbformat": 4,
 "nbformat_minor": 5
}
