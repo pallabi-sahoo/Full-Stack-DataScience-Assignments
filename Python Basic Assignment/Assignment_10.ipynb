{
 "cells": [
  {
   "cell_type": "markdown",
   "id": "455a9488",
   "metadata": {},
   "source": [
    "# Python Basic Assignment_10 Solutions"
   ]
  },
  {
   "cell_type": "markdown",
   "id": "78e53646",
   "metadata": {},
   "source": [
    "### 1. How do you distinguish between shutil.copy() and shutil.copytree()?\n",
    "**Ans:** \n",
    "- `shutil.copy()` method is used to copy the contents of a file from one file to another file/folder, it primary takes two arguments src,dest, src represents the file to be copied where as destination refers to the file/folder to where the src data should be copied.                                                                                             \n",
    "- `shutil.copytree()` function is used to copy the entire contents of a folder to other folder. it also takes two arguments `src` & `dest`, it copies all the content recursively and stores it in `dest`."
   ]
  },
  {
   "cell_type": "markdown",
   "id": "9f047215",
   "metadata": {},
   "source": [
    "### 2. What function is used to rename files??\n",
    "**Ans:** `os.rename()` function is used to rename files or directories using a python program."
   ]
  },
  {
   "cell_type": "markdown",
   "id": "7a0a61b8",
   "metadata": {},
   "source": [
    "### 3. What is the difference between the delete functions in the send2trash and shutil modules?\n",
    "**Ans:** `send2trash` function move a file or folder to the recycle bin, while `shutil` function permanently delete file or folder."
   ]
  },
  {
   "cell_type": "markdown",
   "id": "1e4bc8fa",
   "metadata": {},
   "source": [
    "### 4.ZipFile objects have a close() method just like File objects’ close() method. What ZipFile method is equivalent to File objects’ open() method?\n",
    "**Ans:** ZipFile Module provides a method called as `zipfile.ZipFile()` to read and write to zipFiles."
   ]
  },
  {
   "cell_type": "markdown",
   "id": "ff0142c6",
   "metadata": {},
   "source": [
    "### 5. Create a programme that searches a folder tree for files with a certain file extension (such as .pdf or .jpg). Copy these files from whatever location they are in to a new folder"
   ]
  },
  {
   "cell_type": "code",
   "execution_count": 1,
   "id": "3bc1292b",
   "metadata": {},
   "outputs": [
    {
     "name": "stdout",
     "output_type": "stream",
     "text": [
      "Files have been successfully copied from C:\\Users\\pallabi.sahoo\\Documents to C:\\Users\\pallabi.sahoo\\FSDS\n"
     ]
    }
   ],
   "source": [
    "def copyFile(src,dst,ext):\n",
    "    try:\n",
    "        import os,shutil\n",
    "        for file in os.listdir(src):\n",
    "            if file.endswith(ext):\n",
    "                shutil.copy(os.path.join(src,file),dst)\n",
    "        print(f'Files have been successfully copied from {src} to {dst}')\n",
    "    except Exception as e:\n",
    "        print(e)\n",
    "\n",
    "copyFile(r'C:\\Users\\pallabi.sahoo\\Documents', r'C:\\Users\\pallabi.sahoo\\FSDS', '.pdf')"
   ]
  },
  {
   "cell_type": "code",
   "execution_count": null,
   "id": "e5a70382",
   "metadata": {},
   "outputs": [],
   "source": []
  }
 ],
 "metadata": {
  "kernelspec": {
   "display_name": "Python 3 (ipykernel)",
   "language": "python",
   "name": "python3"
  },
  "language_info": {
   "codemirror_mode": {
    "name": "ipython",
    "version": 3
   },
   "file_extension": ".py",
   "mimetype": "text/x-python",
   "name": "python",
   "nbconvert_exporter": "python",
   "pygments_lexer": "ipython3",
   "version": "3.9.7"
  }
 },
 "nbformat": 4,
 "nbformat_minor": 5
}
