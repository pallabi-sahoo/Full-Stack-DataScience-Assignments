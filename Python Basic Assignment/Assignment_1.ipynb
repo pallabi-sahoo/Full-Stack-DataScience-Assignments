{
 "cells": [
  {
   "cell_type": "markdown",
   "id": "d3bef86d",
   "metadata": {},
   "source": [
    "### Assignment_1 Solution"
   ]
  },
  {
   "cell_type": "markdown",
   "id": "9921e72b",
   "metadata": {},
   "source": [
    "### 1. In the below elements which of them are values or an expression? \n",
    "eg:- values can be integer or string and expressions will be mathematical operators.\n",
    " \n",
    "   *, 'hello', -87.8, -, /, +, 6\n",
    "   \n",
    "Ans: In these elements there are total 4 Operators and 3 Expressions, They are:                                         \n",
    "Operators: *, -, /, +                                                                                             \n",
    "Expressions: 'hello', 87.8, 6"
   ]
  },
  {
   "cell_type": "markdown",
   "id": "6e2ba6f9",
   "metadata": {},
   "source": [
    "### 2. What is the difference between string and variable?\n",
    "\n",
    "Ans: A Variable is used to store of information, and a String is a type of information you would store in a Variable. A     String is a group of characters or a single character usually enclosed in Double quotes \" \" or single quotes ' '"
   ]
  },
  {
   "cell_type": "markdown",
   "id": "f00fd49f",
   "metadata": {},
   "source": [
    "### 3. Describe three different data types.\n",
    "\n",
    "Ans: Three data types of python are: int, float, Boolean                                                                  \n",
    "I.  int- The int data types in python is used store the whole numbers(integral values).                                     \n",
    "II. Float- The float data types in python is used store the floatingpoint values(decimal values).                         \n",
    "III.Boolean- The boolean data types in python is used store one of two possible values(True and False). "
   ]
  },
  {
   "cell_type": "code",
   "execution_count": 5,
   "id": "4c590afa",
   "metadata": {},
   "outputs": [
    {
     "name": "stdout",
     "output_type": "stream",
     "text": [
      "345 <class 'int'>\n",
      "1200.0 <class 'float'>\n",
      "True <class 'bool'>\n"
     ]
    }
   ],
   "source": [
    "# Example for int data type\n",
    "num=345\n",
    "print(num, type(num))\n",
    "# Example for float data type\n",
    "fl_num=1.2e3\n",
    "print(fl_num, type(fl_num))\n",
    "# Example for Boolean data type\n",
    "bol_val=True\n",
    "print(bol_val, type(bol_val))"
   ]
  },
  {
   "cell_type": "markdown",
   "id": "2ff485ba",
   "metadata": {},
   "source": [
    "### 4. What is an expression made up of? What do all expressions do?\n",
    "\n",
    "Ans: An expression is a combination of values, variables, operators, and calls to functions. Expressions need to be evaluated. If we ask Python to print an expression, the interpreter evaluates the expression and displays the result."
   ]
  },
  {
   "cell_type": "code",
   "execution_count": 8,
   "id": "6042e2cf",
   "metadata": {},
   "outputs": [
    {
     "data": {
      "text/plain": [
       "2"
      ]
     },
     "execution_count": 8,
     "metadata": {},
     "output_type": "execute_result"
    }
   ],
   "source": [
    "20+6-8*3 #is an Expression"
   ]
  },
  {
   "cell_type": "markdown",
   "id": "47f8b495",
   "metadata": {},
   "source": [
    "### 5. This assignment statements, like spam = 10. What is the difference between an expression and a statement?\n",
    "\n",
    "Ans: An expression is a combination of values, variables, and operators.When we type an expression at the prompt, the interpreter evaluates it, which means that it finds the value of the expression.\n",
    "\n",
    "A statement is a unit of code that has an effect, like creating a variable or displaying a value.When we type a statement, the interpreter executes it, which means that it does whatever the statement says. In general, statements don’t have values. There are different types of statements available."
   ]
  },
  {
   "cell_type": "code",
   "execution_count": 12,
   "id": "521dfe29",
   "metadata": {},
   "outputs": [],
   "source": [
    "#Example:\n",
    "8*5+9-6 # Is an Expression\n",
    "courseName = 'INeuron FullStack DataScience' # Is an assignment Statement"
   ]
  },
  {
   "cell_type": "markdown",
   "id": "092d549b",
   "metadata": {},
   "source": [
    "### 6. After running the following code, what does the variable bacon contain?                                                 \n",
    "bacon = 22                                                                                                                \n",
    "bacon + 1\n",
    "\n",
    "Ans: The bacon variable is set to 22 because the expression \"bacon+1\" doesn't reassign to bacon. that would be the case if the expression is like \"bacon = bacon + 1\" then may be bacon contains the value 23."
   ]
  },
  {
   "cell_type": "code",
   "execution_count": 15,
   "id": "6d5162da",
   "metadata": {},
   "outputs": [
    {
     "data": {
      "text/plain": [
       "22"
      ]
     },
     "execution_count": 15,
     "metadata": {},
     "output_type": "execute_result"
    }
   ],
   "source": [
    "#Example\n",
    "bacon = 22                                                                                                                \n",
    "bacon + 1\n",
    "bacon"
   ]
  },
  {
   "cell_type": "markdown",
   "id": "aef75e46",
   "metadata": {},
   "source": [
    "### 7. What should the values of the following two terms be?                                                                                                                                   \n",
    "'spam'+'spamspam'                                                                                                         \n",
    "'spam'*3\n",
    "\n",
    "Ans: Both expressions evaluate to the string 'spamspamspam' Where as the first expression follows String Concatentation and the second expression follows String Multiplication"
   ]
  },
  {
   "cell_type": "code",
   "execution_count": 17,
   "id": "acbe4495",
   "metadata": {},
   "outputs": [
    {
     "name": "stdout",
     "output_type": "stream",
     "text": [
      "spamspamspam\n",
      "spamspamspam\n"
     ]
    }
   ],
   "source": [
    "print('spam'+'spamspam') # string concatenation\n",
    "print('spam'*3) #string multiplication"
   ]
  },
  {
   "cell_type": "markdown",
   "id": "23b5a66b",
   "metadata": {},
   "source": [
    "### 8. Why is eggs a valid variable name while 100 is invalid?\n",
    "\n",
    "Ans: As per python rule, Variables names cannot begin with number, So 100 is not a valid variable and eggs is valid because it satisfies all the variable naming rules.           "
   ]
  },
  {
   "cell_type": "code",
   "execution_count": 21,
   "id": "656b9d94",
   "metadata": {},
   "outputs": [
    {
     "ename": "SyntaxError",
     "evalue": "cannot assign to literal (Temp/ipykernel_12232/2101076451.py, line 2)",
     "output_type": "error",
     "traceback": [
      "\u001b[1;36m  File \u001b[1;32m\"C:\\Users\\PALLAB~1.SAH\\AppData\\Local\\Temp/ipykernel_12232/2101076451.py\"\u001b[1;36m, line \u001b[1;32m2\u001b[0m\n\u001b[1;33m    100 = 'pal' # raise an exception invalid variable\u001b[0m\n\u001b[1;37m    ^\u001b[0m\n\u001b[1;31mSyntaxError\u001b[0m\u001b[1;31m:\u001b[0m cannot assign to literal\n"
     ]
    }
   ],
   "source": [
    "eggs = 10 # is valid\n",
    "100 = 'pal' # raise an exception invalid variable"
   ]
  },
  {
   "cell_type": "markdown",
   "id": "9c638ac4",
   "metadata": {},
   "source": [
    "### 9. What three functions can be used to get the integer, floating-point number, or string version of a value? \n",
    "\n",
    "Ans: The int(), float(), and str() functions will evaluate any value to integer, floating-point number, or string version."
   ]
  },
  {
   "cell_type": "code",
   "execution_count": 26,
   "id": "0f260c08",
   "metadata": {},
   "outputs": [
    {
     "name": "stdout",
     "output_type": "stream",
     "text": [
      "3\n",
      "10.0\n",
      "20\n"
     ]
    }
   ],
   "source": [
    "print(int(3.45)) # converts the input to int\n",
    "print(float(10)) # converts the input to float\n",
    "print(str(20)) # converts the input to string"
   ]
  },
  {
   "cell_type": "markdown",
   "id": "fb156a7c",
   "metadata": {},
   "source": [
    "### 10. Why does this expression cause an error? How can you fix it?                                                          \n",
    "'I have eaten ' + 99 + 'burritos.'\n",
    "\n",
    "Ans: The Expression cause an error because 99 is not a string data type, So 99 shoulbe converted to str type in the expression like:                                                                                                       \n",
    "    'I have eaten ' + str(99) + 'burritos.'"
   ]
  },
  {
   "cell_type": "code",
   "execution_count": 29,
   "id": "9e3ad8a0",
   "metadata": {},
   "outputs": [
    {
     "data": {
      "text/plain": [
       "'I have eaten 99 burritos.'"
      ]
     },
     "execution_count": 29,
     "metadata": {},
     "output_type": "execute_result"
    }
   ],
   "source": [
    "# Example\n",
    "'I have eaten ' + str(99) + ' burritos.'"
   ]
  },
  {
   "cell_type": "code",
   "execution_count": null,
   "id": "ac5c8c77",
   "metadata": {},
   "outputs": [],
   "source": []
  }
 ],
 "metadata": {
  "kernelspec": {
   "display_name": "Python 3 (ipykernel)",
   "language": "python",
   "name": "python3"
  },
  "language_info": {
   "codemirror_mode": {
    "name": "ipython",
    "version": 3
   },
   "file_extension": ".py",
   "mimetype": "text/x-python",
   "name": "python",
   "nbconvert_exporter": "python",
   "pygments_lexer": "ipython3",
   "version": "3.9.7"
  },
  "vscode": {
   "interpreter": {
    "hash": "d490484298ea0ecd1d7d872b4f9bd775c1a119ef01487bf1aa5f41aec21812ee"
   }
  }
 },
 "nbformat": 4,
 "nbformat_minor": 5
}
