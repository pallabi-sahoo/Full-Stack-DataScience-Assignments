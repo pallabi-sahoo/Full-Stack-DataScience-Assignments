{
 "cells": [
  {
   "cell_type": "markdown",
   "id": "a975f1a7",
   "metadata": {},
   "source": [
    "# Assignment 3 Solutions"
   ]
  },
  {
   "cell_type": "markdown",
   "id": "7ae5b728",
   "metadata": {},
   "source": [
    "### 1. Why are functions advantageous to have in your programs?\n",
    "Ans: By using functions, We can avoid to rewrite the code again and again in a program. Functions reduce the need for duplicate code. This makes programs shorter, easier to read, and easier to update. The main advantage of function is the reusability of code."
   ]
  },
  {
   "cell_type": "markdown",
   "id": "e7c1b337",
   "metadata": {},
   "source": [
    "### 2. When does the code in a function run: when it's specified or when it's called?\n",
    "Ans: The code in a function executes when the function is called, not when the function is specified."
   ]
  },
  {
   "cell_type": "markdown",
   "id": "f6b73489",
   "metadata": {},
   "source": [
    "### 3. What statement creates a function?\n",
    "Ans: Using the `def` keyword followed by function name with paranthesis we create a function. And the statements in the block of the function must be indented.                                     "
   ]
  },
  {
   "cell_type": "code",
   "execution_count": 1,
   "id": "ef0c1625",
   "metadata": {},
   "outputs": [],
   "source": [
    "# Example\n",
    "def function_name():\n",
    "    pass    "
   ]
  },
  {
   "cell_type": "markdown",
   "id": "42b6a485",
   "metadata": {},
   "source": [
    "### 4. What is the difference between a function and a function call?\n",
    "Ans:                                                                                       Function: Function is set of codes which produce some result. Function need to be invoked or called.                                                                           \n",
    "     Function Call: Function call is used to invoke or execute set of codes present inside the function."
   ]
  },
  {
   "cell_type": "markdown",
   "id": "167ed396",
   "metadata": {},
   "source": [
    "### 5. How many global scopes are there in a Python program? How many local scopes?\n",
    "Ans: There are 1 global scopes and 1 local scope in the python program."
   ]
  },
  {
   "cell_type": "markdown",
   "id": "a4a75244",
   "metadata": {},
   "source": [
    "### 6. What happens to variables in a local scope when the function call returns?\n",
    "Ans: When a function call returns, the local scope is destroyed, and all the variables in it are forgotten."
   ]
  },
  {
   "cell_type": "markdown",
   "id": "8eb02641",
   "metadata": {},
   "source": [
    "### 7. What is the concept of a return value? Is it possible to have a return value in an expression?\n",
    "Ans: Return value is value, varible or expression which a function can return. Like any value, a return value can be used as part of an expression."
   ]
  },
  {
   "cell_type": "markdown",
   "id": "f5006733",
   "metadata": {},
   "source": [
    "### 8. If a function does not have a return statement, what is the return value of a call to that function?\n",
    "Ans:  If a function does not have a return statement, its return value as None."
   ]
  },
  {
   "cell_type": "markdown",
   "id": "339c2983",
   "metadata": {},
   "source": [
    "### 9. How do you make a function variable refer to the global variable?\n",
    "Ans: This can be achieved by using the `global` keyword to declare a variable, which will make a function variable refer to the global variable."
   ]
  },
  {
   "cell_type": "markdown",
   "id": "624c117f",
   "metadata": {},
   "source": [
    "### 10. What is the data type of None?\n",
    "Ans: None is a Null variable,which is a data type of class `NoneType`."
   ]
  },
  {
   "cell_type": "markdown",
   "id": "7fe6db65",
   "metadata": {},
   "source": [
    "### 11. What does the sentence import areallyourpetsnamederic do? \n",
    "Ans: This statement \"import areallyourpetsnamederic\" will importa module or package named areallyourpetsnamederic."
   ]
  },
  {
   "cell_type": "markdown",
   "id": "939239dd",
   "metadata": {},
   "source": [
    "### 12. If you had a bacon() feature in a spam module, what would you call it after importing spam?\n",
    "Ans: After import the scam module the bacon() function can be called with `spam.bacon()`"
   ]
  },
  {
   "cell_type": "markdown",
   "id": "98ef79f4",
   "metadata": {},
   "source": [
    "### 13. What can you do to save a programme from crashing if it encounters an error?\n",
    "Ans: To save a program from crashing if it encounters an error, by placing the line of the code which may cause an error within the `try` block and use `except` to handle the error. It will save from the runtime error only not the compile time error."
   ]
  },
  {
   "cell_type": "markdown",
   "id": "2418d150",
   "metadata": {},
   "source": [
    "### 14. What is the purpose of the try clause? What is the purpose of the except clause?\n",
    "Ans:                                                                                             \n",
    "Together try and except block is used to save programme from crashing when an error is encountered.                                                                                     \n",
    "Try: Try block is used for any suspicious code which can throw a error.                          \n",
    "Except: Except block is used to catch the error if any encountered inside try block."
   ]
  },
  {
   "cell_type": "code",
   "execution_count": null,
   "id": "2fd07f01",
   "metadata": {},
   "outputs": [],
   "source": []
  }
 ],
 "metadata": {
  "kernelspec": {
   "display_name": "Python 3 (ipykernel)",
   "language": "python",
   "name": "python3"
  },
  "language_info": {
   "codemirror_mode": {
    "name": "ipython",
    "version": 3
   },
   "file_extension": ".py",
   "mimetype": "text/x-python",
   "name": "python",
   "nbconvert_exporter": "python",
   "pygments_lexer": "ipython3",
   "version": "3.9.7"
  }
 },
 "nbformat": 4,
 "nbformat_minor": 5
}
