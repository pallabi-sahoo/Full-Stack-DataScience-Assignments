{
 "cells": [
  {
   "cell_type": "markdown",
   "id": "02fd6661",
   "metadata": {},
   "source": [
    "# Python Basic Assignment_9 Solutions"
   ]
  },
  {
   "cell_type": "markdown",
   "id": "21f6ff35",
   "metadata": {},
   "source": [
    "### 1.To what does a relative path refer ?\n",
    "**Ans:** Relative paths are relative to the current working directory. When using relative path, we need to provide the absolute/complete path of file from the root directory, instead we can give the partial/relative path to indicate the file location.                                                                                                                \n",
    "**Example:** if Absolute path to a file called test.txt is: `C:/users/admin/docs/test.txt` If my PWD is `C:/users/admin/` , then the relative path to `test.txt` would be: `docs/test.txt`       \n",
    "**Note:** PWD + relative path = absolute path"
   ]
  },
  {
   "cell_type": "markdown",
   "id": "c8696d19",
   "metadata": {},
   "source": [
    "### 2.Where does an absolute path start with your Operating System ?\n",
    "**Ans:** I have Windows Operating System with Single Hard drive, So my absolute path starts with `C:\\`"
   ]
  },
  {
   "cell_type": "markdown",
   "id": "2050d848",
   "metadata": {},
   "source": [
    "### 3.What does the functions `os.getcwd()` and `os.chdir()` do ?\n",
    "**Ans:** `os.getcwd()` refers to the current working directory(pwd) and `os.chdir()` used to change the current working directory to any other directory."
   ]
  },
  {
   "cell_type": "code",
   "execution_count": 1,
   "id": "83b97e6c",
   "metadata": {},
   "outputs": [
    {
     "name": "stdout",
     "output_type": "stream",
     "text": [
      "C:\\Users\\pallabi.sahoo\\FSDS\\Ineuron-Full-Stack-DataScience-Assignments\\Python Basic Assignment\n",
      "C:\\Users\\pallabi.sahoo\\FSDS\n"
     ]
    }
   ],
   "source": [
    "import os\n",
    "print(os.getcwd()) # Prints the current Working Directory\n",
    "path = r'C:\\Users\\pallabi.sahoo\\FSDS'\n",
    "os.chdir(path)\n",
    "print(os.getcwd())"
   ]
  },
  {
   "cell_type": "markdown",
   "id": "f9683ea9",
   "metadata": {},
   "source": [
    "### 4.What are `.` and `..`  folders ?\n",
    "**Ans:** `.` Represents the Current Directory Whereas `..` Represents the Parent Directory of the Current Directory.  \n",
    "**For Example:** \n",
    "if the below path is my absolute path:  \n",
    "`C:\\Users\\pallabi.sahoo\\FSDS\\Ineuron-Full-Stack-DataScience-Assignments\\Python Basic Assignment`  \n",
    "Then `.` represents the path `C:\\Users\\pallabi.sahoo\\FSDS\\Ineuron-Full-Stack-DataScience-Assignments\\Python Basic Assignment`  \n",
    "Where as `..` represents the path `C:\\Users\\pallabi.sahoo\\FSDS\\Ineuron-Full-Stack-DataScience-Assignments`"
   ]
  },
  {
   "cell_type": "markdown",
   "id": "cabb87fd",
   "metadata": {},
   "source": [
    "### 5.In `C:\\bacon\\eggs\\spam.txt` which part is the dir name and which part is the base name ?\n",
    "**Ans:** In `C:\\bacon\\eggs\\spam.txt`, `C:\\bacon\\eggs` is the dir name and `spam.txt` is the Base name"
   ]
  },
  {
   "cell_type": "code",
   "execution_count": 2,
   "id": "a5cb12d4",
   "metadata": {},
   "outputs": [
    {
     "name": "stdout",
     "output_type": "stream",
     "text": [
      "C:\\bacon\\eggs\n",
      "spam.txt\n"
     ]
    }
   ],
   "source": [
    "import os\n",
    "path = r'C:\\bacon\\eggs\\spam.txt'\n",
    "print(os.path.dirname(path))\n",
    "print(os.path.basename(path))"
   ]
  },
  {
   "cell_type": "markdown",
   "id": "9b1e2f5c",
   "metadata": {},
   "source": [
    "### What are the three “mode” arguments that can be passed to the open() function?\n",
    "The three mode arguments that can be passed to the open() function are:\n",
    "\n",
    "- `'r'` Read mode: This is the default mode for open(). The file is opened and a pointer is positioned at the beginning of the file’s content.\n",
    "- `'w'` Write Mode: Using this mode will overwrite any existing content in a file. If the given file does not exist, a new one will be created.\n",
    "- `'a'` Append Mode: With this mode the user can append the data without overwriting any already existing data in the file. "
   ]
  },
  {
   "cell_type": "markdown",
   "id": "7b09fb0c",
   "metadata": {},
   "source": [
    "### 7.What happens if an existing file is opened in write mode ?\n",
    "**Ans:** Write mode will overwrite any existing content in a file and it tends to data loss. If the given file does not exist, a new one will be created."
   ]
  },
  {
   "cell_type": "markdown",
   "id": "58d8c668",
   "metadata": {},
   "source": [
    "### 8.How do you tell the difference between `read()` and `readlines()` ?\n",
    "The `read()` will read the whole file at once and then print out the first characters that take up as many bytes as you specify in the parenthesis whereas the `readlines()` that will read and print out only the first characters that take up as many bytes as you specify in the parenthesis. "
   ]
  },
  {
   "cell_type": "markdown",
   "id": "b85acd0b",
   "metadata": {},
   "source": [
    "### 9. What data structure does a shelf value resemble?\n",
    "**Ans:** A shelf value resembles a dictionary value, it has keys and values, along with keys() and values() methods that work similarly to the dictionary methods of the same names."
   ]
  },
  {
   "cell_type": "code",
   "execution_count": null,
   "id": "c6990cce",
   "metadata": {},
   "outputs": [],
   "source": []
  }
 ],
 "metadata": {
  "kernelspec": {
   "display_name": "Python 3 (ipykernel)",
   "language": "python",
   "name": "python3"
  },
  "language_info": {
   "codemirror_mode": {
    "name": "ipython",
    "version": 3
   },
   "file_extension": ".py",
   "mimetype": "text/x-python",
   "name": "python",
   "nbconvert_exporter": "python",
   "pygments_lexer": "ipython3",
   "version": "3.9.7"
  }
 },
 "nbformat": 4,
 "nbformat_minor": 5
}
