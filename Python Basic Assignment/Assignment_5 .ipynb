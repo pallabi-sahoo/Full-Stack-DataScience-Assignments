{
 "cells": [
  {
   "cell_type": "markdown",
   "id": "ba061b0a",
   "metadata": {},
   "source": [
    "# Python Basic Assignment_5 Solutions"
   ]
  },
  {
   "cell_type": "markdown",
   "id": "42871be9",
   "metadata": {},
   "source": [
    "### 1. What does an empty dictionary's code look like in Python?\n",
    "**Ans:** To create an empty dictionary, first create a variable name which will be the name of the dictionary. Then, assign the variable to an empty set of curly braces, {} . Another way of creating an empty dictionary is to use the dict() function  without passing any arguments.                                                                                     \n",
    "`Eg: d = {} or d = dict()`"
   ]
  },
  {
   "cell_type": "code",
   "execution_count": 1,
   "id": "effad57c",
   "metadata": {},
   "outputs": [
    {
     "name": "stdout",
     "output_type": "stream",
     "text": [
      "<class 'dict'>\n",
      "<class 'dict'>\n"
     ]
    }
   ],
   "source": [
    "#Example\n",
    "d1={}\n",
    "d2=dict()\n",
    "print(type(d1))\n",
    "print(type(d2))"
   ]
  },
  {
   "cell_type": "markdown",
   "id": "91833c46",
   "metadata": {},
   "source": [
    "### 2.what is the value of dictionary value with key 'foo' and the value 42 ?\n",
    "**Ans:** `{'foo':42}`"
   ]
  },
  {
   "cell_type": "code",
   "execution_count": 2,
   "id": "57b2f2cb",
   "metadata": {},
   "outputs": [
    {
     "name": "stdout",
     "output_type": "stream",
     "text": [
      "{'foo': 42}\n"
     ]
    }
   ],
   "source": [
    "dict_={'foo':42}\n",
    "print(dict_)"
   ]
  },
  {
   "cell_type": "markdown",
   "id": "7ee76a92",
   "metadata": {},
   "source": [
    "### 3.What is the most significant distinction between a dictionary and a list?\n",
    "**Ans:** Dictionaries are represented by `{}` or `dict()` where as listed are represented by `[]` or `list()`. The Items stored in a dictionary are Unordered , while the items in a list are ordered."
   ]
  },
  {
   "cell_type": "code",
   "execution_count": 3,
   "id": "0e911cf9",
   "metadata": {},
   "outputs": [],
   "source": [
    "# dictionary\n",
    "dict_={'d1':134, 'd2':245}\n",
    "# list\n",
    "list_=[12,'ineuron', 34, True]"
   ]
  },
  {
   "cell_type": "markdown",
   "id": "8fe2b598",
   "metadata": {},
   "source": [
    "### 4.What happens if you try to access spam ['foo'] if spam is {'bar':100} ?\n",
    "**Ans:** we will get a KeyError `KeyError: 'foo'`"
   ]
  },
  {
   "cell_type": "code",
   "execution_count": 4,
   "id": "4c63a101",
   "metadata": {},
   "outputs": [
    {
     "ename": "KeyError",
     "evalue": "'foo'",
     "output_type": "error",
     "traceback": [
      "\u001b[1;31m---------------------------------------------------------------------------\u001b[0m",
      "\u001b[1;31mKeyError\u001b[0m                                  Traceback (most recent call last)",
      "\u001b[1;32mC:\\Users\\PALLAB~1.SAH\\AppData\\Local\\Temp/ipykernel_19404/1717283131.py\u001b[0m in \u001b[0;36m<module>\u001b[1;34m\u001b[0m\n\u001b[0;32m      1\u001b[0m \u001b[0mspam\u001b[0m\u001b[1;33m=\u001b[0m\u001b[1;33m{\u001b[0m\u001b[1;34m'bar'\u001b[0m\u001b[1;33m:\u001b[0m\u001b[1;36m100\u001b[0m\u001b[1;33m}\u001b[0m\u001b[1;33m\u001b[0m\u001b[1;33m\u001b[0m\u001b[0m\n\u001b[1;32m----> 2\u001b[1;33m \u001b[0mspam\u001b[0m\u001b[1;33m[\u001b[0m\u001b[1;34m'foo'\u001b[0m\u001b[1;33m]\u001b[0m\u001b[1;33m\u001b[0m\u001b[1;33m\u001b[0m\u001b[0m\n\u001b[0m",
      "\u001b[1;31mKeyError\u001b[0m: 'foo'"
     ]
    }
   ],
   "source": [
    "spam={'bar':100}\n",
    "spam['foo']"
   ]
  },
  {
   "cell_type": "markdown",
   "id": "2b35ed1f",
   "metadata": {},
   "source": [
    "### 5.if a dictionary is stored in spam,what is the difference between the expressions 'cat' in spam and 'cat' in spam.keys() ?\n",
    "**Ans:** There is no difference . The operator checks whether a value exits as a key in the dictionary or not"
   ]
  },
  {
   "cell_type": "code",
   "execution_count": 5,
   "id": "252e5684",
   "metadata": {},
   "outputs": [
    {
     "name": "stdout",
     "output_type": "stream",
     "text": [
      "True\n",
      "True\n"
     ]
    }
   ],
   "source": [
    "#Example\n",
    "spam={'cat':5,'Dog':7}\n",
    "print('cat' in spam)\n",
    "print('cat' in spam.keys())"
   ]
  },
  {
   "cell_type": "markdown",
   "id": "c0d016fd",
   "metadata": {},
   "source": [
    "#### 6.if a dictionary is stored in spam,what is the difference between the expressions 'cat' in spam and 'cat' in spam.values() ?\n",
    "**Ans:**'cat' in spam checks whether there is a 'cat' key in the dictionary, while 'cat' in spam.values() checks whether there is a value 'cat' in any of the keys in spam."
   ]
  },
  {
   "cell_type": "code",
   "execution_count": 6,
   "id": "7297e169",
   "metadata": {},
   "outputs": [
    {
     "name": "stdout",
     "output_type": "stream",
     "text": [
      "True\n",
      "False\n"
     ]
    }
   ],
   "source": [
    "# Example\n",
    "spam={'cat':5,'Dog':7}\n",
    "print('cat' in spam)\n",
    "print('cat' in spam.values())"
   ]
  },
  {
   "cell_type": "markdown",
   "id": "fd2f15d0",
   "metadata": {},
   "source": [
    "### 7.what is a shortcut for the following code ?\n",
    "`if 'color' not in spam:\n",
    "    spam['color'] ='black'`\n",
    "    \n",
    "**Ans:** `spam.setdefault('color','black')`"
   ]
  },
  {
   "cell_type": "code",
   "execution_count": 7,
   "id": "eb4e3dad",
   "metadata": {},
   "outputs": [
    {
     "data": {
      "text/plain": [
       "{'cat': 5, 'Dog': 7, 'color': 'black'}"
      ]
     },
     "execution_count": 7,
     "metadata": {},
     "output_type": "execute_result"
    }
   ],
   "source": [
    "# shortcut code \n",
    "spam.setdefault('color', 'black')\n",
    "spam"
   ]
  },
  {
   "cell_type": "markdown",
   "id": "3eddf296",
   "metadata": {},
   "source": [
    "### 8.How do you 'pretty print' dictionary values using which modules and function ?\n",
    "**Ans:** we can pretty print a dictionary using three functions:\n",
    "1. by using pprint() function of pprint module\n",
    "2. by using dumps() method of json module\n",
    "3. by using dumps() method of yaml module"
   ]
  },
  {
   "cell_type": "code",
   "execution_count": 8,
   "id": "fca91d5b",
   "metadata": {},
   "outputs": [
    {
     "name": "stdout",
     "output_type": "stream",
     "text": [
      "using pprint method:\n",
      "[{'Age': 22, 'country': 'India', 'name': 'pallabi'},\n",
      " {'Age': 35, 'country': 'USA', 'name': 'John'}]\n",
      "using json: [\n",
      "  {\n",
      "    \"name\": \"pallabi\",\n",
      "    \"Age\": 22,\n",
      "    \"country\": \"India\"\n",
      "  },\n",
      "  {\n",
      "    \"name\": \"John\",\n",
      "    \"Age\": 35,\n",
      "    \"country\": \"USA\"\n",
      "  }\n",
      "]\n",
      "using yaml: - Age: 22\n",
      "  country: India\n",
      "  name: pallabi\n",
      "- Age: 35\n",
      "  country: USA\n",
      "  name: John\n",
      "\n"
     ]
    }
   ],
   "source": [
    "# Example\n",
    "dict_ = [{'name':'pallabi', 'Age':22, 'country':'India'},\n",
    "         {'name':'John','Age':35, 'country':'USA' }]\n",
    "import pprint, json, yaml\n",
    "print(\"using pprint method:\")\n",
    "pprint.pprint(dict_)\n",
    "print(\"using json:\",json.dumps(dict_, indent=2))\n",
    "print(\"using yaml:\",yaml.dump(dict_))"
   ]
  },
  {
   "cell_type": "code",
   "execution_count": null,
   "id": "a2d7ec44",
   "metadata": {},
   "outputs": [],
   "source": []
  }
 ],
 "metadata": {
  "kernelspec": {
   "display_name": "Python 3 (ipykernel)",
   "language": "python",
   "name": "python3"
  },
  "language_info": {
   "codemirror_mode": {
    "name": "ipython",
    "version": 3
   },
   "file_extension": ".py",
   "mimetype": "text/x-python",
   "name": "python",
   "nbconvert_exporter": "python",
   "pygments_lexer": "ipython3",
   "version": "3.9.7"
  }
 },
 "nbformat": 4,
 "nbformat_minor": 5
}
