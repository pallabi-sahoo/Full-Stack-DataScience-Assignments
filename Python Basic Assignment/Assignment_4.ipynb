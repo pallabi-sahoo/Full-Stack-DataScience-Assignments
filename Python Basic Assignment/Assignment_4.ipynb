{
 "cells": [
  {
   "cell_type": "markdown",
   "id": "d563359d",
   "metadata": {},
   "source": [
    "# Assignment_4 Solutions"
   ]
  },
  {
   "cell_type": "markdown",
   "id": "e4f2e3e6",
   "metadata": {},
   "source": [
    "### 1. What exactly is [ ]?\n",
    "Ans: `[]` represents an empty list."
   ]
  },
  {
   "cell_type": "markdown",
   "id": "7609028a",
   "metadata": {},
   "source": [
    "### 2. In a list of values stored in a variable called spam, how would you assign the value 'hello' as the third value? (Assume [2, 4, 6, 8, 10] are in spam.)\n",
    "\n",
    "Ans: List follows zero based indexing, So to add the value \"hello\" as the third value we need to modify at ind2x 2 in the spam list.           \n",
    "`spam[2]= \"hello\" `"
   ]
  },
  {
   "cell_type": "code",
   "execution_count": 1,
   "id": "b11d8640",
   "metadata": {},
   "outputs": [
    {
     "name": "stdout",
     "output_type": "stream",
     "text": [
      "[2, 4, 6, 8, 10]\n",
      "[2, 4, 'hello', 8, 10]\n"
     ]
    }
   ],
   "source": [
    "# example\n",
    "spam=[2,4,6,8,10]\n",
    "print(spam)\n",
    "spam[2]='hello'\n",
    "print(spam)"
   ]
  },
  {
   "cell_type": "markdown",
   "id": "06b1a18d",
   "metadata": {},
   "source": [
    "## Let's pretend the spam includes the list ['a','b','c',d'] for the next three queries."
   ]
  },
  {
   "cell_type": "code",
   "execution_count": 2,
   "id": "4bb760ad",
   "metadata": {},
   "outputs": [
    {
     "data": {
      "text/plain": [
       "['a', 'b', 'c', 'd']"
      ]
     },
     "execution_count": 2,
     "metadata": {},
     "output_type": "execute_result"
    }
   ],
   "source": [
    "spam=['a','b','c','d']\n",
    "spam"
   ]
  },
  {
   "cell_type": "markdown",
   "id": "e68925aa",
   "metadata": {},
   "source": [
    "## 3. What is the value of spam[int(int('3'*2)//11)] ?\n",
    "Ans: `'d'`                                                             \n",
    "'3'*2 will give '33' as string data type                              \n",
    "int('33')=33 will convert the string to integer data type             \n",
    "now 33/11=3.0                                                        \n",
    "int(3.0)=3                                                            \n",
    "spam[3] will give value at index 3 in the spam is 'd'"
   ]
  },
  {
   "cell_type": "code",
   "execution_count": 3,
   "id": "791a0f63",
   "metadata": {},
   "outputs": [
    {
     "data": {
      "text/plain": [
       "'d'"
      ]
     },
     "execution_count": 3,
     "metadata": {},
     "output_type": "execute_result"
    }
   ],
   "source": [
    "#Example\n",
    "spam[int(int('3'*2)//11)]"
   ]
  },
  {
   "cell_type": "markdown",
   "id": "f2a1a61d",
   "metadata": {},
   "source": [
    "### 4. What is the value of spam[-1]?\n",
    "Ans:`d`                                                               \n",
    "List supports -ve indexing, Hence `spam[-11]` will return `d`"
   ]
  },
  {
   "cell_type": "code",
   "execution_count": 4,
   "id": "d5392d6d",
   "metadata": {},
   "outputs": [
    {
     "data": {
      "text/plain": [
       "'d'"
      ]
     },
     "execution_count": 4,
     "metadata": {},
     "output_type": "execute_result"
    }
   ],
   "source": [
    "#example\n",
    "spam[-1]"
   ]
  },
  {
   "cell_type": "markdown",
   "id": "7d73eb7a",
   "metadata": {},
   "source": [
    "### 5. What is the value of spam[:2]?\n",
    "Ans:`['a','b']`                                                       \n",
    "`spam[:2]` will return all elements in the spam list from 0 to 2 index but excluding 2, Hence `['a','b']` "
   ]
  },
  {
   "cell_type": "code",
   "execution_count": 5,
   "id": "d889a4a4",
   "metadata": {},
   "outputs": [
    {
     "data": {
      "text/plain": [
       "['a', 'b']"
      ]
     },
     "execution_count": 5,
     "metadata": {},
     "output_type": "execute_result"
    }
   ],
   "source": [
    "spam[:2]"
   ]
  },
  {
   "cell_type": "markdown",
   "id": "16b24770",
   "metadata": {},
   "source": [
    "## Let's pretend bacon has the list [3.14, 'cat,' 11, 'cat,' True] for the next three questions."
   ]
  },
  {
   "cell_type": "code",
   "execution_count": 6,
   "id": "82cae99d",
   "metadata": {},
   "outputs": [],
   "source": [
    "bacon=[3.14, 'cat', 11, 'cat', True]"
   ]
  },
  {
   "cell_type": "markdown",
   "id": "db10cd36",
   "metadata": {},
   "source": [
    "### 6. What is the value of bacon.index('cat')?\n",
    "Ans: `1`                                                              \n",
    "It will give the index of the first occurance of the 'cat' value in the bacon list, So `1`. "
   ]
  },
  {
   "cell_type": "code",
   "execution_count": 7,
   "id": "e3125a80",
   "metadata": {},
   "outputs": [
    {
     "data": {
      "text/plain": [
       "1"
      ]
     },
     "execution_count": 7,
     "metadata": {},
     "output_type": "execute_result"
    }
   ],
   "source": [
    "bacon.index('cat')"
   ]
  },
  {
   "cell_type": "markdown",
   "id": "ae23e1d9",
   "metadata": {},
   "source": [
    "### 7. How does bacon.append(99) change the look of the list value in bacon?\n",
    "Ans:It will append the value '99' at the end the list bacon           \n",
    "`[3.14,'cat', 11, 'cat', True]`"
   ]
  },
  {
   "cell_type": "code",
   "execution_count": 8,
   "id": "4e0de27c",
   "metadata": {},
   "outputs": [
    {
     "name": "stdout",
     "output_type": "stream",
     "text": [
      "[3.14, 'cat', 11, 'cat', True]\n",
      "[3.14, 'cat', 11, 'cat', True, 99]\n"
     ]
    }
   ],
   "source": [
    "#Example\n",
    "print(bacon)\n",
    "bacon.append(99)\n",
    "print(bacon)"
   ]
  },
  {
   "cell_type": "markdown",
   "id": "140c435e",
   "metadata": {},
   "source": [
    "### 8. How does bacon.remove('cat') change the look of the list in bacon?\n",
    "Ans: It will remove the first occurance of value 'cat' in the bacon list.                                                 \n",
    "`[3.14, 11, 'cat', True, 99]`"
   ]
  },
  {
   "cell_type": "code",
   "execution_count": 9,
   "id": "81df4bb1",
   "metadata": {},
   "outputs": [
    {
     "name": "stdout",
     "output_type": "stream",
     "text": [
      "[3.14, 11, 'cat', True, 99]\n"
     ]
    }
   ],
   "source": [
    "bacon.remove('cat')\n",
    "print(bacon)"
   ]
  },
  {
   "cell_type": "markdown",
   "id": "4adbbfc6",
   "metadata": {},
   "source": [
    "### 9. What are the list concatenation and list replication operators?\n",
    "Ans: The operator for list concatenation is `+` and list replication is `*`."
   ]
  },
  {
   "cell_type": "markdown",
   "id": "dca5966e",
   "metadata": {},
   "source": [
    "### 10. What is difference between the list methods append() and insert()?\n",
    "Ans:                                                                                                                       \n",
    "`append()`:append method appends the given object at the end of the list.                                                  \n",
    "`insert()`:insert method takes two argument index at which the object needs to be append and the object to insert. "
   ]
  },
  {
   "cell_type": "code",
   "execution_count": 10,
   "id": "5816de03",
   "metadata": {},
   "outputs": [
    {
     "name": "stdout",
     "output_type": "stream",
     "text": [
      "[1, 2, 3, 4, 5]\n",
      "[1, 2, 3, 'pal', 4, 5]\n"
     ]
    }
   ],
   "source": [
    "#Example\n",
    "list1 = [1,2,3,4]\n",
    "list1.append(5)\n",
    "print(list1)\n",
    "list1.insert(3,'pal')\n",
    "print(list1)"
   ]
  },
  {
   "cell_type": "markdown",
   "id": "93c47f4e",
   "metadata": {},
   "source": [
    "### 11. What are the two methods for removing items from a list?\n",
    "Ans: Two methods used for removing items from a list are:                                                                   \n",
    "`List.remove(object)`: Removes the first occurrence of the given object from the list                                       \n",
    "`List.pop(index = -1)` : Removes and returns item at the index (default is -1, the last element)"
   ]
  },
  {
   "cell_type": "code",
   "execution_count": 11,
   "id": "9d841bc8",
   "metadata": {},
   "outputs": [
    {
     "name": "stdout",
     "output_type": "stream",
     "text": [
      "[4, 6, 8, 2]\n",
      "[4, 6, 8]\n"
     ]
    }
   ],
   "source": [
    "#Example\n",
    "list1=[2,4,6,8,2]\n",
    "list1.remove(2)\n",
    "print(list1)\n",
    "list1.pop()\n",
    "print(list1)"
   ]
  },
  {
   "cell_type": "markdown",
   "id": "9fbb17fc",
   "metadata": {},
   "source": [
    "### 12. Describe how list values and string values are identical.\n",
    "Ans: While list is a collection of values in Python, string is a collection of characters. Both list and strings are iterable in Python and a `for` loop can be used around a list or string object to iterate through each element in the list/string and both can be passed to `len()` function."
   ]
  },
  {
   "cell_type": "markdown",
   "id": "2be5bd38",
   "metadata": {},
   "source": [
    "### 13. What's the difference between tuples and lists?\n",
    "Tuples are `immutable` where as lists in Python are `mutable`. So once created, the items inside a tuple cannot be changed."
   ]
  },
  {
   "cell_type": "markdown",
   "id": "1287100f",
   "metadata": {},
   "source": [
    "### 14. How do you type a tuple value that only contains the integer 42?\n",
    "Ans: It can can be written in either ways                                                                                  \n",
    "    1.`t1= tuple([42])` `or`                                                                                               \n",
    "    2. `t2=([42,])`"
   ]
  },
  {
   "cell_type": "code",
   "execution_count": 12,
   "id": "da48eb42",
   "metadata": {},
   "outputs": [
    {
     "name": "stdout",
     "output_type": "stream",
     "text": [
      "(42,) <class 'tuple'>\n",
      "(42,) <class 'tuple'>\n"
     ]
    }
   ],
   "source": [
    "#Example\n",
    "t1= tuple([42]) \n",
    "t2=(42,)\n",
    "print(t1, type(t1))\n",
    "print(t2, type(t2))"
   ]
  },
  {
   "cell_type": "markdown",
   "id": "dffd4bf0",
   "metadata": {},
   "source": [
    "### 15. How do you get a list value's tuple form? How do you get a tuple value's list form?\n",
    "Ans: The tuple() and list() functions, respectively are used to convert a list to tuple and vice versa"
   ]
  },
  {
   "cell_type": "code",
   "execution_count": 13,
   "id": "95d1576b",
   "metadata": {},
   "outputs": [
    {
     "name": "stdout",
     "output_type": "stream",
     "text": [
      "(1, 2, 3, 4, 5) <class 'tuple'>\n",
      "[6, 7, 8, 9, 10] <class 'list'>\n"
     ]
    }
   ],
   "source": [
    "#Example\n",
    "l=[1,2,3,4,5]\n",
    "t=(6,7,8,9,10)\n",
    "t1=tuple(l)\n",
    "l1=list(t)\n",
    "print(t1, type(t1))\n",
    "print(l1, type(l1))"
   ]
  },
  {
   "cell_type": "markdown",
   "id": "de0c6654",
   "metadata": {},
   "source": [
    "### 16. Variables that \"contain\" list values are not necessarily lists themselves. Instead, what do they contain?\n",
    "Ans: They contain references to the list values"
   ]
  },
  {
   "cell_type": "code",
   "execution_count": 14,
   "id": "0c915aae",
   "metadata": {},
   "outputs": [
    {
     "name": "stdout",
     "output_type": "stream",
     "text": [
      "['a', 'b', 'c', 89, True]\n",
      "1995574273344\n"
     ]
    }
   ],
   "source": [
    "var=['a','b','c',89, True]\n",
    "print(var)\n",
    "print(id(var)) #reference"
   ]
  },
  {
   "cell_type": "markdown",
   "id": "9aa21120",
   "metadata": {},
   "source": [
    "### 17. How do you distinguish between copy.copy() and copy.deepcopy()?\n",
    "Ans: \n",
    "- copy.copy() returns a shallow copy of list and copy.deepcopy() return a deep copy of list.\n",
    "- deepcopy: In case of deep copy, a copy of object is copied in other object. It means that any changes made to a copy of object do not reflect in the original object.\n",
    "- shallow copy: In case of shallow copy, a reference of object is copied in other object. It means that any changes made to a copy of object do reflect in the original object."
   ]
  },
  {
   "cell_type": "code",
   "execution_count": null,
   "id": "4498db65",
   "metadata": {},
   "outputs": [],
   "source": []
  }
 ],
 "metadata": {
  "kernelspec": {
   "display_name": "Python 3 (ipykernel)",
   "language": "python",
   "name": "python3"
  },
  "language_info": {
   "codemirror_mode": {
    "name": "ipython",
    "version": 3
   },
   "file_extension": ".py",
   "mimetype": "text/x-python",
   "name": "python",
   "nbconvert_exporter": "python",
   "pygments_lexer": "ipython3",
   "version": "3.9.7"
  }
 },
 "nbformat": 4,
 "nbformat_minor": 5
}
