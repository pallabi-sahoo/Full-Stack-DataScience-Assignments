{
 "cells": [
  {
   "cell_type": "markdown",
   "id": "bf50f679",
   "metadata": {},
   "source": [
    "## Assignment_2 Solutions"
   ]
  },
  {
   "cell_type": "markdown",
   "id": "c4f6fdaf",
   "metadata": {},
   "source": [
    "### 1.What are the two values of the boolean data types? how do you write them ?\n",
    "Ans: The two values of boolean data types are \"True\" and \"False\". We usually write it as, first letter should be capital and rests are in small cases. "
   ]
  },
  {
   "cell_type": "code",
   "execution_count": 1,
   "id": "9872d279",
   "metadata": {},
   "outputs": [
    {
     "name": "stdout",
     "output_type": "stream",
     "text": [
      "<class 'bool'>\n",
      "<class 'bool'>\n"
     ]
    }
   ],
   "source": [
    "# example\n",
    "a=True\n",
    "b=False\n",
    "print(type(a))\n",
    "print(type(b))"
   ]
  },
  {
   "cell_type": "markdown",
   "id": "2a2a853e",
   "metadata": {},
   "source": [
    "### 2. What are the three different types of Boolean operators?\n",
    "Ans: The three different types of boolean operators are: `and`,`or`,`not`"
   ]
  },
  {
   "cell_type": "code",
   "execution_count": 2,
   "id": "f8562d9e",
   "metadata": {},
   "outputs": [
    {
     "name": "stdout",
     "output_type": "stream",
     "text": [
      "True\n",
      "True\n",
      "False\n"
     ]
    }
   ],
   "source": [
    "# eaxmple\n",
    "a=10\n",
    "b=20\n",
    "print(a<100 and b<100) # in \"and\" operator both statement should be satisfy then only it returns \"True\" otherwise returns \"False\"\n",
    "print(a>5 or b>100) # in \"or\" operator any one statement should be satisfy\n",
    "print(not(a<200)) # it reverses the statement"
   ]
  },
  {
   "cell_type": "markdown",
   "id": "21432bbe",
   "metadata": {},
   "source": [
    "### 3. Make a list of each Boolean operator's truth tables (i.e. every possible combination of Boolean values for the operator and what it evaluate) ?\n",
    "Ans: The Truth tables for the boolean operator's are as follows:\n",
    "\n",
    "Truth Table for `and` operaotor                                                                                             \n",
    "True and True is True                                                                                                      \n",
    "True and False is False                                                                                                     \n",
    "False and True is False                                                                                                     \n",
    "False and False is False\n",
    "\n",
    "Truth Table for `or` operaotor                                                                                             \n",
    "True and True is True                                                                                                      \n",
    "True and False is True                                                                                                     \n",
    "False and True is True                                                                                                     \n",
    "False and False is False                                                                                                   \n",
    "\n",
    "Truth Table for `not` operaotor                                                                                             \n",
    "True not is False False not is True"
   ]
  },
  {
   "cell_type": "markdown",
   "id": "a20cda72",
   "metadata": {},
   "source": [
    "### 4. What are the values of the following expressions?\n",
    "Ans:                                                                                                                       \n",
    "(5 > 4) and (3 == 5) = `False`                                                                                             \n",
    "not (5 > 4) = `False`                                                                                                \n",
    "(5 > 4) or (3 == 5) = `True`                                                                                               \n",
    "not ((5 > 4) or (3 == 5)) = `False`                                                                                         \n",
    "(True and True) and (True == False) = `False`                                                                               \n",
    "(not False) or (not True) = `True`                                                                                         "
   ]
  },
  {
   "cell_type": "code",
   "execution_count": 3,
   "id": "a5d1bfb8",
   "metadata": {},
   "outputs": [
    {
     "name": "stdout",
     "output_type": "stream",
     "text": [
      "False\n",
      "False\n",
      "True\n",
      "False\n",
      "False\n",
      "True\n"
     ]
    }
   ],
   "source": [
    "print((5>4)and(3==5)) \n",
    "print(not(5>4)) \n",
    "print((5>4)or(3==5))\n",
    "print(not((5>4)or(3==5))) \n",
    "print((True and True)and(True==False)) \n",
    "print((not False)or(not True))"
   ]
  },
  {
   "cell_type": "markdown",
   "id": "27658ea4",
   "metadata": {},
   "source": [
    "### 5. What are the six comparison operators?                                                                                  \n",
    "Ans: The Six comparision operators available in python are:                                                                \n",
    "`==` , `!=` , `<` , `>` , `<=` , `=>`"
   ]
  },
  {
   "cell_type": "markdown",
   "id": "f8736941",
   "metadata": {},
   "source": [
    "### 6. How do you tell the difference between the equal to and assignment operators?Describe a condition and when you would use one ?\n",
    "Ans:                                                                                                                       \n",
    "`==` is the equal to operator that compares two values and evaluates to a boolean value, while `=` is the assignment operator that stores a value in a variable."
   ]
  },
  {
   "cell_type": "code",
   "execution_count": 4,
   "id": "3862dc15",
   "metadata": {},
   "outputs": [
    {
     "name": "stdout",
     "output_type": "stream",
     "text": [
      "False\n"
     ]
    }
   ],
   "source": [
    "# example\n",
    "x=5 # Assigning operator that stores value 5 in a variable x\n",
    "print(x==3) # comparing values of a varible and 3"
   ]
  },
  {
   "cell_type": "markdown",
   "id": "caaecb4f",
   "metadata": {},
   "source": [
    "### 7. Identify the three blocks in this code:                                                                                 \n",
    "`spam = 0`                                                                                                                 \n",
    "`if spam == 10:`                                                                                                          \n",
    "`print('eggs')`                                                                                                           \n",
    "`if spam > 5:`                                                                                                            \n",
    "`print('bacon')`                                                                                                          \n",
    "`else:`                                                                                                               \n",
    "`print('ham')`                                                                                                             \n",
    "`print('spam')`                                                                                                            \n",
    "`print('spam')`                                                                                                            "
   ]
  },
  {
   "cell_type": "code",
   "execution_count": 5,
   "id": "c0549e21",
   "metadata": {},
   "outputs": [
    {
     "name": "stdout",
     "output_type": "stream",
     "text": [
      "ham\n",
      "spam\n",
      "spam\n"
     ]
    }
   ],
   "source": [
    "# Ans:\n",
    "spam = 0\n",
    "if spam == 10:\n",
    "    print('eggs') #block1\n",
    "if spam > 5:\n",
    "    print('bacon') #block2\n",
    "else:\n",
    "    print('ham') #block3\n",
    "print('spam')\n",
    "print('spam')    "
   ]
  },
  {
   "cell_type": "markdown",
   "id": "3e37617f",
   "metadata": {},
   "source": [
    "### 8. Write code that prints Hello if 1 is stored in spam, prints Howdy if 2 is stored in spam, and prints Greetings! if anything else is stored in spam."
   ]
  },
  {
   "cell_type": "code",
   "execution_count": 6,
   "id": "1ff08981",
   "metadata": {},
   "outputs": [
    {
     "name": "stdout",
     "output_type": "stream",
     "text": [
      "Hello\n",
      "Howdy\n",
      "Greetings!\n"
     ]
    }
   ],
   "source": [
    "# Ans:\n",
    "def test(spam):\n",
    "    if spam==1:\n",
    "        print(\"Hello\")\n",
    "    elif spam==2:\n",
    "        print(\"Howdy\")\n",
    "    else:\n",
    "        print(\"Greetings!\")\n",
    "test(1)\n",
    "test(2)\n",
    "test(5)"
   ]
  },
  {
   "cell_type": "markdown",
   "id": "03a745e4",
   "metadata": {},
   "source": [
    "### 9.If your programme is stuck in an endless loop, what keys you’ll press?\n",
    "Ans: We have to Press `Ctrl-c` to stop the programme that is stuck in an endless loop."
   ]
  },
  {
   "cell_type": "markdown",
   "id": "55d39327",
   "metadata": {},
   "source": [
    "### 10. How can you tell the difference between break and continue?\n",
    "Ans: The `break` statement will move the execution outside the loop if break condtion is satisfied. Whereas the `continue` statement will move the execution to the start of the loop."
   ]
  },
  {
   "cell_type": "markdown",
   "id": "cf55a56a",
   "metadata": {},
   "source": [
    "### 11. In a for loop, what is the difference between range(10), range(0, 10), and range(0, 10, 1)?\n",
    "Ans:\n",
    "The Differences are as follows:\n",
    "\n",
    "1. The range(10) call range from 0 to 9 (but not include 10)\n",
    "2. The range (0,10) explicitly tells the loop to start at 0\n",
    "3. The range(0,10,1) explicitly tells the loop to increase the variable by 1 on each iteration"
   ]
  },
  {
   "cell_type": "markdown",
   "id": "9b42f0dc",
   "metadata": {},
   "source": [
    "### 12. Write a short program that prints the numbers 1 to 10 using a for loop. Then write an equivalent program that prints the numbers 1 to 10 using a while loop ?"
   ]
  },
  {
   "cell_type": "code",
   "execution_count": 7,
   "id": "8b4d8f5b",
   "metadata": {},
   "outputs": [
    {
     "name": "stdout",
     "output_type": "stream",
     "text": [
      "--Using For Loop--\n",
      "1 2 3 4 5 6 7 8 9 10 \n",
      "\n",
      "--Using While Loop--\n",
      "1 2 3 4 5 6 7 8 9 10 "
     ]
    }
   ],
   "source": [
    "print(\"--Using For Loop--\")\n",
    "for i in range(1,11):\n",
    "    print(i, end=\" \")\n",
    "    \n",
    "print('\\n')\n",
    "print(\"--Using While Loop--\")\n",
    "i=1\n",
    "while i<11:\n",
    "    print(i, end=\" \")\n",
    "    i=i+1"
   ]
  },
  {
   "cell_type": "markdown",
   "id": "f1bdff03",
   "metadata": {},
   "source": [
    "### 13. If you had a function named bacon() inside a module named spam, how would you call it after importing spam?\n",
    "Ans:This function will call as `spam.bacon()`"
   ]
  },
  {
   "cell_type": "code",
   "execution_count": null,
   "id": "35a5adb8",
   "metadata": {},
   "outputs": [],
   "source": []
  }
 ],
 "metadata": {
  "kernelspec": {
   "display_name": "Python 3 (ipykernel)",
   "language": "python",
   "name": "python3"
  },
  "language_info": {
   "codemirror_mode": {
    "name": "ipython",
    "version": 3
   },
   "file_extension": ".py",
   "mimetype": "text/x-python",
   "name": "python",
   "nbconvert_exporter": "python",
   "pygments_lexer": "ipython3",
   "version": "3.9.7"
  }
 },
 "nbformat": 4,
 "nbformat_minor": 5
}
