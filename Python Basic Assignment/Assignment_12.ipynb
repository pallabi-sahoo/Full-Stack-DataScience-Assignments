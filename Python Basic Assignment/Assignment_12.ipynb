{
 "cells": [
  {
   "cell_type": "markdown",
   "id": "bf2bbd3f",
   "metadata": {},
   "source": [
    "# Python Basic Assignment_12 Solutions"
   ]
  },
  {
   "cell_type": "markdown",
   "id": "05e78ea1",
   "metadata": {},
   "source": [
    "### 1. In what modes should the PdfFileReader() and PdfFileWriter() File objects will be opened?"
   ]
  },
  {
   "cell_type": "markdown",
   "id": "13dcecd9",
   "metadata": {},
   "source": [
    "**Ans:** For **`PdfFileReader()`** file objects will be opened in **`rb`**  (read binary mode), and **`PdfFileWriter()`** file objects will be opened in **`wb`** (write binary mode)."
   ]
  },
  {
   "cell_type": "markdown",
   "id": "b1bf0f55",
   "metadata": {},
   "source": [
    "### 2. From a PdfFileReader object, how do you get a Page object for page 5?\n",
    "**Ans:** `PdfFileReader` class provides a method called `getPage(page_no)` to get a page object."
   ]
  },
  {
   "cell_type": "markdown",
   "id": "003165db",
   "metadata": {},
   "source": [
    "### 3. What PdfFileReader variable stores the number of pages in the PDF document?\n",
    "**Ans:** `getNumPages()` method of `PdfFileReader` class stores the no pages in a PDF document"
   ]
  },
  {
   "cell_type": "markdown",
   "id": "2cea207a",
   "metadata": {},
   "source": [
    "### 4. If a PdfFileReader object’s PDF is encrypted with the password swordfish, what must you do before you can obtain Page objects from it?\n",
    "**Ans:** If a **`PdfFileReader`** object’s PDF is encrypted with the password **`swordfish`** and you're not aware of it. first read the Pdf using the PdfFileReader Class. PdfFileReader class provides a attribute called **`isEncrypted`** to check whether a pdf is encrypted or not. the method returns true if a pdf is encrypted and vice versa.  \n",
    "if pdf is encrypted use the **`decrypt()`** method provided by PdfFileReader class first then try to read the contents/pages of the pdf, else PyPDF2 will raise the following error **`PyPDF2.utils.PdfReadError: file has not been decrypted`**                                                                                                               \n",
    "**Example:** **`obj.decrypt(\"swordfish\")`**"
   ]
  },
  {
   "cell_type": "markdown",
   "id": "ed555fcb",
   "metadata": {},
   "source": [
    "### 5. What methods do you use to rotate a page?\n",
    "**Ans:** PyPDF2 Package provides 2 methods to rotate a page:\n",
    "1. **`rotateClockWise()`** -> For Clockwise rotation\n",
    "2. **`rotateCounterClockWise()`** -> For Counter Clockwise rotation  "
   ]
  },
  {
   "cell_type": "markdown",
   "id": "d8aa3ee2",
   "metadata": {},
   "source": [
    "### 6.What is the difference between a Run object and a Paragraph object?\n",
    "**Answer:** Aparagraps object is needed to get paragraph from a document, runs object is needed whenever text style changes in a paragraph."
   ]
  },
  {
   "cell_type": "markdown",
   "id": "b080c745",
   "metadata": {},
   "source": [
    "### 7.How do you obtain a list of Paragraph objects for a Document object that’s stored in a variable named doc?\n",
    "**Answer:** doc.paragraphs"
   ]
  },
  {
   "cell_type": "markdown",
   "id": "14bf10e6",
   "metadata": {},
   "source": [
    "### 8. What type of object has bold, underline, italic, strike, and outline variables?\n",
    "**Ans:** **`Run`**  object has bold, underline, italic, strike, and outline variables."
   ]
  },
  {
   "cell_type": "markdown",
   "id": "6e2a4adf",
   "metadata": {},
   "source": [
    "### 9.What is the difference between False, True, and None for the bold variable?\n",
    "**Ans:** \n",
    "- True = bold is always enabled no matter what other styles are applied to the run\n",
    "- False = bold is always disabled\n",
    "- None = defaults to whatever the run's style set to"
   ]
  },
  {
   "cell_type": "markdown",
   "id": "4d444122",
   "metadata": {},
   "source": [
    "### 10.How do you create a Document object for a new Word document?\n",
    "**Ans:**                                                                                                                   \n",
    "import docx\n",
    "\n",
    "doc=docx.Document(.docx file name)"
   ]
  },
  {
   "cell_type": "markdown",
   "id": "41951358",
   "metadata": {},
   "source": [
    "### 11.How do you add a paragraph with the text 'Hello, there!' to a Document object stored in a variable named doc?\n",
    "**Ans:** doc.add_paragraph(\"Hello, there!\")"
   ]
  },
  {
   "cell_type": "markdown",
   "id": "a8843d5c",
   "metadata": {},
   "source": [
    "### 12.What integers represent the levels of headings available in Word documents?\n",
    "**Ans:** 0 to 4"
   ]
  },
  {
   "cell_type": "code",
   "execution_count": null,
   "id": "0de14feb",
   "metadata": {},
   "outputs": [],
   "source": []
  }
 ],
 "metadata": {
  "kernelspec": {
   "display_name": "Python 3 (ipykernel)",
   "language": "python",
   "name": "python3"
  },
  "language_info": {
   "codemirror_mode": {
    "name": "ipython",
    "version": 3
   },
   "file_extension": ".py",
   "mimetype": "text/x-python",
   "name": "python",
   "nbconvert_exporter": "python",
   "pygments_lexer": "ipython3",
   "version": "3.9.7"
  }
 },
 "nbformat": 4,
 "nbformat_minor": 5
}
