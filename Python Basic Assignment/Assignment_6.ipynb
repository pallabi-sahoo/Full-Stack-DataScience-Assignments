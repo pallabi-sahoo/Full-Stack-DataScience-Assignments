{
 "cells": [
  {
   "cell_type": "markdown",
   "id": "5236eb44",
   "metadata": {},
   "source": [
    "# Python Basic Assignment_6 Solutions"
   ]
  },
  {
   "cell_type": "markdown",
   "id": "c3a6f3ba",
   "metadata": {},
   "source": [
    "### 1.What are Escape characters ? and how do you use them ?\n",
    "**Ans:** Escape characters represent characters in string values. It is used in representing certain whitespace characters: \"\\t\" is a tab, \"\\n\" is a newline, and \"\\r\" is a carriage return"
   ]
  },
  {
   "cell_type": "markdown",
   "id": "36e34564",
   "metadata": {},
   "source": [
    "### 2.What do the escape characters n and t stand for ?\n",
    "**Ans:** `\\n` is a newline, `\\t` is a tab"
   ]
  },
  {
   "cell_type": "markdown",
   "id": "9336aa5a",
   "metadata": {},
   "source": [
    "### 3.What is the way to include backslash character in a string?\n",
    "Ans: The `\\\\` escape character will represent the backslash character in a string"
   ]
  },
  {
   "cell_type": "code",
   "execution_count": 1,
   "id": "43d1e8c4",
   "metadata": {},
   "outputs": [
    {
     "name": "stdout",
     "output_type": "stream",
     "text": [
      "It's a backslash \\\n"
     ]
    }
   ],
   "source": [
    "#Example\n",
    "print(\"It's a backslash \\\\\")"
   ]
  },
  {
   "cell_type": "markdown",
   "id": "7e3341c7",
   "metadata": {},
   "source": [
    "### 4.The string \"Howl's Moving Castle\" is a correct value. Why isn't the single quote character in the word Howl's not escaped a problem ?\n",
    "**Ans:** The string `\"Howl's Moving Castle\"` escaped the problem because it is wrapped inside double quotes. if its wrapped inside single quotes then we have to use escape character `\\'` to show single quote in the final output  \n",
    "`'Howl\\'s Moving Castle'` **`->`** `'Howl's Moving Castle'`"
   ]
  },
  {
   "cell_type": "markdown",
   "id": "573ebf50",
   "metadata": {},
   "source": [
    "### 5. How do you write a string of newlines if you don't want to use the n character?\n",
    "**Ans:** We can use Pythons Multiline string that allow you to use newlines in string without the `\\n` escape character and that can be done using triple quotes.  "
   ]
  },
  {
   "cell_type": "code",
   "execution_count": 2,
   "id": "26e958dd",
   "metadata": {},
   "outputs": [
    {
     "name": "stdout",
     "output_type": "stream",
     "text": [
      "Ineuron Full stack\n",
      "Data Science\n"
     ]
    }
   ],
   "source": [
    "#Example\n",
    "multiline=\"\"\"Ineuron Full stack\n",
    "Data Science\"\"\"\n",
    "print(multiline)"
   ]
  },
  {
   "cell_type": "markdown",
   "id": "c145792a",
   "metadata": {},
   "source": [
    "### 6.What are the values of the given expressions ?\n",
    "`'Hello, world!'[1]  \n",
    "'Hello, world!'[0:5]  \n",
    "'Hello, world!'[:5]  \n",
    "'Hello, world!'[3:] `                                                                                                     \n",
    "**Ans:** The values for the given expressions are:  \n",
    "'Hello, world!'[1] **`->`**  `'e'`  \n",
    "'Hello, world!'[0:5] **`->`**  `'Hello'`  \n",
    "'Hello, world!'[:5] **`->`**  `'Hello'`  \n",
    "'Hello, world!'[3:] **`->`**  `'lo, world!'`"
   ]
  },
  {
   "cell_type": "code",
   "execution_count": 3,
   "id": "586d16f2",
   "metadata": {},
   "outputs": [
    {
     "name": "stdout",
     "output_type": "stream",
     "text": [
      "e\n",
      "Hello\n",
      "Hello\n",
      "lo, world!\n"
     ]
    }
   ],
   "source": [
    "print('Hello, world!'[1] )\n",
    "print('Hello, world!'[0:5] )\n",
    "print('Hello, world!'[:5])\n",
    "print('Hello, world!'[3:])"
   ]
  },
  {
   "cell_type": "markdown",
   "id": "2b778afd",
   "metadata": {},
   "source": [
    "### 7.What are the values of the following expressions ?\n",
    "`'Hello'.upper()\n",
    "'Hello'.upper().isupper()\n",
    "'Hello'.upper().lower()`                                                                                                   \n",
    "\n",
    "**Ans:** The values for the given expressions are:                                                                         \n",
    "'Hello'.upper() -> `'HELLO'`                                                                                               \n",
    "'Hello'.upper().isupper() -> `True`                                                                                         \n",
    "'Hello'.upper().lower() -> `'hello'`                                                                                      "
   ]
  },
  {
   "cell_type": "code",
   "execution_count": 4,
   "id": "4e0e2a3d",
   "metadata": {},
   "outputs": [
    {
     "name": "stdout",
     "output_type": "stream",
     "text": [
      "HELLO\n",
      "True\n",
      "hello\n"
     ]
    }
   ],
   "source": [
    "print('Hello'.upper() )\n",
    "print('Hello'.upper().isupper())\n",
    "print('Hello'.upper().lower() )"
   ]
  },
  {
   "cell_type": "markdown",
   "id": "e8f68c05",
   "metadata": {},
   "source": [
    "### 8.What are the values of the following expressions ?\n",
    "'Remember, remember, the fifith of July.'.split()  \n",
    "-'.join('There can only one'.split())\n",
    "\n",
    "**Ans:** The values for the given expressions are:                                                                         \n",
    "'Remember, remember, the fifith of July.'.split() -> `['Remember,', 'remember,', 'the', 'fifith', 'of', 'July.']`          \n",
    "'-'.join('There can only one'.split()) -> `'There-can-only-one'`"
   ]
  },
  {
   "cell_type": "markdown",
   "id": "46ffe13c",
   "metadata": {},
   "source": [
    "### 9.What are the methods for right-justifying, left-justifying and centering a string ?\n",
    "**Ans:** The `rjust()`, `ljust()`, `center()` string methods, respectively"
   ]
  },
  {
   "cell_type": "markdown",
   "id": "dc600f98",
   "metadata": {},
   "source": [
    "### 10.What is the best way to remove whitespace characters from the start or end ?\n",
    "Ans: The `lstrip()` and `rstrip()` methods remove whitesapce characters from the left and right ends of a string respectively"
   ]
  },
  {
   "cell_type": "code",
   "execution_count": null,
   "id": "115db30d",
   "metadata": {},
   "outputs": [],
   "source": []
  }
 ],
 "metadata": {
  "kernelspec": {
   "display_name": "Python 3 (ipykernel)",
   "language": "python",
   "name": "python3"
  },
  "language_info": {
   "codemirror_mode": {
    "name": "ipython",
    "version": 3
   },
   "file_extension": ".py",
   "mimetype": "text/x-python",
   "name": "python",
   "nbconvert_exporter": "python",
   "pygments_lexer": "ipython3",
   "version": "3.9.7"
  }
 },
 "nbformat": 4,
 "nbformat_minor": 5
}
