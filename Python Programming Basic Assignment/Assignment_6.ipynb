{
 "cells": [
  {
   "cell_type": "markdown",
   "id": "d9951b05",
   "metadata": {},
   "source": [
    "# Assignment_6 Solutions"
   ]
  },
  {
   "cell_type": "markdown",
   "id": "d5ca11ae",
   "metadata": {},
   "source": [
    "### 1. Write a Python Program to Display Fibonacci Sequence using Recursion ?"
   ]
  },
  {
   "cell_type": "code",
   "execution_count": 1,
   "id": "ddedf513",
   "metadata": {},
   "outputs": [
    {
     "name": "stdout",
     "output_type": "stream",
     "text": [
      "0 2 2 4 6 10 16 26 42 68 110 178 288 466 754 1220 1974 3194 5168 8362 "
     ]
    }
   ],
   "source": [
    "def fibonacci(a,b,n):\n",
    "    \"\"\"Function to Display Fibonacci Sequence using Recursion\"\"\"\n",
    "    if n > 0:\n",
    "        n -= 1\n",
    "        print(a, end=' ')\n",
    "        temp = b\n",
    "        b = a + b\n",
    "        a = temp\n",
    "        fibonacci(a,b,n)\n",
    "        \n",
    "fibonacci(0,2,20)"
   ]
  },
  {
   "cell_type": "markdown",
   "id": "b583f37e",
   "metadata": {},
   "source": [
    "### 2. Write a Python Program to Find Factorial of Number Using Recursion?"
   ]
  },
  {
   "cell_type": "code",
   "execution_count": 2,
   "id": "e456b285",
   "metadata": {},
   "outputs": [
    {
     "name": "stdout",
     "output_type": "stream",
     "text": [
      "Enter a number: 5\n",
      "Factorial of 5 is 120\n"
     ]
    }
   ],
   "source": [
    "def factorial(n):\n",
    "    \"\"\"Function to Find Factorial of Number Using Recursion\"\"\"\n",
    "    if n==0:\n",
    "        return 1\n",
    "    else:\n",
    "        return n*factorial(n-1)\n",
    "num=int(input(\"Enter a number: \"))\n",
    "print(f'Factorial of {num} is {factorial(num)}')"
   ]
  },
  {
   "cell_type": "markdown",
   "id": "d482d862",
   "metadata": {},
   "source": [
    "### 3. Write a Python Program to Calculate your Body Mass Index ?"
   ]
  },
  {
   "cell_type": "code",
   "execution_count": 3,
   "id": "67cbbdf3",
   "metadata": {},
   "outputs": [
    {
     "name": "stdout",
     "output_type": "stream",
     "text": [
      "Enter your Weight(kgs): 50\n",
      "Enter your Height(mts): 1.58\n",
      "Your BMI is 20.028841531805796\n"
     ]
    }
   ],
   "source": [
    "def cal_BMI():\n",
    "    weight = eval(input('Enter your Weight(kgs): '))\n",
    "    height = eval(input('Enter your Height(mts): '))\n",
    "    bmi = weight/pow(height,2)\n",
    "    print(f'Your BMI is {bmi}')\n",
    "cal_BMI()"
   ]
  },
  {
   "cell_type": "markdown",
   "id": "3ea97f1b",
   "metadata": {},
   "source": [
    "### 4. Write a Python Program to calculate the natural logarithm of any number?"
   ]
  },
  {
   "cell_type": "code",
   "execution_count": 4,
   "id": "089ac29b",
   "metadata": {},
   "outputs": [
    {
     "name": "stdout",
     "output_type": "stream",
     "text": [
      "Enter a number: 15\n",
      "Logaritm of 15 is 2.70805020110221\n"
     ]
    }
   ],
   "source": [
    "import math\n",
    "def logarithm():\n",
    "    \"\"\"Function to calculate the natural logarithm of any number\"\"\"\n",
    "    num=int(input(\"Enter a number: \"))\n",
    "    print(f'Logaritm of {num} is {math.log(num)}')\n",
    "\n",
    "logarithm()"
   ]
  },
  {
   "cell_type": "markdown",
   "id": "dbd0603c",
   "metadata": {},
   "source": [
    "### 5. Write a Python Program for cube sum of first n natural numbers?"
   ]
  },
  {
   "cell_type": "code",
   "execution_count": 5,
   "id": "90a65a7d",
   "metadata": {},
   "outputs": [
    {
     "data": {
      "text/plain": [
       "100"
      ]
     },
     "execution_count": 5,
     "metadata": {},
     "output_type": "execute_result"
    }
   ],
   "source": [
    "def cub_sum(n):\n",
    "    \"\"\"Function for cube sum of first n natural numbers \"\"\"\n",
    "    sum=0\n",
    "    for i in range(n+1):\n",
    "        sum=sum+i**3\n",
    "    return sum\n",
    "cub_sum(4)"
   ]
  },
  {
   "cell_type": "code",
   "execution_count": null,
   "id": "a6a531df",
   "metadata": {},
   "outputs": [],
   "source": []
  }
 ],
 "metadata": {
  "kernelspec": {
   "display_name": "Python 3 (ipykernel)",
   "language": "python",
   "name": "python3"
  },
  "language_info": {
   "codemirror_mode": {
    "name": "ipython",
    "version": 3
   },
   "file_extension": ".py",
   "mimetype": "text/x-python",
   "name": "python",
   "nbconvert_exporter": "python",
   "pygments_lexer": "ipython3",
   "version": "3.9.7"
  }
 },
 "nbformat": 4,
 "nbformat_minor": 5
}
