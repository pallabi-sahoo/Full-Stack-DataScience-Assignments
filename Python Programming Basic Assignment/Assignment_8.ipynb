{
 "cells": [
  {
   "cell_type": "markdown",
   "id": "d9f46ddb",
   "metadata": {},
   "source": [
    "# Assignment_8 Solutions"
   ]
  },
  {
   "cell_type": "markdown",
   "id": "af1b0f8f",
   "metadata": {},
   "source": [
    "### 1. Write a Python Program to Add Two Matrices?"
   ]
  },
  {
   "cell_type": "code",
   "execution_count": 1,
   "id": "f4de3afc",
   "metadata": {},
   "outputs": [],
   "source": [
    "def matrix_add(m1,m2):\n",
    "    \"\"\"Function to Add Two Matrices\"\"\"\n",
    "    list_=[]\n",
    "    if len(m1)==len(m2):\n",
    "        for i in range(len(m1)):\n",
    "            r=[]\n",
    "            for j in range(len(m1)):\n",
    "                r.append(m1[i][j]+m2[i][j])\n",
    "            list_.append(r)\n",
    "    else:\n",
    "        print(\"Please Enter the matrix of same length\")\n",
    "    return list_"
   ]
  },
  {
   "cell_type": "code",
   "execution_count": 2,
   "id": "eb60355e",
   "metadata": {},
   "outputs": [
    {
     "data": {
      "text/plain": [
       "[[103, 108, 104], [103, 112, 104], [104, 104, 104]]"
      ]
     },
     "execution_count": 2,
     "metadata": {},
     "output_type": "execute_result"
    }
   ],
   "source": [
    "matrix_add([[12,26,31],[42,59,60],[71,82,93]],[[91,82,73],[61,53,44],[33,22,11]])"
   ]
  },
  {
   "cell_type": "markdown",
   "id": "88ee9bb3",
   "metadata": {},
   "source": [
    "### 2. Write a Python Program to Multiply two Matrices ?"
   ]
  },
  {
   "cell_type": "code",
   "execution_count": 3,
   "id": "7516ad53",
   "metadata": {},
   "outputs": [
    {
     "name": "stdout",
     "output_type": "stream",
     "text": [
      "[[18, 24, 30], [54, 69, 84], [90, 114, 138]]\n"
     ]
    }
   ],
   "source": [
    "m1 = [[1,2,3],[4,5,6],[7,8,9]]\n",
    "m2 = [[7,8,9],[4,5,6],[1,2,3]]\n",
    "\n",
    "def matrice_multiply(m1,m2):\n",
    "    list_ = []\n",
    "    if len(m1[0]) == len(m2):\n",
    "        for e in range(len(m1[0])):\n",
    "            list_.append([0 for e in range(len(m2[0]))])\n",
    "        for i in range(len(m1)):\n",
    "            for j in range(len(m2[0])):\n",
    "                for k in range(len(m2)):\n",
    "                    list_[i][j] += m1[i][k]*m2[k][j]\n",
    "        print(list_)     \n",
    "    else:\n",
    "        print('Matrix Multiplication is Not Possible')\n",
    "        \n",
    "matrice_multiply(m1, m2)"
   ]
  },
  {
   "cell_type": "markdown",
   "id": "c8229112",
   "metadata": {},
   "source": [
    "### 3. Write a Python Program to transpose a Matrix ?"
   ]
  },
  {
   "cell_type": "code",
   "execution_count": 4,
   "id": "701c119f",
   "metadata": {},
   "outputs": [
    {
     "name": "stdout",
     "output_type": "stream",
     "text": [
      "[[1, 2, 3], [4, 5, 6], [7, 8, 9]] -> [[1, 4, 7], [2, 5, 8], [3, 6, 9]]\n"
     ]
    }
   ],
   "source": [
    "mat = [[1,2,3],[4,5,6],[7,8,9]]\n",
    "\n",
    "def generate_transpose(in_matrix):\n",
    "    \"\"\"Function to transpose a Matrix\"\"\"\n",
    "    out_matrix = []\n",
    "    for ele in range(len(in_matrix[0])):\n",
    "        out_matrix.append([0 for i in range(len(in_matrix))])\n",
    "    for i in range(len(in_matrix)):\n",
    "        for j in range(len(in_matrix[i])):\n",
    "            out_matrix[j][i] = in_matrix[i][j]\n",
    "    print(f'{in_matrix} -> {out_matrix}')\n",
    "    \n",
    "generate_transpose(mat)"
   ]
  },
  {
   "cell_type": "markdown",
   "id": "6df39c57",
   "metadata": {},
   "source": [
    "### 4. Write a Python Program to sort Words in an Alphabatical Order ?\n"
   ]
  },
  {
   "cell_type": "code",
   "execution_count": null,
   "id": "8061323e",
   "metadata": {},
   "outputs": [],
   "source": [
    "def sortstring():\n",
    "    \"\"\"Function to sort Words in an Alphabatical Order\"\"\"\n",
    "    in_string = input(\"Enter a String: \").title()\n",
    "    sorted_list = sorted(in_string.split(' '))\n",
    "    print(' '.join(sorted_list))\n",
    "\n",
    "sortstring()"
   ]
  },
  {
   "cell_type": "markdown",
   "id": "4059b158",
   "metadata": {},
   "source": [
    "### 5. Write a Python Program to Remove Punctuation From a String?"
   ]
  },
  {
   "cell_type": "code",
   "execution_count": null,
   "id": "9d0c425a",
   "metadata": {},
   "outputs": [],
   "source": [
    "def remove_punctuatuions():\n",
    "    \"\"\"Function to Remove Punctuation From a String\"\"\"\n",
    "    punctuations = '''!()-[]{};:'\"\\,<>./?@#$%^&*_~'''\n",
    "    string = input('Enter a String: ')\n",
    "    out_string = ''\n",
    "    for char in string:\n",
    "        if char not in punctuations:\n",
    "            out_string += char\n",
    "    print(out_string)\n",
    "    \n",
    "remove_punctuatuions()"
   ]
  },
  {
   "cell_type": "code",
   "execution_count": null,
   "id": "58a09153",
   "metadata": {},
   "outputs": [],
   "source": []
  }
 ],
 "metadata": {
  "kernelspec": {
   "display_name": "Python 3 (ipykernel)",
   "language": "python",
   "name": "python3"
  },
  "language_info": {
   "codemirror_mode": {
    "name": "ipython",
    "version": 3
   },
   "file_extension": ".py",
   "mimetype": "text/x-python",
   "name": "python",
   "nbconvert_exporter": "python",
   "pygments_lexer": "ipython3",
   "version": "3.9.7"
  }
 },
 "nbformat": 4,
 "nbformat_minor": 5
}
