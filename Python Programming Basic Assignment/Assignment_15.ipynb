{
 "cells": [
  {
   "cell_type": "markdown",
   "id": "a60c9a0d",
   "metadata": {},
   "source": [
    "# Python Programming Basic Assignment_15 Solutions"
   ]
  },
  {
   "cell_type": "markdown",
   "id": "fff17979",
   "metadata": {},
   "source": [
    "### 1. Please write a program using generator to print the numbers which can be divisible by 5 and 7 between 0 and n in comma separated form while n is input by console.\n",
    "Example:                                                                                                                   \n",
    "If the following n is given as input to the program: 100                                                                  \n",
    "Then, the output of the program should be: 0,35,70                                                                         "
   ]
  },
  {
   "cell_type": "code",
   "execution_count": 1,
   "id": "13a4ba5d",
   "metadata": {},
   "outputs": [
    {
     "name": "stdout",
     "output_type": "stream",
     "text": [
      "Enter the value of n: 100\n",
      "0,35,70\n"
     ]
    }
   ],
   "source": [
    "def gen():\n",
    "    n= int(input(\"Enter the value of n: \"))\n",
    "    for i in range(n+1):\n",
    "        if i%5==0 and i%7==0:\n",
    "            yield str(i)\n",
    "            \n",
    "print(','.join([i for i in gen()]))"
   ]
  },
  {
   "cell_type": "markdown",
   "id": "38f5188e",
   "metadata": {},
   "source": [
    "### 2. Please write a program using generator to print the even numbers between 0 and n in comma separated form while n is input by console.\n",
    "Example:                                                                                                               \n",
    "If the following n is given as input to the program: 10                                                                                                                  \n",
    "Then, the output of the program should be: 0,2,4,6,8,10                                                                                     "
   ]
  },
  {
   "cell_type": "code",
   "execution_count": 2,
   "id": "1cd1ef5e",
   "metadata": {},
   "outputs": [
    {
     "name": "stdout",
     "output_type": "stream",
     "text": [
      "Enter the value of n: 10\n",
      "0,2,4,6,8,10\n"
     ]
    }
   ],
   "source": [
    "def gen2():\n",
    "    n= int(input(\"Enter the value of n: \"))\n",
    "    for i in range(n+1):\n",
    "        if i%2==0:\n",
    "            yield str(i)\n",
    "            \n",
    "print(','.join([i for i in gen2()]))"
   ]
  },
  {
   "cell_type": "markdown",
   "id": "19b86af8",
   "metadata": {},
   "source": [
    "The Fibonacci Sequence is computed based on the following formula:                                                       \n",
    "f(n)=0 if n=0                                                                                                               \n",
    "f(n)=1 if n=1                                                                                                               \n",
    "f(n)=f(n-1)+f(n-2) if n&gt;1                                                                                               \n",
    "\n",
    "### 3. Please write a program using list comprehension to print the Fibonacci Sequence in comma separated form with a given n input by console.\n",
    "Example:                                                                                                                \n",
    "If the following n is given as input to the program: 7                                                                     \n",
    "Then, the output of the program should be: 0,1,1,2,3,5,8,13                                                                "
   ]
  },
  {
   "cell_type": "code",
   "execution_count": 3,
   "id": "111b3f06",
   "metadata": {},
   "outputs": [
    {
     "name": "stdout",
     "output_type": "stream",
     "text": [
      "0,1,1,2,3,5,8,13\n"
     ]
    }
   ],
   "source": [
    "def fibo(n):\n",
    "    i = 0\n",
    "    j = 1\n",
    "    for k in range(n+1):\n",
    "        yield i\n",
    "        i,j = j, i+j\n",
    "        \n",
    "print(','.join([str(num) for num in fibo(7)]))"
   ]
  },
  {
   "cell_type": "markdown",
   "id": "7b4f0b42",
   "metadata": {},
   "source": [
    "### 4. Assuming that we have some email addresses in the &quot;username@companyname.com&quot; format, please write program to print the user name of a given email address. Both user names and company names are composed of letters only.\n",
    "Example:                                                                                                                   \n",
    "If the following email address is given as input to the program: john@google.com                                           \n",
    "Then, the output of the program should be: john                                                                             "
   ]
  },
  {
   "cell_type": "code",
   "execution_count": 4,
   "id": "3c17116b",
   "metadata": {},
   "outputs": [
    {
     "data": {
      "text/plain": [
       "'john'"
      ]
     },
     "execution_count": 4,
     "metadata": {},
     "output_type": "execute_result"
    }
   ],
   "source": [
    "def username(email: str):\n",
    "    return email.split('@')[0]\n",
    "\n",
    "username('john@google.com')"
   ]
  },
  {
   "cell_type": "markdown",
   "id": "605d34b0",
   "metadata": {},
   "source": [
    "### 5. Define a class named Shape and its subclass Square. The Square class has an init function which takes a length as argument. Both classes have a area function which can print the area of the shape where Shape&#39;s area is 0 by default."
   ]
  },
  {
   "cell_type": "code",
   "execution_count": 5,
   "id": "5857b497",
   "metadata": {},
   "outputs": [
    {
     "name": "stdout",
     "output_type": "stream",
     "text": [
      "5625\n"
     ]
    }
   ],
   "source": [
    "class Shape:\n",
    "    def area(self):\n",
    "        return 0\n",
    "\n",
    "class Square(Shape):\n",
    "    def __init__(self, length):\n",
    "        self.length = length\n",
    "    def area(self):\n",
    "        return self.length*self.length\n",
    "\n",
    "square = Square(75)\n",
    "print(square.area())"
   ]
  },
  {
   "cell_type": "code",
   "execution_count": null,
   "id": "da5365e2",
   "metadata": {},
   "outputs": [],
   "source": []
  }
 ],
 "metadata": {
  "kernelspec": {
   "display_name": "Python 3 (ipykernel)",
   "language": "python",
   "name": "python3"
  },
  "language_info": {
   "codemirror_mode": {
    "name": "ipython",
    "version": 3
   },
   "file_extension": ".py",
   "mimetype": "text/x-python",
   "name": "python",
   "nbconvert_exporter": "python",
   "pygments_lexer": "ipython3",
   "version": "3.9.7"
  }
 },
 "nbformat": 4,
 "nbformat_minor": 5
}
