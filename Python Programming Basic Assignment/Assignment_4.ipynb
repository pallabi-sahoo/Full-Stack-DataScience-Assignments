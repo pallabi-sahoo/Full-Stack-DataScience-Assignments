{
 "cells": [
  {
   "cell_type": "markdown",
   "id": "811a2989",
   "metadata": {},
   "source": [
    "# Assignment_4 Solutionsm"
   ]
  },
  {
   "cell_type": "markdown",
   "id": "197451a2",
   "metadata": {},
   "source": [
    "### 1.Write a Python Program to find the factorial of a number ?"
   ]
  },
  {
   "cell_type": "code",
   "execution_count": 1,
   "id": "6c06d3b2",
   "metadata": {},
   "outputs": [
    {
     "name": "stdout",
     "output_type": "stream",
     "text": [
      "Enter a number: 5\n",
      "The Factorial of 5 is 120\n"
     ]
    }
   ],
   "source": [
    "def fact():\n",
    "    \"\"\"Function to find the factorial of a number \"\"\"\n",
    "    num = int(input(\"Enter a number: \"))\n",
    "    fact=1\n",
    "    if num<1:\n",
    "        return 1\n",
    "    else:\n",
    "        for i in range(num, 0 ,-1):\n",
    "            fact = fact*i \n",
    "        print(f'The Factorial of {num} is {fact}')\n",
    "fact()"
   ]
  },
  {
   "cell_type": "markdown",
   "id": "1c0936cb",
   "metadata": {},
   "source": [
    "### 2.Write a Python Program to display the multiplication table ?"
   ]
  },
  {
   "cell_type": "code",
   "execution_count": 2,
   "id": "430cafcf",
   "metadata": {},
   "outputs": [
    {
     "name": "stdout",
     "output_type": "stream",
     "text": [
      "Enter a number: 5\n",
      "Enter no of entries: 15\n",
      "5 X 1 = 5\n",
      "5 X 2 = 10\n",
      "5 X 3 = 15\n",
      "5 X 4 = 20\n",
      "5 X 5 = 25\n",
      "5 X 6 = 30\n",
      "5 X 7 = 35\n",
      "5 X 8 = 40\n",
      "5 X 9 = 45\n",
      "5 X 10 = 50\n",
      "5 X 11 = 55\n",
      "5 X 12 = 60\n",
      "5 X 13 = 65\n",
      "5 X 14 = 70\n",
      "5 X 15 = 75\n"
     ]
    }
   ],
   "source": [
    "def MulTable(base,entries):\n",
    "    for x in range(1, entries+1):\n",
    "        print(f'{base} X {x} = {base*x}')\n",
    "\n",
    "num = int(input('Enter a number: '))\n",
    "entries = int(input('Enter no of entries: '))\n",
    "MulTable(num,entries)"
   ]
  },
  {
   "cell_type": "markdown",
   "id": "cb232de8",
   "metadata": {},
   "source": [
    "### 3.Write a Python Program to print the fibonacci sequence ?"
   ]
  },
  {
   "cell_type": "code",
   "execution_count": 3,
   "id": "2a372d2e",
   "metadata": {},
   "outputs": [
    {
     "name": "stdout",
     "output_type": "stream",
     "text": [
      "Enter length: 10\n",
      "Fibonacci Series:  0 1 1 2 3 5 8 13 21 34 "
     ]
    }
   ],
   "source": [
    "n = int(input(\"Enter length: \"))\n",
    "a = 0\n",
    "b = 1\n",
    "sum = 0\n",
    "count = 1\n",
    "print(\"Fibonacci Series: \", end=\" \")\n",
    "while(count <= n):\n",
    "    print(sum, end = \" \")\n",
    "    count += 1\n",
    "    a = b\n",
    "    b = sum\n",
    "    sum = a + b"
   ]
  },
  {
   "cell_type": "markdown",
   "id": "5f123218",
   "metadata": {},
   "source": [
    "### 4. Write a Python Program to Check Armstrong Number?"
   ]
  },
  {
   "cell_type": "code",
   "execution_count": 4,
   "id": "16af06d8",
   "metadata": {},
   "outputs": [
    {
     "name": "stdout",
     "output_type": "stream",
     "text": [
      "Enter number to check: 153\n",
      "153 is a Armstrong number\n"
     ]
    }
   ],
   "source": [
    "def arm_check():\n",
    "    \"\"\"Function to check Armstrong number\"\"\"\n",
    "    num = int(input(\"Enter number to check: \"))\n",
    "    sum = 0\n",
    "    temp = num\n",
    "    while temp>0:\n",
    "        r = temp%10\n",
    "        sum = sum + r**3\n",
    "        temp = temp//10\n",
    "    if num==sum:\n",
    "        print(f'{num} is a Armstrong number')\n",
    "    else:\n",
    "        print(f'{num} is not a Armstrong number')\n",
    "arm_check()            "
   ]
  },
  {
   "cell_type": "markdown",
   "id": "cb9f4090",
   "metadata": {},
   "source": [
    "### 5. Write a Python Program to Find Armstrong Number in an Interval?"
   ]
  },
  {
   "cell_type": "code",
   "execution_count": 8,
   "id": "bf1e61c0",
   "metadata": {},
   "outputs": [
    {
     "name": "stdout",
     "output_type": "stream",
     "text": [
      "Enter lower interval: 10\n",
      "Enter upper interval: 1000\n",
      "64 125 153 216 370 371 407 729 "
     ]
    }
   ],
   "source": [
    "def gen_arm():\n",
    "    \"\"\"Function to Find Armstrong Number in an Interval\"\"\"\n",
    "    low = int(input(\"Enter lower interval: \"))\n",
    "    up = int(input(\"Enter upper interval: \"))\n",
    "    for i in range(low, up+1):\n",
    "        sum=0\n",
    "        temp=i\n",
    "        while temp>0:\n",
    "            r=temp%10\n",
    "            sum=sum+r**3\n",
    "            temp=temp//10\n",
    "            if i==sum:\n",
    "                print(i, end=\" \")\n",
    "gen_arm()"
   ]
  },
  {
   "cell_type": "markdown",
   "id": "b65e68e3",
   "metadata": {},
   "source": [
    "### 6. Write a Python Program to Find the Sum of Natural Numbers?"
   ]
  },
  {
   "cell_type": "code",
   "execution_count": 6,
   "id": "49c8684a",
   "metadata": {},
   "outputs": [
    {
     "name": "stdout",
     "output_type": "stream",
     "text": [
      "Enterthr sum interval: 10\n",
      "Sum of Natural Numbers is 55\n"
     ]
    }
   ],
   "source": [
    "def sum_num():\n",
    "    \"\"\"Function to Find the Sum of Natural Numbers \"\"\"\n",
    "    num=int(input(\"Enterthr sum interval: \"))\n",
    "    sum=0\n",
    "    while num>0:\n",
    "        sum=sum+num\n",
    "        num-=1\n",
    "    print(f'Sum of Natural Numbers is {sum}')\n",
    "sum_num()"
   ]
  },
  {
   "cell_type": "code",
   "execution_count": null,
   "id": "edbb8dc4",
   "metadata": {},
   "outputs": [],
   "source": []
  }
 ],
 "metadata": {
  "kernelspec": {
   "display_name": "Python 3 (ipykernel)",
   "language": "python",
   "name": "python3"
  },
  "language_info": {
   "codemirror_mode": {
    "name": "ipython",
    "version": 3
   },
   "file_extension": ".py",
   "mimetype": "text/x-python",
   "name": "python",
   "nbconvert_exporter": "python",
   "pygments_lexer": "ipython3",
   "version": "3.9.7"
  }
 },
 "nbformat": 4,
 "nbformat_minor": 5
}
