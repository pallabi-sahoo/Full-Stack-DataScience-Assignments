{
 "cells": [
  {
   "cell_type": "markdown",
   "id": "634b9990",
   "metadata": {},
   "source": [
    "# Python Programming Basic Assignment_17 Solutions "
   ]
  },
  {
   "cell_type": "markdown",
   "id": "0638abca",
   "metadata": {},
   "source": [
    "### 1.Create a function that takes three arguments a, b, c and returns the sum of the numbers that are evenly divided by c from the range a, b inclusive.\n",
    "Examples                                                                                                                   \n",
    "evenly_divisible(1, 10, 20) ➞ 0                                                                                          \n",
    "#No number between 1 and 10 can be evenly divided by 20.                                                                   \n",
    "evenly_divisible(1, 10, 2) ➞ 30                                                                                          \n",
    "#2 + 4 + 6 + 8 + 10 = 30                                                                                          \n",
    "evenly_divisible(1, 10, 3) ➞ 18                                                                                          \n",
    "#3 + 6 + 9 = 18                                                                                          "
   ]
  },
  {
   "cell_type": "code",
   "execution_count": 1,
   "id": "d5b65463",
   "metadata": {},
   "outputs": [
    {
     "name": "stdout",
     "output_type": "stream",
     "text": [
      "0\n",
      "30\n",
      "18\n"
     ]
    }
   ],
   "source": [
    "def evenly_divisible(a, b, c):\n",
    "    sum=0\n",
    "    for i in range(a, b+1):\n",
    "        if i%c==0:\n",
    "            sum=sum+i\n",
    "    return sum\n",
    "\n",
    "print(evenly_divisible(1, 10, 20))\n",
    "print(evenly_divisible(1, 10, 2))\n",
    "print(evenly_divisible(1, 10, 3)) "
   ]
  },
  {
   "cell_type": "markdown",
   "id": "65374fb4",
   "metadata": {},
   "source": [
    "### 2. Create a function that returns True if a given inequality expression is correct and False otherwise.\n",
    "Examples:                                                                                                                   \n",
    "correct_signs(\"3 < 7 < 11\") ➞ True                                                                                         \n",
    "correct_signs(\"13 > 44 > 33 > 1\") ➞ False                                                                                 \n",
    "correct_signs(\"1 < 2 < 6 < 9 > 3\") ➞ True                                                                                 "
   ]
  },
  {
   "cell_type": "code",
   "execution_count": 2,
   "id": "4f393293",
   "metadata": {},
   "outputs": [
    {
     "name": "stdout",
     "output_type": "stream",
     "text": [
      "True\n",
      "False\n",
      "True\n"
     ]
    }
   ],
   "source": [
    "def correct_signs(exp):\n",
    "    return eval(exp)\n",
    "\n",
    "print(correct_signs(\"3<7<11\"))\n",
    "print(correct_signs(\"13>44>33>1\"))\n",
    "print(correct_signs(\"1 <2<6<9>3\"))"
   ]
  },
  {
   "cell_type": "markdown",
   "id": "a599d00a",
   "metadata": {},
   "source": [
    "### 3. Create a function that replaces all the vowels in a string with a specified character.\n",
    "Examples:                                                                                                                   \n",
    "replace_vowels(\"the aardvark\", \"#\") ➞ \"th# ##rdv#rk\"                                                                       \n",
    "replace_vowels(\"minnie mouse\", \"?\") ➞ \"m?nn?? m??s?\"                                                                      \n",
    "replace_vowels(\"shakespeare\", \"*\") ➞ \"shksp**r\"                                                                           "
   ]
  },
  {
   "cell_type": "code",
   "execution_count": 3,
   "id": "3e86ba75",
   "metadata": {},
   "outputs": [
    {
     "name": "stdout",
     "output_type": "stream",
     "text": [
      "th# ##rdv#rk\n",
      "m?nn?? m??s?\n",
      "sh*k*sp**r*\n"
     ]
    }
   ],
   "source": [
    "def replace_vowels(string, char):\n",
    "    replaced_str=[]\n",
    "    vowels=['a','e','i','o','u']\n",
    "    for i in string:\n",
    "        if i in vowels:\n",
    "            replaced_str.append(char)\n",
    "        else:\n",
    "            replaced_str.append(i)\n",
    "    return \"\".join(replaced_str)\n",
    "\n",
    "print(replace_vowels(\"the aardvark\", \"#\"))\n",
    "print(replace_vowels(\"minnie mouse\", \"?\"))\n",
    "print(replace_vowels(\"shakespeare\", \"*\"))"
   ]
  },
  {
   "cell_type": "markdown",
   "id": "25a362a5",
   "metadata": {},
   "source": [
    "### 4. Write a function that calculates the factorial of a number recursively.\n",
    "Examples                                                                                                                 \n",
    "factorial(5) ➞ 120                                                                                                         \n",
    "factorial(3) ➞ 6                                                                                                         \n",
    "factorial(1) ➞ 1                                                                                                         \n",
    "factorial(0) ➞ 1"
   ]
  },
  {
   "cell_type": "code",
   "execution_count": 4,
   "id": "17fa7193",
   "metadata": {},
   "outputs": [
    {
     "name": "stdout",
     "output_type": "stream",
     "text": [
      "120\n",
      "6\n",
      "1\n",
      "1\n"
     ]
    }
   ],
   "source": [
    "def factorial(n):\n",
    "    if n <= 1:\n",
    "        return 1\n",
    "    else:\n",
    "        return n * factorial(n-1)\n",
    "    \n",
    "print(factorial(5))\n",
    "print(factorial(3))\n",
    "print(factorial(1))\n",
    "print(factorial(0))"
   ]
  },
  {
   "cell_type": "markdown",
   "id": "71ecdd56",
   "metadata": {},
   "source": [
    "Hamming distance is the number of characters that differ between two strings.                                             \n",
    "To illustrate:                                                                                          \n",
    "String1: \"abcbba\"                                                                                                           \n",
    "String2: \"abcbda\"                                                                                                       \n",
    "Hamming Distance: 1 - \"b\" vs. \"d\" is the only difference.                                                                   \n",
    "### 5. Create a function that computes the hamming distance between two strings.\n",
    "Examples:                                                                                                                \n",
    "hamming_distance(\"abcde\", \"bcdef\") ➞ 5                                                                                  \n",
    "hamming_distance(\"abcde\", \"abcde\") ➞ 0                                                                           \n",
    "hamming_distance(\"strong\", \"strung\") ➞ 1                                                                                 "
   ]
  },
  {
   "cell_type": "code",
   "execution_count": 5,
   "id": "cf9cf722",
   "metadata": {},
   "outputs": [
    {
     "name": "stdout",
     "output_type": "stream",
     "text": [
      "5\n",
      "0\n",
      "1\n"
     ]
    }
   ],
   "source": [
    "def hamming_distance(str1, str2):\n",
    "    i = 0\n",
    "    count = 0\n",
    "    while(i < len(str1)):\n",
    "        if(str1[i] != str2[i]):\n",
    "            count += 1\n",
    "        i += 1\n",
    "    return count\n",
    "\n",
    "print(hamming_distance(\"abcde\", \"bcdef\"))\n",
    "print(hamming_distance(\"abcde\", \"abcde\"))\n",
    "print(hamming_distance(\"strong\", \"strung\"))"
   ]
  },
  {
   "cell_type": "code",
   "execution_count": null,
   "id": "934e731d",
   "metadata": {},
   "outputs": [],
   "source": []
  }
 ],
 "metadata": {
  "kernelspec": {
   "display_name": "Python 3 (ipykernel)",
   "language": "python",
   "name": "python3"
  },
  "language_info": {
   "codemirror_mode": {
    "name": "ipython",
    "version": 3
   },
   "file_extension": ".py",
   "mimetype": "text/x-python",
   "name": "python",
   "nbconvert_exporter": "python",
   "pygments_lexer": "ipython3",
   "version": "3.9.7"
  }
 },
 "nbformat": 4,
 "nbformat_minor": 5
}
