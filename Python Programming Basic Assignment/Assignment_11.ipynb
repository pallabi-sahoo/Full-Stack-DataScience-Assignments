{
 "cells": [
  {
   "cell_type": "markdown",
   "id": "5260ba0f",
   "metadata": {},
   "source": [
    "# Assignment_11 Solutions"
   ]
  },
  {
   "cell_type": "markdown",
   "id": "5999f03c",
   "metadata": {},
   "source": [
    "### 1. Write a Python program to find words which are greater than given length k ?"
   ]
  },
  {
   "cell_type": "code",
   "execution_count": 1,
   "id": "c6a90509",
   "metadata": {},
   "outputs": [
    {
     "name": "stdout",
     "output_type": "stream",
     "text": [
      "Enter a sentence: INeuron full stack data science\n",
      "Enter the length: 4\n",
      "['INeuron', 'stack', 'science']\n"
     ]
    }
   ],
   "source": [
    "def checklenstring():\n",
    "    \"\"\"Functionto find words which are greater than given length k \"\"\"\n",
    "    string_list=[]\n",
    "    string=input(\"Enter a sentence: \")\n",
    "    k=int(input(\"Enter the length: \"))\n",
    "    for i in string.split(\" \"):\n",
    "        if len(i)>k:\n",
    "            string_list.append(i)\n",
    "    print(string_list)\n",
    "        \n",
    "checklenstring()"
   ]
  },
  {
   "cell_type": "markdown",
   "id": "6fbe356f",
   "metadata": {},
   "source": [
    "### 2. Write a Python program for removing i-th character from a string ?"
   ]
  },
  {
   "cell_type": "code",
   "execution_count": 2,
   "id": "45972bae",
   "metadata": {},
   "outputs": [
    {
     "name": "stdout",
     "output_type": "stream",
     "text": [
      "Enter the String: Ineuron\n",
      "Enter the ith Character: 3\n",
      "Ineron\n"
     ]
    }
   ],
   "source": [
    "def removecharacter():\n",
    "    \"\"\"Function for removing i-th character from a string\"\"\"\n",
    "    string = input(\"Enter the String: \")\n",
    "    ith_char = int(input(\"Enter the ith Character: \"))\n",
    "    out_string = ''\n",
    "    for i in range(len(string)):\n",
    "        if i != ith_char:\n",
    "            out_string = out_string + string[i]\n",
    "    print(out_string)\n",
    "    \n",
    "removecharacter()"
   ]
  },
  {
   "cell_type": "markdown",
   "id": "e6695254",
   "metadata": {},
   "source": [
    "### 3. Write a Python program to split and join a string ?"
   ]
  },
  {
   "cell_type": "code",
   "execution_count": 3,
   "id": "d9286bc4",
   "metadata": {},
   "outputs": [
    {
     "name": "stdout",
     "output_type": "stream",
     "text": [
      "Enter a string: split and join a string\n",
      "['split', 'and', 'join', 'a', 'string']\n",
      "split and join a string\n"
     ]
    }
   ],
   "source": [
    "def splitjoinstring():\n",
    "    \"\"\"Function to split and join a string\"\"\"\n",
    "    string=input(\"Enter a string: \")\n",
    "    split=string.split(\" \")\n",
    "    print(split)\n",
    "    join=\" \".join(split)\n",
    "    print(join)\n",
    "    \n",
    "splitjoinstring()"
   ]
  },
  {
   "cell_type": "markdown",
   "id": "d6a1f321",
   "metadata": {},
   "source": [
    "### 4. Write a Python to check if a given string is binary string or not?"
   ]
  },
  {
   "cell_type": "code",
   "execution_count": 4,
   "id": "7581aaef",
   "metadata": {},
   "outputs": [
    {
     "name": "stdout",
     "output_type": "stream",
     "text": [
      "Enter the string: 1011001\n",
      "1011001 is Binary\n",
      "Enter the string: hi\n",
      "hi Not Binary\n"
     ]
    }
   ],
   "source": [
    "def binarystring():\n",
    "    \"\"\"Function to check if a given string is binary string or not\"\"\"\n",
    "    string = input(\"Enter the string: \")\n",
    "    binary = ['0', '1']\n",
    "\n",
    "    is_binary = True\n",
    "    for i in string:\n",
    "        if i not in binary:\n",
    "            is_binary = False\n",
    "    \n",
    "    if is_binary:\n",
    "        print(f\"{string} is Binary\")\n",
    "    else:\n",
    "        print(f\"{string} Not Binary\")\n",
    "        \n",
    "binarystring()\n",
    "binarystring()"
   ]
  },
  {
   "cell_type": "markdown",
   "id": "b518748d",
   "metadata": {},
   "source": [
    "### 5. Write a Python program to find uncommon words from two Strings?"
   ]
  },
  {
   "cell_type": "code",
   "execution_count": 5,
   "id": "772f2e97",
   "metadata": {},
   "outputs": [
    {
     "name": "stdout",
     "output_type": "stream",
     "text": [
      "Enter the first string: Ineuron FSDS Nov batch\n",
      "Enter the sercond string: Ineuron FSDS May batch\n",
      "['Nov', 'May']\n"
     ]
    }
   ],
   "source": [
    "def uncommonstring():\n",
    "    str1=input(\"Enter the first string: \")\n",
    "    str2=input(\"Enter the sercond string: \")\n",
    "    uncommon=[]\n",
    "    for i in str1.split(\" \"):\n",
    "        if i not in str2:\n",
    "            uncommon.append(i)\n",
    "    \n",
    "    for i in str2.split(\" \"):\n",
    "        if i not in str1:\n",
    "            uncommon.append(i)\n",
    "    print(uncommon)\n",
    "    \n",
    "uncommonstring()"
   ]
  },
  {
   "cell_type": "markdown",
   "id": "42331ef8",
   "metadata": {},
   "source": [
    "### 6. Write a Python to find all duplicate characters in string ?"
   ]
  },
  {
   "cell_type": "code",
   "execution_count": 6,
   "id": "c3b289b7",
   "metadata": {},
   "outputs": [
    {
     "name": "stdout",
     "output_type": "stream",
     "text": [
      "Enter a string: Python to find all duplicate characters in string \n"
     ]
    },
    {
     "data": {
      "text/plain": [
       "{' ', 'a', 'c', 'd', 'e', 'h', 'i', 'l', 'n', 'o', 'r', 's', 't'}"
      ]
     },
     "execution_count": 6,
     "metadata": {},
     "output_type": "execute_result"
    }
   ],
   "source": [
    "def dupli_str():\n",
    "    string=input(\"Enter a string: \")\n",
    "    duplicate=[]\n",
    "    for i in string:\n",
    "        if string.count(i)>1:\n",
    "            duplicate.append(i)\n",
    "    return set(duplicate)\n",
    "\n",
    "dupli_str()"
   ]
  },
  {
   "cell_type": "markdown",
   "id": "84bc2ff5",
   "metadata": {},
   "source": [
    "### 7. Write a Python Program to check if a string contains any special character?"
   ]
  },
  {
   "cell_type": "code",
   "execution_count": 7,
   "id": "bb58c71d",
   "metadata": {},
   "outputs": [
    {
     "name": "stdout",
     "output_type": "stream",
     "text": [
      "Enter the string: Hi! there@\n",
      "the Hi! there@ contain 2 special characters those are ['!', '@']\n"
     ]
    }
   ],
   "source": [
    "def checkSpecialChar():\n",
    "    spl_chars = '[@_!#$%^&*()<>?/\\|}{~:]'\n",
    "    string = input('Enter the string: ')\n",
    "    spl_list=[]\n",
    "    count=0\n",
    "    for i in string:\n",
    "        if i in spl_chars:\n",
    "            spl_list.append(i)\n",
    "            count = count+1\n",
    "    print(f'the {string} contain {count} special characters those are {spl_list}')\n",
    "\n",
    "checkSpecialChar()"
   ]
  },
  {
   "cell_type": "code",
   "execution_count": null,
   "id": "560e6a0c",
   "metadata": {},
   "outputs": [],
   "source": []
  }
 ],
 "metadata": {
  "kernelspec": {
   "display_name": "Python 3 (ipykernel)",
   "language": "python",
   "name": "python3"
  },
  "language_info": {
   "codemirror_mode": {
    "name": "ipython",
    "version": 3
   },
   "file_extension": ".py",
   "mimetype": "text/x-python",
   "name": "python",
   "nbconvert_exporter": "python",
   "pygments_lexer": "ipython3",
   "version": "3.9.7"
  }
 },
 "nbformat": 4,
 "nbformat_minor": 5
}
