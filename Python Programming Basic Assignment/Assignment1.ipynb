{
 "cells": [
  {
   "cell_type": "markdown",
   "id": "c5dbc86a",
   "metadata": {},
   "source": [
    "### Assignment_1 solutions"
   ]
  },
  {
   "cell_type": "markdown",
   "id": "2d1a3f0e",
   "metadata": {},
   "source": [
    "### 1. Write a Python program to print \"Hello Python\"?"
   ]
  },
  {
   "cell_type": "code",
   "execution_count": 1,
   "id": "60a37677",
   "metadata": {},
   "outputs": [
    {
     "name": "stdout",
     "output_type": "stream",
     "text": [
      "Hello Python\n"
     ]
    }
   ],
   "source": [
    "print(\"Hello Python\")"
   ]
  },
  {
   "cell_type": "markdown",
   "id": "1a58bfa1",
   "metadata": {},
   "source": [
    "### 2. Write a Python program to do arithmetic operations addition and division ?"
   ]
  },
  {
   "cell_type": "code",
   "execution_count": 2,
   "id": "3884058b",
   "metadata": {},
   "outputs": [
    {
     "name": "stdout",
     "output_type": "stream",
     "text": [
      "Enter 1st number:23\n",
      "Enter 2nd number:46\n",
      "Enter addition or division opration: division\n",
      "Division is: 0.5\n"
     ]
    }
   ],
   "source": [
    "a=int(input(\"Enter 1st number:\"))\n",
    "b=int(input(\"Enter 2nd number:\"))\n",
    "opr=input(\"Enter addition or division opration: \")\n",
    "if opr== \"addition\":\n",
    "    print(\"Addition is:\",a+b)\n",
    "elif opr==\"division\":\n",
    "    print(\"Division is:\",a/b)\n",
    "else:\n",
    "    print(\"Opration is invalid\")"
   ]
  },
  {
   "cell_type": "markdown",
   "id": "c826d163",
   "metadata": {},
   "source": [
    "### 3. Write a Python program to find the area of a triangle?"
   ]
  },
  {
   "cell_type": "code",
   "execution_count": 3,
   "id": "638d0093",
   "metadata": {},
   "outputs": [
    {
     "name": "stdout",
     "output_type": "stream",
     "text": [
      "Area of Triangle is:  16.0\n"
     ]
    }
   ],
   "source": [
    "def area_of_triangle(height,base):\n",
    "    \"\"\" Funtion to find the area of a triangle \"\"\"\n",
    "    area=(height*base)/2\n",
    "    print(\"Area of Triangle is: \",area)\n",
    "area_of_triangle(4,8)"
   ]
  },
  {
   "cell_type": "markdown",
   "id": "5fa42632",
   "metadata": {},
   "source": [
    "### 4. Write a Python program to swap two variables?"
   ]
  },
  {
   "cell_type": "code",
   "execution_count": 4,
   "id": "74335564",
   "metadata": {},
   "outputs": [
    {
     "name": "stdout",
     "output_type": "stream",
     "text": [
      "Enter the 1st number150\n",
      "Enter the 2nd number200\n",
      "Before swapping: 150 200\n",
      "After swapping: 200 150\n"
     ]
    }
   ],
   "source": [
    "num_1=int(input(\"Enter the 1st number\"))\n",
    "num_2=int(input(\"Enter the 2nd number\"))\n",
    "def swapvar(a,b):\n",
    "    \"\"\" Function to swap a variable \"\"\"\n",
    "    temp=a\n",
    "    a=b\n",
    "    b=temp\n",
    "    return a,b\n",
    "print(\"Before swapping:\",num_1,num_2)\n",
    "num_1,num_2=swapvar(num_1,num_2)\n",
    "print(\"After swapping:\",num_1,num_2)"
   ]
  },
  {
   "cell_type": "markdown",
   "id": "f62a3a8e",
   "metadata": {},
   "source": [
    "### 5.Write a Python program to generate a random number ?"
   ]
  },
  {
   "cell_type": "code",
   "execution_count": 5,
   "id": "c15352cd",
   "metadata": {},
   "outputs": [
    {
     "name": "stdout",
     "output_type": "stream",
     "text": [
      "Random Number: 9533\n",
      "Random Number: 95\n"
     ]
    }
   ],
   "source": [
    "import random\n",
    "def generate_rand_num(start=0,end=10000):\n",
    "    \"\"\"Function to generate a random number\"\"\"\n",
    "    print(\"Random Number:\", random.randint(start,end))\n",
    "generate_rand_num() # without start and end point\n",
    "generate_rand_num(0,100) # with starting and end point"
   ]
  },
  {
   "cell_type": "code",
   "execution_count": null,
   "id": "b5550ec7",
   "metadata": {},
   "outputs": [],
   "source": []
  }
 ],
 "metadata": {
  "kernelspec": {
   "display_name": "Python 3 (ipykernel)",
   "language": "python",
   "name": "python3"
  },
  "language_info": {
   "codemirror_mode": {
    "name": "ipython",
    "version": 3
   },
   "file_extension": ".py",
   "mimetype": "text/x-python",
   "name": "python",
   "nbconvert_exporter": "python",
   "pygments_lexer": "ipython3",
   "version": "3.9.7"
  }
 },
 "nbformat": 4,
 "nbformat_minor": 5
}
