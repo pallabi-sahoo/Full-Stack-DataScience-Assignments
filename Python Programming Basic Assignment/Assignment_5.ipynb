{
 "cells": [
  {
   "cell_type": "markdown",
   "id": "812dad87",
   "metadata": {},
   "source": [
    "# Assignment_5 Solutions"
   ]
  },
  {
   "cell_type": "markdown",
   "id": "d769fe73",
   "metadata": {},
   "source": [
    "### 1. Write a Python Program to Find LCM?"
   ]
  },
  {
   "cell_type": "code",
   "execution_count": 1,
   "id": "1b79ffba",
   "metadata": {},
   "outputs": [
    {
     "name": "stdout",
     "output_type": "stream",
     "text": [
      "LCM of 12 and 25 is 300\n"
     ]
    }
   ],
   "source": [
    "def lcm(x,y):\n",
    "    \"\"\"Function to find LCM of Two numbers\"\"\"\n",
    "    greater = x if x>y else y\n",
    "    \n",
    "    while True:\n",
    "        if(greater%x==0) and (greater%y==0):\n",
    "            break\n",
    "        else:\n",
    "            greater += 1\n",
    "    print(f'LCM of {x} and {y} is {greater}')\n",
    "    \n",
    "    \n",
    "lcm(12,25)"
   ]
  },
  {
   "cell_type": "markdown",
   "id": "363ee873",
   "metadata": {},
   "source": [
    "### 2. Write a Python Program to Find HCF?"
   ]
  },
  {
   "cell_type": "code",
   "execution_count": 2,
   "id": "57a55082",
   "metadata": {},
   "outputs": [
    {
     "name": "stdout",
     "output_type": "stream",
     "text": [
      "HCF of 12 and 18 is 6\n"
     ]
    }
   ],
   "source": [
    "def hcf(x,y):\n",
    "    \"\"\"Function to find HCF of Two numbers\"\"\"\n",
    "    low = x if x<y else y\n",
    "    \n",
    "    for i in range(1, low+1):\n",
    "        if(x%i==0) and (y%i==0):\n",
    "            hcf=i\n",
    "    print(f'HCF of {x} and {y} is {hcf}')\n",
    "    \n",
    "    \n",
    "hcf(12,18)"
   ]
  },
  {
   "cell_type": "markdown",
   "id": "790de783",
   "metadata": {},
   "source": [
    "### 3. Write a Python Program to Convert Decimal to Binary, Octal and Hexadecimal?"
   ]
  },
  {
   "cell_type": "code",
   "execution_count": 3,
   "id": "7e0eecb4",
   "metadata": {},
   "outputs": [
    {
     "name": "stdout",
     "output_type": "stream",
     "text": [
      "Enter a number: 245\n",
      "Decimal to Binary number: 0b11110101\n",
      "Decimal to Octal number:  0o365\n",
      "Decimal to Hexadecimal number: 0xf5\n"
     ]
    }
   ],
   "source": [
    "def decimal_conv():\n",
    "    \"\"\"Function to Convert Decimal to Binary, Octal and Hexadecimal\"\"\"\n",
    "    num=int(input(\"Enter a number: \"))\n",
    "    print(f'Decimal to Binary number: {bin(num)}')\n",
    "    print(f'Decimal to Octal number:  {oct(num)}')    \n",
    "    print(f'Decimal to Hexadecimal number: {hex(num)}') \n",
    "\n",
    "    \n",
    "decimal_conv()"
   ]
  },
  {
   "cell_type": "markdown",
   "id": "6b727cc4",
   "metadata": {},
   "source": [
    "### 4. Write a Python Program to Find the ASCII value of a Character ?"
   ]
  },
  {
   "cell_type": "code",
   "execution_count": 4,
   "id": "dda91bb3",
   "metadata": {},
   "outputs": [
    {
     "name": "stdout",
     "output_type": "stream",
     "text": [
      "Enter a Character: P\n",
      "Ascii value of P is 80\n"
     ]
    }
   ],
   "source": [
    "def ascii_val():\n",
    "    \"\"\"Program to Find the ASCII value of a Character\"\"\"\n",
    "    char=input(\"Enter a Character: \")\n",
    "    print(f'Ascii value of {char} is {ord(char)}')\n",
    "    \n",
    "ascii_val()"
   ]
  },
  {
   "cell_type": "markdown",
   "id": "3bbb036d",
   "metadata": {},
   "source": [
    "### 5. Write a Python Program to Make a Simple Calculator with 4 Basic Mathematical operations ?"
   ]
  },
  {
   "cell_type": "code",
   "execution_count": null,
   "id": "5babc02b",
   "metadata": {},
   "outputs": [
    {
     "name": "stdout",
     "output_type": "stream",
     "text": [
      "Select a Mathematical Operation:         \n",
      "1.Addition(+)        \n",
      "2.Division(-)        \n",
      "2.Multiplication(*)        \n",
      "4.Division(/)        \n",
      "3.Stop(0)\n",
      "\n",
      "Enter a Mathematical operation: +\n",
      "\n",
      "Enter 1st Number: 12\n",
      "Enter 2nd Number: 23\n",
      "12+23=35\n",
      "\n",
      "Enter a Mathematical operation: p\n",
      "Please enter a valid operator\n",
      "Enter a Mathematical operation: *\n",
      "\n",
      "Enter 1st Number: 45\n",
      "Enter 2nd Number: 53\n",
      "45*53=2385\n",
      "\n"
     ]
    }
   ],
   "source": [
    "import operator\n",
    "\n",
    "ops = { \"+\": operator.add, \"-\": operator.sub, \"*\":operator.mul, \"/\":operator.truediv } \n",
    "\n",
    "print('Select a Mathematical Operation: \\\n",
    "        \\n1.Addition(+)\\\n",
    "        \\n2.Division(-)\\\n",
    "        \\n2.Multiplication(*)\\\n",
    "        \\n4.Division(/)\\\n",
    "        \\n3.Stop(0)\\n')\n",
    "   \n",
    "\n",
    "while True:\n",
    "    operator = input('Enter a Mathematical operation: ')\n",
    "    if operator == '0':\n",
    "        print(\"Program Stopped successfully\")\n",
    "        break\n",
    "    elif operator not in ['+','-','*','/']:\n",
    "        print(\"Please enter a valid operator\")\n",
    "    else:\n",
    "        num_1 = int(input('\\nEnter 1st Number: '))\n",
    "        num_2 = int(input('Enter 2nd Number: '))\n",
    "        print(f'{num_1}{operator}{num_2}={ops[operator](num_1,num_2)}\\n')"
   ]
  },
  {
   "cell_type": "code",
   "execution_count": null,
   "id": "47fc449d",
   "metadata": {},
   "outputs": [],
   "source": []
  }
 ],
 "metadata": {
  "kernelspec": {
   "display_name": "Python 3 (ipykernel)",
   "language": "python",
   "name": "python3"
  },
  "language_info": {
   "codemirror_mode": {
    "name": "ipython",
    "version": 3
   },
   "file_extension": ".py",
   "mimetype": "text/x-python",
   "name": "python",
   "nbconvert_exporter": "python",
   "pygments_lexer": "ipython3",
   "version": "3.9.7"
  }
 },
 "nbformat": 4,
 "nbformat_minor": 5
}
