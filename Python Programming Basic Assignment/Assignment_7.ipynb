{
 "cells": [
  {
   "cell_type": "markdown",
   "id": "bf92b398",
   "metadata": {},
   "source": [
    "# Assignment_7 Solutions"
   ]
  },
  {
   "cell_type": "markdown",
   "id": "4b8dfb08",
   "metadata": {},
   "source": [
    "### 1. Write a Python Program to find sum of Array ?"
   ]
  },
  {
   "cell_type": "code",
   "execution_count": 1,
   "id": "f8f86965",
   "metadata": {},
   "outputs": [
    {
     "name": "stdout",
     "output_type": "stream",
     "text": [
      "Enter the array: [23,45,21,76]\n",
      "sum of [23, 45, 21, 76] is 165\n"
     ]
    }
   ],
   "source": [
    "def sum_arr():\n",
    "    \"\"\"Function to find sum of Array\"\"\"\n",
    "    arr=eval(input(\"Enter the array: \"))\n",
    "    print(f'sum of {arr} is {sum(arr)}')\n",
    "    \n",
    "sum_arr()"
   ]
  },
  {
   "cell_type": "markdown",
   "id": "a445f371",
   "metadata": {},
   "source": [
    "### 2. Write a Python Program to find largest element in an array?"
   ]
  },
  {
   "cell_type": "code",
   "execution_count": 2,
   "id": "1bac446e",
   "metadata": {},
   "outputs": [
    {
     "name": "stdout",
     "output_type": "stream",
     "text": [
      "Enter an array: [34,67,98,3,6,52]\n",
      "largest element in the array[34, 67, 98, 3, 6, 52] is 98\n"
     ]
    }
   ],
   "source": [
    "def large_ele():\n",
    "    \"\"\"Function to find largest element in an Array\"\"\"\n",
    "    arr=eval(input(\"Enter an array: \"))\n",
    "    print(f'largest element in the array{arr} is {max(arr)}')\n",
    "    \n",
    "large_ele()"
   ]
  },
  {
   "cell_type": "markdown",
   "id": "eb158729",
   "metadata": {},
   "source": [
    "### 3. Write a Python Program for array rotation?"
   ]
  },
  {
   "cell_type": "code",
   "execution_count": 3,
   "id": "9c9a4a3b",
   "metadata": {},
   "outputs": [
    {
     "name": "stdout",
     "output_type": "stream",
     "text": [
      "Enter an array for rotation: [20,30,40,50,60]\n",
      "After rotation the [20, 30, 40, 50, 60] is [60, 50, 40, 30, 20]\n"
     ]
    }
   ],
   "source": [
    "def arr_rotation():\n",
    "    \"\"\"Function for array rotation\"\"\"\n",
    "    arr=eval(input(\"Enter an array for rotation: \"))\n",
    "    print(f'After rotation the {arr} is {arr[::-1]}')\n",
    "arr_rotation()"
   ]
  },
  {
   "cell_type": "markdown",
   "id": "e1945c10",
   "metadata": {},
   "source": [
    "### 4. Write a Python Program to Split the array and add the first part to the end?"
   ]
  },
  {
   "cell_type": "code",
   "execution_count": 6,
   "id": "714bb45e",
   "metadata": {},
   "outputs": [
    {
     "name": "stdout",
     "output_type": "stream",
     "text": [
      "Enter an array : [7,8,9,1,2,3,4,5,6]\n",
      "After splitting the array is [1, 2, 3, 4, 5, 6, 7, 8, 9]\n"
     ]
    }
   ],
   "source": [
    "def split_array(arr, split):\n",
    "    ''' Function to Split the array and add the first part to the end'''\n",
    "    arr_list = []\n",
    "    for i in range(len(arr)):\n",
    "        index = (i+len(arr)+split)%len(arr)\n",
    "        arr_list.append(arr[index])\n",
    "    print(f'After splitting the array is {arr_list}')\n",
    "\n",
    "arr=eval(input(\"Enter an array : \"))\n",
    "split_array(arr,3)"
   ]
  },
  {
   "cell_type": "markdown",
   "id": "663ebac2",
   "metadata": {},
   "source": [
    "### 5. Write a Python Program to check if given array is Monotonic?"
   ]
  },
  {
   "cell_type": "code",
   "execution_count": 8,
   "id": "2f41c228",
   "metadata": {},
   "outputs": [
    {
     "name": "stdout",
     "output_type": "stream",
     "text": [
      "Enter an array : [89,75,63,25,18]\n",
      "Array [89, 75, 63, 25, 18] is Monotonic\n"
     ]
    }
   ],
   "source": [
    "def monotonic_check():\n",
    "    arr=eval(input(\"Enter an array : \"))\n",
    "    if(all(arr[i]<=arr[i+1] for i in range(len(arr)-1)) or all(arr[i]>=arr[i+1] for i in range(len(arr)-1))):\n",
    "        print(f'Array {arr} is Monotonic')\n",
    "    else:\n",
    "        print(f'Array {arr} is Not Monotonic')\n",
    "        \n",
    "monotonic_check()"
   ]
  },
  {
   "cell_type": "code",
   "execution_count": null,
   "id": "acffcdad",
   "metadata": {},
   "outputs": [],
   "source": []
  }
 ],
 "metadata": {
  "kernelspec": {
   "display_name": "Python 3 (ipykernel)",
   "language": "python",
   "name": "python3"
  },
  "language_info": {
   "codemirror_mode": {
    "name": "ipython",
    "version": 3
   },
   "file_extension": ".py",
   "mimetype": "text/x-python",
   "name": "python",
   "nbconvert_exporter": "python",
   "pygments_lexer": "ipython3",
   "version": "3.9.7"
  }
 },
 "nbformat": 4,
 "nbformat_minor": 5
}
