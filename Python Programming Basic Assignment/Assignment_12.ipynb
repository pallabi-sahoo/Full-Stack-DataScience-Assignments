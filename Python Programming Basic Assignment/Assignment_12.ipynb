{
 "cells": [
  {
   "cell_type": "markdown",
   "id": "0da87c58",
   "metadata": {},
   "source": [
    "# Assignment_12 Solutions"
   ]
  },
  {
   "cell_type": "markdown",
   "id": "c15ba127",
   "metadata": {},
   "source": [
    "### 1.Write a Python program to Extract Unique values dictionary values?"
   ]
  },
  {
   "cell_type": "code",
   "execution_count": 1,
   "id": "700eb8e3",
   "metadata": {},
   "outputs": [
    {
     "name": "stdout",
     "output_type": "stream",
     "text": [
      "dict_values(['Karnataka', 'Telengana', 'Maharastra', 'Odisha', 'Karnataka', 'Odisha'])\n",
      "Unique values: ['Maharastra', 'Odisha', 'Karnataka', 'Telengana']\n"
     ]
    }
   ],
   "source": [
    "dict_={1:'Karnataka',2:'Telengana',3:'Maharastra',4:'Odisha',5:'Karnataka',6:'Odisha'}\n",
    "print(dict_.values())\n",
    "print(f'Unique values: {list(set(dict_.values()))}')"
   ]
  },
  {
   "cell_type": "markdown",
   "id": "f8096944",
   "metadata": {},
   "source": [
    "### 2.Write a Python program to find the sum of all items in a dictionary?"
   ]
  },
  {
   "cell_type": "code",
   "execution_count": 2,
   "id": "cf2129e8",
   "metadata": {},
   "outputs": [
    {
     "name": "stdout",
     "output_type": "stream",
     "text": [
      "Sum of all items:  181\n"
     ]
    }
   ],
   "source": [
    "dict_={'a':12,'b':23,'c':45,'d':67,'e':34}\n",
    "print('Sum of all items: ',sum(dict_.values()))"
   ]
  },
  {
   "cell_type": "markdown",
   "id": "214ae805",
   "metadata": {},
   "source": [
    "### 3.Write a Python program to Merging two Dictionaries?"
   ]
  },
  {
   "cell_type": "code",
   "execution_count": 3,
   "id": "b9bacb1b",
   "metadata": {},
   "outputs": [
    {
     "name": "stdout",
     "output_type": "stream",
     "text": [
      "{'course_name1': 'FSDS', 'course_name2': 'Tech Neuron', 'course_instructers': ['krish naik', 'Sudhanshu Kumar', 'Sunny bhaven chandra']}\n"
     ]
    }
   ],
   "source": [
    "ineuron_courses={'course_name1':'FSDS', 'course_name2':'Tech Neuron'}\n",
    "ineuron_instructers={'course_instructers':['krish naik','Sudhanshu Kumar','Sunny bhaven chandra']}\n",
    "ineuron_courses.update(ineuron_instructers)\n",
    "print(ineuron_courses)"
   ]
  },
  {
   "cell_type": "markdown",
   "id": "0a2332e2",
   "metadata": {},
   "source": [
    "### 4.Write a Python program to convert key-values list to flat dictionary?"
   ]
  },
  {
   "cell_type": "code",
   "execution_count": 4,
   "id": "859fc729",
   "metadata": {},
   "outputs": [
    {
     "name": "stdout",
     "output_type": "stream",
     "text": [
      "The original dictionary is : {'month': [1, 2, 3, 4], 'name': ['Jan', 'Feb', 'March', 'April']}\n",
      "Flattened dictionary : {1: 'Jan', 2: 'Feb', 3: 'March', 4: 'April'}\n"
     ]
    }
   ],
   "source": [
    "dict_ = {'month' : [1, 2, 3, 4], 'name' : ['Jan', 'Feb', 'March','April']}\n",
    "# The original dictionary\n",
    "print(\"The original dictionary is : \" + str(dict_))\n",
    "# Using dict() + zip() to convert key-values list to flat dictionary\n",
    "flat_dict = dict(zip(dict_['month'], dict_['name']))\n",
    "\n",
    "print(\"Flattened dictionary : \" + str(flat_dict)) "
   ]
  },
  {
   "cell_type": "markdown",
   "id": "9e8f3eef",
   "metadata": {},
   "source": [
    "### 5. Write a Python program to insertion at the beginning in OrderedDict?"
   ]
  },
  {
   "cell_type": "code",
   "execution_count": 5,
   "id": "11ac85be",
   "metadata": {},
   "outputs": [
    {
     "name": "stdout",
     "output_type": "stream",
     "text": [
      "Resultant Dictionary : OrderedDict([('Sunday', '1'), ('Monday', '2'), ('Tuesday', '3'), ('Wednesday', '4')])\n"
     ]
    }
   ],
   "source": [
    "from collections import OrderedDict\n",
    " \n",
    "# initialising ordered_dict\n",
    "iniordered_dict = OrderedDict([('Monday', '2'), ('Tuesday', '3'), ('Wednesday', '4')])\n",
    " \n",
    "# inserting items in starting of dict\n",
    "iniordered_dict.update({'Sunday':'1'})\n",
    "iniordered_dict.move_to_end('Sunday', last = False)\n",
    " \n",
    "# print result\n",
    "print (\"Resultant Dictionary : \"+str(iniordered_dict))"
   ]
  },
  {
   "cell_type": "markdown",
   "id": "60fe3af5",
   "metadata": {},
   "source": [
    "### 6. Write a Python program to check order of character in string using OrderedDict()?"
   ]
  },
  {
   "cell_type": "code",
   "execution_count": 6,
   "id": "0e4098fc",
   "metadata": {},
   "outputs": [
    {
     "name": "stdout",
     "output_type": "stream",
     "text": [
      "enter string : Ineuron\n",
      "Enter Pattern : neu\n",
      "OrderedDict([('I', None), ('n', None), ('e', None), ('u', None), ('r', None), ('o', None)])\n",
      "Pattern matched\n"
     ]
    }
   ],
   "source": [
    "from collections import OrderedDict \n",
    "  \n",
    "def checkOrderofString(str, pattern): \n",
    "      \n",
    "    # create empty OrderedDict \n",
    "    dict = OrderedDict.fromkeys(str) \n",
    "    print(dict)   \n",
    "    ptrlen = 0\n",
    "    for key,value in dict.items(): \n",
    "        \n",
    "        if (key == pattern[ptrlen]): \n",
    "            ptrlen = ptrlen + 1\n",
    "          \n",
    "        # check if we have traverse complete pattern string \n",
    "        if (ptrlen == (len(pattern))):            \n",
    "            return 'true'\n",
    "  \n",
    "    # if we come out from for loop that means order was mismatched \n",
    "    return 'false'\n",
    "  \n",
    "\n",
    "string = input(\"enter string : \")\n",
    "pattern = input(\"Enter Pattern : \")\n",
    "if checkOrderofString(string,pattern):\n",
    "    print(\"Pattern matched\")\n",
    "else:\n",
    "    print(\"Pattern not matched\")"
   ]
  },
  {
   "cell_type": "markdown",
   "id": "927b1f6c",
   "metadata": {},
   "source": [
    "### 7. Write a Python program to sort Python Dictionaries by Key or Value?"
   ]
  },
  {
   "cell_type": "code",
   "execution_count": 7,
   "id": "b222c388",
   "metadata": {},
   "outputs": [
    {
     "name": "stdout",
     "output_type": "stream",
     "text": [
      "{'Apple': 35, 'Banana': 60, 'Grape': 13, 'Mango': 100, 'PineApple': 22}\n",
      "{'Grape': 13, 'PineApple': 22, 'Apple': 35, 'Banana': 60, 'Mango': 100}\n"
     ]
    }
   ],
   "source": [
    "dict_ele = {'Mango':100,'PineApple':22,'Banana':60,'Grape':13, 'Apple':35}\n",
    "\n",
    "def sort_dict(in_dict,sort_type):\n",
    "    if sort_type == 'key':\n",
    "        print(dict(sorted(in_dict.items(), key=lambda x:x[0], reverse=False)))\n",
    "    else:\n",
    "        print(dict(sorted(in_dict.items(), key=lambda x:x[1], reverse=False)))\n",
    "        \n",
    "sort_dict(dict_ele,'key')        \n",
    "sort_dict(dict_ele,'value')"
   ]
  },
  {
   "cell_type": "code",
   "execution_count": null,
   "id": "fbc49e04",
   "metadata": {},
   "outputs": [],
   "source": []
  }
 ],
 "metadata": {
  "kernelspec": {
   "display_name": "Python 3 (ipykernel)",
   "language": "python",
   "name": "python3"
  },
  "language_info": {
   "codemirror_mode": {
    "name": "ipython",
    "version": 3
   },
   "file_extension": ".py",
   "mimetype": "text/x-python",
   "name": "python",
   "nbconvert_exporter": "python",
   "pygments_lexer": "ipython3",
   "version": "3.9.7"
  }
 },
 "nbformat": 4,
 "nbformat_minor": 5
}
