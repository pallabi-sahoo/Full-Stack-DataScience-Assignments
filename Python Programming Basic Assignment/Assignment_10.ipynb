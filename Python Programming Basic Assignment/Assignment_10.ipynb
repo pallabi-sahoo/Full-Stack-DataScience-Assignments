{
 "cells": [
  {
   "cell_type": "markdown",
   "id": "76918e6d",
   "metadata": {},
   "source": [
    "# Assignment_10 Solutions"
   ]
  },
  {
   "cell_type": "markdown",
   "id": "b96591e6",
   "metadata": {},
   "source": [
    "### 1. Write a Python program to find sum of elements in list?"
   ]
  },
  {
   "cell_type": "code",
   "execution_count": 1,
   "id": "2f70c4fa",
   "metadata": {},
   "outputs": [
    {
     "name": "stdout",
     "output_type": "stream",
     "text": [
      "26\n"
     ]
    }
   ],
   "source": [
    "list_1=[2,4,5,7,8]\n",
    "sum=0\n",
    "for i in list_1:\n",
    "    sum=sum+i\n",
    "print(sum)"
   ]
  },
  {
   "cell_type": "markdown",
   "id": "0fdc3418",
   "metadata": {},
   "source": [
    "### 2. Writem a Python program to Multiply all numbers in the list?"
   ]
  },
  {
   "cell_type": "code",
   "execution_count": 2,
   "id": "785a6e93",
   "metadata": {},
   "outputs": [
    {
     "name": "stdout",
     "output_type": "stream",
     "text": [
      "384\n"
     ]
    }
   ],
   "source": [
    "list_2=[2,6,8,4]\n",
    "mul=1\n",
    "for i in list_2:\n",
    "    mul = mul*i\n",
    "print(mul)"
   ]
  },
  {
   "cell_type": "markdown",
   "id": "f34b468b",
   "metadata": {},
   "source": [
    "### 3. Write a Python program to find smallest number in a list?"
   ]
  },
  {
   "cell_type": "code",
   "execution_count": 3,
   "id": "c5ba22fc",
   "metadata": {},
   "outputs": [
    {
     "name": "stdout",
     "output_type": "stream",
     "text": [
      "-10\n"
     ]
    }
   ],
   "source": [
    "list_3 = [-10,34,56,83,24]\n",
    "\n",
    "minimum = list_3[0]\n",
    "for i in list_3:\n",
    "    if i < minimum:\n",
    "        minimum = i\n",
    "        \n",
    "print(minimum)"
   ]
  },
  {
   "cell_type": "markdown",
   "id": "6fd9dc77",
   "metadata": {},
   "source": [
    "### 4. Write a Python program to find largest number in a list?"
   ]
  },
  {
   "cell_type": "code",
   "execution_count": 4,
   "id": "f73b088f",
   "metadata": {},
   "outputs": [
    {
     "name": "stdout",
     "output_type": "stream",
     "text": [
      "95\n"
     ]
    }
   ],
   "source": [
    "list_4 = [-23,54,63,49,95,-82]\n",
    "\n",
    "max = list_4[0]\n",
    "for i in list_4:\n",
    "    if i > max:\n",
    "        max = i\n",
    "        \n",
    "print(max)"
   ]
  },
  {
   "cell_type": "markdown",
   "id": "ac92651a",
   "metadata": {},
   "source": [
    "### 5.Write a Python Program to find second largest number in the list ?"
   ]
  },
  {
   "cell_type": "code",
   "execution_count": 5,
   "id": "769c5919",
   "metadata": {},
   "outputs": [
    {
     "name": "stdout",
     "output_type": "stream",
     "text": [
      "Second largest number in this list is  59\n"
     ]
    }
   ],
   "source": [
    "list_5=[23,-43,76,59,12]\n",
    "list_5.sort(reverse=True)\n",
    "print(\"Second largest number in this list is \", list_5[1])"
   ]
  },
  {
   "cell_type": "markdown",
   "id": "5de40392",
   "metadata": {},
   "source": [
    "### 6. Write a Python program to find N largest elements from a list?"
   ]
  },
  {
   "cell_type": "code",
   "execution_count": 6,
   "id": "ca833733",
   "metadata": {},
   "outputs": [
    {
     "name": "stdout",
     "output_type": "stream",
     "text": [
      "4th largest number in the list is 23\n",
      "6th largest number in the list is 29\n"
     ]
    }
   ],
   "source": [
    "def n_large(list_, n):\n",
    "    \"\"\"Function to find N largest elements from a list\"\"\"\n",
    "    list_.sort(reverse=True)\n",
    "    print(f'{n}th largest number in the list is {list_[n-1]}')\n",
    "    \n",
    "lst1=[23,-65,52,35,-20,81]\n",
    "lst2=[45,82,39,15,73,29,80]\n",
    "\n",
    "n_large(lst1,4)\n",
    "n_large(lst2,6)"
   ]
  },
  {
   "cell_type": "markdown",
   "id": "ae48a840",
   "metadata": {},
   "source": [
    "### 7. Write a Python program to print even numbers in a list?"
   ]
  },
  {
   "cell_type": "code",
   "execution_count": 7,
   "id": "a95b5c5f",
   "metadata": {},
   "outputs": [
    {
     "name": "stdout",
     "output_type": "stream",
     "text": [
      "[12, 98, 62, 46, 58]\n"
     ]
    }
   ],
   "source": [
    "def evenlist(l):\n",
    "    \"\"\"program to print even numbers in a list\"\"\"\n",
    "    even_list=[]\n",
    "    for i in l:\n",
    "        if i%2==0:\n",
    "            even_list.append(i)\n",
    "    print(even_list)\n",
    "\n",
    "List=[23,12,98,73,62,46,58]\n",
    "evenlist(List)"
   ]
  },
  {
   "cell_type": "markdown",
   "id": "52853b39",
   "metadata": {},
   "source": [
    "### 8. Write a Python program to print odd numbers in a List?"
   ]
  },
  {
   "cell_type": "code",
   "execution_count": 8,
   "id": "22b596e3",
   "metadata": {},
   "outputs": [
    {
     "name": "stdout",
     "output_type": "stream",
     "text": [
      "[23, 73, 15, 55, 93]\n"
     ]
    }
   ],
   "source": [
    "def oddlist(l):\n",
    "    \"\"\"program to print odd numbers in a list\"\"\"\n",
    "    odd_list=[]\n",
    "    for i in l:\n",
    "        if i%2!=0:\n",
    "            odd_list.append(i)\n",
    "    print(odd_list)\n",
    "\n",
    "List=[23,12,98,73,62,15,55,46,58,93]\n",
    "oddlist(List)"
   ]
  },
  {
   "cell_type": "markdown",
   "id": "b421fc6b",
   "metadata": {},
   "source": [
    "### 9. Write a Python program to Remove empty List from List?"
   ]
  },
  {
   "cell_type": "code",
   "execution_count": 9,
   "id": "c2fe98b2",
   "metadata": {},
   "outputs": [
    {
     "name": "stdout",
     "output_type": "stream",
     "text": [
      "After removing empty list: [15, 39, [13, 22, -25], [91, 52], {}, [True, (8+9j)], 452, 31]\n"
     ]
    }
   ],
   "source": [
    "def removeEmptyList(l):\n",
    "    \"\"\"Function to Remove empty List from List\"\"\"\n",
    "    res_list = []\n",
    "    for i in l:\n",
    "        if type(i) == list:\n",
    "            if len(i) != 0:\n",
    "                res_list.append(i)\n",
    "        else:\n",
    "            res_list.append(i)\n",
    "    print(f'After removing empty list: {res_list}')\n",
    "    \n",
    "    \n",
    "list_ = [[], 15, 39, [13, 22, -25] , [91,52], {} , [True, 8+9j], [], 452, 31]    \n",
    "removeEmptyList(list_)"
   ]
  },
  {
   "cell_type": "markdown",
   "id": "1be566f2",
   "metadata": {},
   "source": [
    "### 10. Write a Python program to Cloning or Copying a list?"
   ]
  },
  {
   "cell_type": "code",
   "execution_count": 10,
   "id": "feefc2e9",
   "metadata": {},
   "outputs": [
    {
     "name": "stdout",
     "output_type": "stream",
     "text": [
      "[23, [12.67], 98, [73, 62], 15, 55, [46, 58, 'FSDS'], 93]\n"
     ]
    }
   ],
   "source": [
    "list1 = [23,[12.67],98,[73,62],15,55,[46,58,'FSDS'],93]\n",
    "list2 = []\n",
    "\n",
    "for i in list1:\n",
    "    list2.append(i)\n",
    "    \n",
    "print(list2)"
   ]
  },
  {
   "cell_type": "markdown",
   "id": "8c8849f1",
   "metadata": {},
   "source": [
    "### 11. Write a Python program to Count occurrences of an element in a list?"
   ]
  },
  {
   "cell_type": "code",
   "execution_count": 11,
   "id": "1e60d94a",
   "metadata": {},
   "outputs": [
    {
     "name": "stdout",
     "output_type": "stream",
     "text": [
      "the occurennces of an 5 in list [5, 23, 6, 8, 5, 12, 34, 5, 52, 34, 5, 90] is 4\n"
     ]
    }
   ],
   "source": [
    "def occurrences(list_, element):\n",
    "    \"\"\"Function to count occurrences of an element in a list\"\"\"\n",
    "    count = 0\n",
    "    for i in list_:\n",
    "        if i == element:\n",
    "            count += 1            \n",
    "    print(f'the occurennces of an {element} in list {list_} is {count}')\n",
    "          \n",
    "          \n",
    "l=[5,23,6,8,5,12,34,5,52,34,5,90]\n",
    "occurrences(l,5)"
   ]
  },
  {
   "cell_type": "code",
   "execution_count": null,
   "id": "84b2cc21",
   "metadata": {},
   "outputs": [],
   "source": []
  }
 ],
 "metadata": {
  "kernelspec": {
   "display_name": "Python 3 (ipykernel)",
   "language": "python",
   "name": "python3"
  },
  "language_info": {
   "codemirror_mode": {
    "name": "ipython",
    "version": 3
   },
   "file_extension": ".py",
   "mimetype": "text/x-python",
   "name": "python",
   "nbconvert_exporter": "python",
   "pygments_lexer": "ipython3",
   "version": "3.9.7"
  }
 },
 "nbformat": 4,
 "nbformat_minor": 5
}
