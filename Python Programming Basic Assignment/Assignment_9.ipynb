{
 "cells": [
  {
   "cell_type": "markdown",
   "id": "1830f492",
   "metadata": {},
   "source": [
    "# Assignment_9 Solutions"
   ]
  },
  {
   "cell_type": "markdown",
   "id": "86294096",
   "metadata": {},
   "source": [
    "### 1. Write a Python program to check if the given number is a Disarium Number?"
   ]
  },
  {
   "cell_type": "code",
   "execution_count": 1,
   "id": "c1450d47",
   "metadata": {},
   "outputs": [
    {
     "name": "stdout",
     "output_type": "stream",
     "text": [
      "Enter a number: 89\n",
      "89 is a  Disarium Number\n"
     ]
    }
   ],
   "source": [
    "def disarium():\n",
    "    \"\"\"Function to check if the given number is a Disarium Number\"\"\"\n",
    "    num=input(\"Enter a number: \")\n",
    "    sum=0\n",
    "    for i in range(len(num)):\n",
    "        sum=sum+int(num[i])**(i+1)\n",
    "    if sum==int(num):\n",
    "        print(f'{num} is a  Disarium Number')\n",
    "    else:\n",
    "        print(f'{num} is not a  Disarium Number')\n",
    "        \n",
    "disarium()"
   ]
  },
  {
   "cell_type": "markdown",
   "id": "88a51c8b",
   "metadata": {},
   "source": [
    "### 2.Write a Python Program to print all Disarium numbers between 1 to 100 ?"
   ]
  },
  {
   "cell_type": "code",
   "execution_count": 2,
   "id": "7c7e9003",
   "metadata": {},
   "outputs": [
    {
     "name": "stdout",
     "output_type": "stream",
     "text": [
      "[1, 2, 3, 4, 5, 6, 7, 8, 9, 89]\n"
     ]
    }
   ],
   "source": [
    "def disarium_list():\n",
    "    list=[]\n",
    "    for i in range(1,100):\n",
    "        num=str(i)\n",
    "        sum=0\n",
    "        for j in range(len(num)):\n",
    "            sum=sum+int(num[j])**(j+1)\n",
    "        if sum==int(num):\n",
    "            list.append(i)\n",
    "    print(list)\n",
    "    \n",
    "disarium_list()"
   ]
  },
  {
   "cell_type": "markdown",
   "id": "01d3156a",
   "metadata": {},
   "source": [
    "### 3.Write a Python Program to check if the given number is Happy Number ?"
   ]
  },
  {
   "cell_type": "code",
   "execution_count": 3,
   "id": "7ef7411f",
   "metadata": {},
   "outputs": [
    {
     "data": {
      "text/plain": [
       "True"
      ]
     },
     "execution_count": 3,
     "metadata": {},
     "output_type": "execute_result"
    }
   ],
   "source": [
    "def check_happy(num):\n",
    "    \"\"\"Function to check if the given number is Happy Number \"\"\"\n",
    "    res = num; \n",
    "    def isHappy(num):    \n",
    "        r = 0;  \n",
    "        s = 0\n",
    "        while(num > 0):    \n",
    "            r = num%10    \n",
    "            s += r**2  \n",
    "            num //= 10    \n",
    "        return s    \n",
    "    while(res != 1 and res != 4):    \n",
    "        res = isHappy(res)    \n",
    "    if(res == 1):\n",
    "        return True\n",
    "    elif(res == 4):    \n",
    "        return False\n",
    "        \n",
    "        \n",
    "check_happy(28)"
   ]
  },
  {
   "cell_type": "markdown",
   "id": "99ad61d0",
   "metadata": {},
   "source": [
    "### 4. Write a Python program to print all happy numbers between 1 and 100?"
   ]
  },
  {
   "cell_type": "code",
   "execution_count": 4,
   "id": "4fa352e9",
   "metadata": {},
   "outputs": [
    {
     "name": "stdout",
     "output_type": "stream",
     "text": [
      "[1, 7, 10, 13, 19, 23, 28, 31, 32, 44, 49, 68, 70, 79, 82, 86, 91, 94, 97]\n"
     ]
    }
   ],
   "source": [
    "list=[]\n",
    "def happy_list():\n",
    "    \"\"\"program to print all happy numbers between 1 and 100\"\"\"\n",
    "    for i in range(1,100):\n",
    "        if check_happy(i)==True:\n",
    "            list.append(i)\n",
    "    print(list)\n",
    "    \n",
    "happy_list()"
   ]
  },
  {
   "cell_type": "markdown",
   "id": "165d5d35",
   "metadata": {},
   "source": [
    "### 5. Write a Python program to determine whether the given number is a Harshad Number?"
   ]
  },
  {
   "cell_type": "code",
   "execution_count": 5,
   "id": "50aa63bd",
   "metadata": {},
   "outputs": [
    {
     "name": "stdout",
     "output_type": "stream",
     "text": [
      "Enter a number: 21\n",
      "21 is a Harshad Number\n"
     ]
    }
   ],
   "source": [
    "def harshad_check():\n",
    "    \"\"\"Function to  to determine whether the given number is a Harshad Number\"\"\"\n",
    "    num=int(input(\"Enter a number: \"))\n",
    "    temp = num\n",
    "    sum = 0\n",
    "    while (temp > 0):\n",
    "        sum = sum + (temp%10)\n",
    "        temp = temp//10        \n",
    "    if num%sum==0:\n",
    "        print(f\"{num} is a Harshad Number\")\n",
    "    else:\n",
    "        print(f\"{num} is not a Harshad Number\")\n",
    "        \n",
    "harshad_check()"
   ]
  },
  {
   "cell_type": "markdown",
   "id": "5aea0826",
   "metadata": {},
   "source": [
    "### 6. Write a Python program to print all pronic numbers between 1 and 100?"
   ]
  },
  {
   "cell_type": "code",
   "execution_count": 6,
   "id": "45a63489",
   "metadata": {},
   "outputs": [
    {
     "name": "stdout",
     "output_type": "stream",
     "text": [
      "0 2 6 12 20 30 42 56 72 90 "
     ]
    }
   ],
   "source": [
    "def pronic():\n",
    "    \"\"\"program to print all pronic numbers between 1 and 100\"\"\"\n",
    "    i = 0\n",
    "    while True:\n",
    "        pronicNum = i*(i+1)\n",
    "        i = i + 1\n",
    "        if pronicNum > 100:\n",
    "            break\n",
    "        print(pronicNum, end = ' ')\n",
    "pronic()"
   ]
  },
  {
   "cell_type": "code",
   "execution_count": null,
   "id": "2561012c",
   "metadata": {},
   "outputs": [],
   "source": []
  }
 ],
 "metadata": {
  "kernelspec": {
   "display_name": "Python 3 (ipykernel)",
   "language": "python",
   "name": "python3"
  },
  "language_info": {
   "codemirror_mode": {
    "name": "ipython",
    "version": 3
   },
   "file_extension": ".py",
   "mimetype": "text/x-python",
   "name": "python",
   "nbconvert_exporter": "python",
   "pygments_lexer": "ipython3",
   "version": "3.9.7"
  }
 },
 "nbformat": 4,
 "nbformat_minor": 5
}
