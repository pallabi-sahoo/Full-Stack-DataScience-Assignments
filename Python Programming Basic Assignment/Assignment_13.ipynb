{
 "cells": [
  {
   "cell_type": "markdown",
   "id": "124edeb6",
   "metadata": {},
   "source": [
    "# Programming Assignment_13 Solutions"
   ]
  },
  {
   "cell_type": "markdown",
   "id": "266a6ff8",
   "metadata": {},
   "source": [
    "### 1.Write a program that calculates and prints the value according to the given formula:\n",
    "Q = Square root of [(2 * C * D)/H]                                                                                         \n",
    "Following are the fixed values of C and H:                                                                                 \n",
    "C is 50. H is 30.                                                                                                          \n",
    "D is the variable whose values should be input to your program in a comma-separated                                   sequence.                                                                                                           \n",
    "Example                                                                                                                    \n",
    "Let us assume the following comma separated input sequence is given to the program:                                        \n",
    "100,150,180                                                                                                               \n",
    "The output of the program should be:                                                                                      \n",
    "18,22,24                                                                                                                  "
   ]
  },
  {
   "cell_type": "code",
   "execution_count": 1,
   "id": "d9e55175",
   "metadata": {
    "scrolled": true
   },
   "outputs": [
    {
     "name": "stdout",
     "output_type": "stream",
     "text": [
      "Enter D values in comma-separated sequence: 100,150,180\n",
      "Output: 18,22,24\n"
     ]
    }
   ],
   "source": [
    "import math\n",
    "def formula():\n",
    "    \"\"\"Function that calculates and prints the value according to the given formula: Q = Square root of [(2 * C * D)/H]\"\"\"\n",
    "    C=50 # initializing constant C value\n",
    "    H=30 # initializing constant H value\n",
    "    D=eval(input(\"Enter D values in comma-separated sequence: \"))\n",
    "    res=[]\n",
    "    for i in D:\n",
    "        Q=str(int(math.sqrt((2*C*i)/H)))\n",
    "        res.append(Q)\n",
    "    print(\"Output: {}\".format(','.join(res)))\n",
    "    \n",
    "formula()"
   ]
  },
  {
   "cell_type": "markdown",
   "id": "7f9ac980",
   "metadata": {},
   "source": [
    "### 2.Write a program which takes 2 digits, X,Y as input and generates a 2-dimensional array. The element value in the i-th row and j-th column of the array should be i*j.\n",
    "Note: i=0,1.., X-1; j=0,1,¡Y-1.                                                                                             \n",
    "Example                                                                                                                    \n",
    "Suppose the following inputs are given to the program: 3,5                                                                 \n",
    "Then, the output of the program should be: [[0, 0, 0, 0, 0], [0, 1, 2, 3, 4], [0, 2, 4, 6, 8]]                             "
   ]
  },
  {
   "cell_type": "code",
   "execution_count": 3,
   "id": "57047e3a",
   "metadata": {},
   "outputs": [
    {
     "name": "stdout",
     "output_type": "stream",
     "text": [
      "Enter the value X: 3\n",
      "Enter the value Y: 5\n",
      "[[0, 0, 0, 0, 0], [0, 1, 2, 3, 4], [0, 2, 4, 6, 8]]\n"
     ]
    }
   ],
   "source": [
    "X=int(input(\"Enter the value X: \"))\n",
    "Y=int(input(\"Enter the value Y: \"))\n",
    "array_2d=[]\n",
    "for i in range(X):\n",
    "    row = []\n",
    "    for j in range(Y):\n",
    "        row.append(i*j)\n",
    "    array_2d.append(row)\n",
    "print(array_2d)"
   ]
  },
  {
   "cell_type": "markdown",
   "id": "21f25ec7",
   "metadata": {},
   "source": [
    "### 3. Write a program that accepts a comma separated sequence of words as input and prints the words in a comma-separated sequence after sorting them alphabetically.\n",
    "Suppose the following input is supplied to the program: without,hello,bag,world                                            \n",
    "Then, the output should be: bag,hello,without,world"
   ]
  },
  {
   "cell_type": "code",
   "execution_count": 4,
   "id": "4893fd47",
   "metadata": {},
   "outputs": [
    {
     "name": "stdout",
     "output_type": "stream",
     "text": [
      "Enter the words in a comma-separated sequence: without,hello,bag,world\n",
      "bag,hello,without,world\n"
     ]
    }
   ],
   "source": [
    "words=input(\"Enter the words in a comma-separated sequence: \")\n",
    "print(','.join(sorted(words.split(','))))"
   ]
  },
  {
   "cell_type": "markdown",
   "id": "3fdfee59",
   "metadata": {},
   "source": [
    "### 4.Write a program that accepts a sequence of whitespace separated words as input and prints the words after removing all duplicate words and sorting them alphanumerically.`\n",
    "Suppose the following input is supplied to the program:                                                                   \n",
    "hello world and practice makes perfect and hello world again                                                               \n",
    "Then, the output should be:                                                                                                 \n",
    "again and hello makes perfect practice world                                                                               "
   ]
  },
  {
   "cell_type": "code",
   "execution_count": 5,
   "id": "478a67f8",
   "metadata": {},
   "outputs": [
    {
     "name": "stdout",
     "output_type": "stream",
     "text": [
      "Enter the comma seperated words: hello world and practice makes perfect and hello world again\n",
      "again and hello makes perfect practice world\n"
     ]
    }
   ],
   "source": [
    "words=list(set(input(\"Enter the comma seperated words: \").split(' ')))\n",
    "words.sort() \n",
    "print(' '.join(words))"
   ]
  },
  {
   "cell_type": "markdown",
   "id": "4a03134a",
   "metadata": {},
   "source": [
    "### 5. Write a program that accepts a sentence and calculate the number of letters and digits.\n",
    "Suppose the following input is supplied to the program:                                                                   \n",
    "hello world! 123                                                                                                          \n",
    "Then, the output should be:                                                                                               \n",
    "LETTERS 10                                                                                                                 \n",
    "DIGITS 3                                                                                                                                                "
   ]
  },
  {
   "cell_type": "code",
   "execution_count": 6,
   "id": "35a2b443",
   "metadata": {},
   "outputs": [
    {
     "name": "stdout",
     "output_type": "stream",
     "text": [
      "Enter the string: hello world! 123\n",
      "LETTERS 10 \n",
      "DIGITS 3\n"
     ]
    }
   ],
   "source": [
    "def countlettersanddigits():\n",
    "    string = input(\"Enter the string: \")\n",
    "    lettersList = 'ABCDEFGHIJKLMNOPQRSTUVWXYZabcdefghijklmnopqrstuvwxyz'\n",
    "    digitsList = '0123456789'\n",
    "    letters = 0\n",
    "    digits = 0\n",
    "    for i in string:\n",
    "        if i in lettersList:\n",
    "            letters += 1\n",
    "        if i in digitsList:\n",
    "            digits += 1\n",
    "    print(f'LETTERS {letters} \\nDIGITS {digits}')\n",
    "        \n",
    "countlettersanddigits()"
   ]
  },
  {
   "cell_type": "markdown",
   "id": "51b6b2d6",
   "metadata": {},
   "source": [
    "### 6. A website requires the users to input username and password to register. Write a program to mmcheck the validity of password input by users.\n",
    "Following are the criteria for checking the password:                                                                     \n",
    "1. At least 1 letter between [a-z]                                                                                         \n",
    "2. At least 1 number between [0-9]                                                                                         \n",
    "1. At least 1 letter between [A-Z]                                                                                         \n",
    "3. At least 1 character from [$#@]                                                                                         \n",
    "4. Minimum length of transaction password: 6                                                                            \n",
    "5. Maximum length of transaction password: 12                                                                            \n",
    "Your program should accept a sequence of comma separated passwords and will check them                                     \n",
    "according to the above criteria. Passwords that match the criteria are to be printed, each                                 \n",
    "separated by a comma.                                                                                                      \n",
    "Example                                                                                                                   \n",
    "If the following passwords are given as input to the program:                                                              \n",
    "ABd1234@1,a F1#,2w3E*,2We3345                                                                                              \n",
    "Then, the output of the program should be:                                                                                 \n",
    "ABd1234@1                                                                                                                 "
   ]
  },
  {
   "cell_type": "code",
   "execution_count": 7,
   "id": "57000777",
   "metadata": {},
   "outputs": [
    {
     "name": "stdout",
     "output_type": "stream",
     "text": [
      "Enter the Input String: ABd1234@1,a F1#,2w3E*,2We3345\n",
      "ABd1234@1\n"
     ]
    }
   ],
   "source": [
    "def checkPassword():\n",
    "    in_string = input(\"Enter the Input String: \")\n",
    "    small_list = \"abcdefghijklmnopqrstuvwxyz\"\n",
    "    cap_list = \"ABCDEFGHIJKLMNOPQRSTUVWXYZ\"\n",
    "    num_list = \"0123456789\"\n",
    "    special_list = \"$#@\"\n",
    "    for ele in in_string.split(\",\"):\n",
    "        if len(ele) <= 12 and len(ele) >=6 :\n",
    "            if any(i.isupper() for i in ele):\n",
    "                if any(i.islower() for i in ele):\n",
    "                    if any(i for i in ele if i in special_list):\n",
    "                        print(ele)\n",
    "                               \n",
    "checkPassword() "
   ]
  },
  {
   "cell_type": "code",
   "execution_count": null,
   "id": "dfb23432",
   "metadata": {},
   "outputs": [],
   "source": []
  }
 ],
 "metadata": {
  "kernelspec": {
   "display_name": "Python 3 (ipykernel)",
   "language": "python",
   "name": "python3"
  },
  "language_info": {
   "codemirror_mode": {
    "name": "ipython",
    "version": 3
   },
   "file_extension": ".py",
   "mimetype": "text/x-python",
   "name": "python",
   "nbconvert_exporter": "python",
   "pygments_lexer": "ipython3",
   "version": "3.9.7"
  }
 },
 "nbformat": 4,
 "nbformat_minor": 5
}
