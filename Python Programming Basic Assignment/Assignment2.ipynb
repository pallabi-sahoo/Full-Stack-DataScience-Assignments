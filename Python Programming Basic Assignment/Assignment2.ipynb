{
 "cells": [
  {
   "cell_type": "markdown",
   "id": "9b37a2c3",
   "metadata": {},
   "source": [
    "## Assignment_2 Solutions"
   ]
  },
  {
   "cell_type": "markdown",
   "id": "a776578c",
   "metadata": {},
   "source": [
    "### 1.Write a Python program to convert Kilometers to Miles ?"
   ]
  },
  {
   "cell_type": "code",
   "execution_count": 1,
   "id": "ce8d0e11",
   "metadata": {},
   "outputs": [
    {
     "name": "stdout",
     "output_type": "stream",
     "text": [
      "Enter kilometer: 12\n",
      "12.0 kilometer is equals to 7.452 miles.\n"
     ]
    }
   ],
   "source": [
    "def km_to_miles():\n",
    "    \"\"\"Function to convert Kilometers to Miles\"\"\"\n",
    "    km=float(input(\"Enter kilometer: \"))\n",
    "    print(\"{} kilometer is equals to {} miles.\".format(km,km*0.621))\n",
    "km_to_miles()"
   ]
  },
  {
   "cell_type": "markdown",
   "id": "b330a787",
   "metadata": {},
   "source": [
    "### 2.Write a Python program to convert Celsius to Farenheit ?"
   ]
  },
  {
   "cell_type": "code",
   "execution_count": 2,
   "id": "da4f0d45",
   "metadata": {},
   "outputs": [
    {
     "name": "stdout",
     "output_type": "stream",
     "text": [
      "Enter Celsius:50\n",
      "50°C is equal to 122.0°F.\n"
     ]
    }
   ],
   "source": [
    "def cel_to_farh():\n",
    "    \"\"\"Function to convert Celsius to Farenheit\"\"\"\n",
    "    cel=int(input(\"Enter Celsius:\"))\n",
    "    farh=(cel*(9/5))+32\n",
    "    print(\"{}°C is equal to {}°F.\".format(cel,farh))\n",
    "cel_to_farh()"
   ]
  },
  {
   "cell_type": "markdown",
   "id": "337320f8",
   "metadata": {},
   "source": [
    "### 3.Write a Python program to display calender ?"
   ]
  },
  {
   "cell_type": "code",
   "execution_count": 3,
   "id": "5c92111d",
   "metadata": {},
   "outputs": [
    {
     "name": "stdout",
     "output_type": "stream",
     "text": [
      "Enter Year:2023\n",
      "                                  2023\n",
      "\n",
      "      January                   February                   March\n",
      "Mo Tu We Th Fr Sa Su      Mo Tu We Th Fr Sa Su      Mo Tu We Th Fr Sa Su\n",
      "                   1             1  2  3  4  5             1  2  3  4  5\n",
      " 2  3  4  5  6  7  8       6  7  8  9 10 11 12       6  7  8  9 10 11 12\n",
      " 9 10 11 12 13 14 15      13 14 15 16 17 18 19      13 14 15 16 17 18 19\n",
      "16 17 18 19 20 21 22      20 21 22 23 24 25 26      20 21 22 23 24 25 26\n",
      "23 24 25 26 27 28 29      27 28                     27 28 29 30 31\n",
      "30 31\n",
      "\n",
      "       April                      May                       June\n",
      "Mo Tu We Th Fr Sa Su      Mo Tu We Th Fr Sa Su      Mo Tu We Th Fr Sa Su\n",
      "                1  2       1  2  3  4  5  6  7                1  2  3  4\n",
      " 3  4  5  6  7  8  9       8  9 10 11 12 13 14       5  6  7  8  9 10 11\n",
      "10 11 12 13 14 15 16      15 16 17 18 19 20 21      12 13 14 15 16 17 18\n",
      "17 18 19 20 21 22 23      22 23 24 25 26 27 28      19 20 21 22 23 24 25\n",
      "24 25 26 27 28 29 30      29 30 31                  26 27 28 29 30\n",
      "\n",
      "        July                     August                  September\n",
      "Mo Tu We Th Fr Sa Su      Mo Tu We Th Fr Sa Su      Mo Tu We Th Fr Sa Su\n",
      "                1  2          1  2  3  4  5  6                   1  2  3\n",
      " 3  4  5  6  7  8  9       7  8  9 10 11 12 13       4  5  6  7  8  9 10\n",
      "10 11 12 13 14 15 16      14 15 16 17 18 19 20      11 12 13 14 15 16 17\n",
      "17 18 19 20 21 22 23      21 22 23 24 25 26 27      18 19 20 21 22 23 24\n",
      "24 25 26 27 28 29 30      28 29 30 31               25 26 27 28 29 30\n",
      "31\n",
      "\n",
      "      October                   November                  December\n",
      "Mo Tu We Th Fr Sa Su      Mo Tu We Th Fr Sa Su      Mo Tu We Th Fr Sa Su\n",
      "                   1             1  2  3  4  5                   1  2  3\n",
      " 2  3  4  5  6  7  8       6  7  8  9 10 11 12       4  5  6  7  8  9 10\n",
      " 9 10 11 12 13 14 15      13 14 15 16 17 18 19      11 12 13 14 15 16 17\n",
      "16 17 18 19 20 21 22      20 21 22 23 24 25 26      18 19 20 21 22 23 24\n",
      "23 24 25 26 27 28 29      27 28 29 30               25 26 27 28 29 30 31\n",
      "30 31\n",
      "\n"
     ]
    }
   ],
   "source": [
    "import calendar\n",
    "def Calendar():\n",
    "    year=int(input(\"Enter Year:\"))\n",
    "    print(calendar.calendar(year))\n",
    "Calendar()"
   ]
  },
  {
   "cell_type": "markdown",
   "id": "107d2f3d",
   "metadata": {},
   "source": [
    "### 4.Write a Python program to solve quadartic equation ?"
   ]
  },
  {
   "cell_type": "code",
   "execution_count": 4,
   "id": "994fb755",
   "metadata": {},
   "outputs": [
    {
     "name": "stdout",
     "output_type": "stream",
     "text": [
      "Quadratic Equation: ax^2 + bx + c = 0\n",
      "Enter the coeff a: 3\n",
      "Enter the coeff b: -5\n",
      "Enter the coeff c: 2\n",
      "\n",
      "For quad eq. 3x^2 + (-5)x + 2\n",
      "The solutions are: 1.0 and 0.6666666666666666\n"
     ]
    }
   ],
   "source": [
    "import math\n",
    "\n",
    "print(\"Quadratic Equation: ax^2 + bx + c = 0\")\n",
    "\n",
    "a = int(input((\"Enter the coeff a: \")))\n",
    "b = int(input((\"Enter the coeff b: \")))\n",
    "c = int(input((\"Enter the coeff c: \")))\n",
    "\n",
    "discriminant = (b**2) - (4*a*c)\n",
    "\n",
    "root1 = ((-1*b)+(math.sqrt(discriminant))) / (2*a)\n",
    "root2 = ((-1*b)-(math.sqrt(discriminant))) / (2*a)\n",
    "\n",
    "print('\\nFor quad eq. {}x^2 + ({})x + {}'.format(a,b,c))\n",
    "print('The solutions are: {} and {}'.format(root1, root2))"
   ]
  },
  {
   "cell_type": "markdown",
   "id": "c0e6390a",
   "metadata": {},
   "source": [
    "### 5. Write a Python program to swap two variables without temp variable?"
   ]
  },
  {
   "cell_type": "code",
   "execution_count": 5,
   "id": "489a40d6",
   "metadata": {},
   "outputs": [
    {
     "name": "stdout",
     "output_type": "stream",
     "text": [
      "Enter the first number: 20\n",
      "Enter the second number: 40\n",
      "Before Swapping 20 40\n",
      "After Swapping 40 20\n"
     ]
    }
   ],
   "source": [
    "num_1 = int(input('Enter the first number: '))\n",
    "num_2 = int(input('Enter the second number: '))\n",
    "\n",
    "def SwapNum(X,Y):\n",
    "    \n",
    "    \"\"\"Function to swap two variables without temp variable\"\"\"\n",
    "    print('Before Swapping',X,Y)\n",
    "    X = X+Y\n",
    "    Y = X-Y\n",
    "    X = X-Y\n",
    "    print('After Swapping',X,Y)\n",
    "\n",
    "SwapNum(num_1,num_2)"
   ]
  },
  {
   "cell_type": "code",
   "execution_count": null,
   "id": "8c2b3e81",
   "metadata": {},
   "outputs": [],
   "source": []
  }
 ],
 "metadata": {
  "kernelspec": {
   "display_name": "Python 3.9.7 64-bit",
   "language": "python",
   "name": "python3"
  },
  "language_info": {
   "codemirror_mode": {
    "name": "ipython",
    "version": 3
   },
   "file_extension": ".py",
   "mimetype": "text/x-python",
   "name": "python",
   "nbconvert_exporter": "python",
   "pygments_lexer": "ipython3",
   "version": "3.9.7"
  },
  "vscode": {
   "interpreter": {
    "hash": "d490484298ea0ecd1d7d872b4f9bd775c1a119ef01487bf1aa5f41aec21812ee"
   }
  }
 },
 "nbformat": 4,
 "nbformat_minor": 5
}
