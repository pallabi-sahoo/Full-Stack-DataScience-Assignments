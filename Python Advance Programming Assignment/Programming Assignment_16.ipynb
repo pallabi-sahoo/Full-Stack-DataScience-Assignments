{
 "cells": [
  {
   "cell_type": "markdown",
   "id": "e5af80a3",
   "metadata": {},
   "source": [
    "# Python Advance Programming Assignment_ 16 Solutions"
   ]
  },
  {
   "cell_type": "markdown",
   "id": "933b4751",
   "metadata": {},
   "source": [
    "### 1. Rondo Form is a type of musical structure, in which there is a recurring theme/refrain, notated as A. Here are the rules for valid rondo forms:\n",
    "\n",
    "   - Rondo forms always start and end with an A section.\n",
    "   - In between the A sections, there should be contrasting sections notated as B, then C, then D, etc... No letter should be skipped.\n",
    "   - There shouldn't be any repeats in the sequence (such as ABBACCA).\n",
    "\n",
    "Create a function which validates whether a given string is a valid Rondo Form.\n",
    "\n",
    "**Examples:**   \n",
    "`valid_rondo(\"ABACADAEAFAGAHAIAJA\") ➞ True`  \n",
    "`valid_rondo(\"ABA\") ➞ True`  \n",
    "`valid_rondo(\"ABBACCA\") ➞ False`  \n",
    "`valid_rondo(\"ACAC\") ➞ False`  \n",
    "`valid_rondo(\"A\") ➞ False`   "
   ]
  },
  {
   "cell_type": "code",
   "execution_count": 1,
   "id": "12f855dc",
   "metadata": {},
   "outputs": [
    {
     "name": "stdout",
     "output_type": "stream",
     "text": [
      "True\n",
      "True\n",
      "False\n",
      "False\n",
      "False\n"
     ]
    }
   ],
   "source": [
    "def valid_rondo(string):\n",
    "    string_ = string.replace('A','')\n",
    "    string_ = list(string_)\n",
    "    output = False\n",
    "    if len(string_) == 1:\n",
    "            output= True\n",
    "    else:\n",
    "        for i in range(len(string_)-1):\n",
    "            if ord(string_[i]) < ord(string_[i+1]):\n",
    "                output= True\n",
    "            else:\n",
    "                output = False\n",
    "                break\n",
    "    return output\n",
    "   \n",
    "print(valid_rondo(\"ABACADAEAFAGAHAIAJA\"))\n",
    "print(valid_rondo(\"ABA\"))\n",
    "print(valid_rondo(\"ABBACCA\"))\n",
    "print(valid_rondo(\"ACAC\"))\n",
    "print(valid_rondo(\"A\"))"
   ]
  },
  {
   "cell_type": "markdown",
   "id": "88f707c9",
   "metadata": {},
   "source": [
    "### 2. Create a function that returns the whole of the first sentence which contains a specific word. Include the full stop at the end of the sentence.\n",
    "**Examples:**   \n",
    "`txt = \"I have a cat. I have a mat. Things are going swell.\"`  \n",
    "`sentence_searcher(txt, \"have\") ➞ \"I have a cat.\"`  \n",
    "`sentence_searcher(txt, \"MAT\") ➞ \"I have a mat.\"`  \n",
    "`sentence_searcher(txt, \"things\") ➞ \"Things are going swell.\"`  \n",
    "`sentence_searcher(txt, \"flat\") ➞ \"\"` "
   ]
  },
  {
   "cell_type": "code",
   "execution_count": 2,
   "id": "d0498f71",
   "metadata": {},
   "outputs": [
    {
     "name": "stdout",
     "output_type": "stream",
     "text": [
      "I have a cat\n",
      "I have a mat\n",
      "Things are going swell.\n",
      "\"\"\n"
     ]
    }
   ],
   "source": [
    "def sentence_searcher(string, txt):\n",
    "    output = '\"\"'\n",
    "    for i in string.split(\". \"):\n",
    "        if len(i.lower().replace(txt.lower(),'')) != len(i):\n",
    "            output = i\n",
    "            break\n",
    "    return output\n",
    "\n",
    "txt = \"I have a cat. I have a mat. Things are going swell.\"\n",
    "print(sentence_searcher(txt, \"have\"))\n",
    "print(sentence_searcher(txt, \"MAT\"))\n",
    "print(sentence_searcher(txt, \"things\"))\n",
    "print(sentence_searcher(txt, \"flat\"))"
   ]
  },
  {
   "cell_type": "markdown",
   "id": "fed1bd00",
   "metadata": {},
   "source": [
    "### 3. Given a number, find the \"round \"of each digit of the number. An integer is called \"round\" if all its digits except the leftmost (most significant) are equal to zero.\n",
    "    - Round numbers: 4000, 1, 9, 800, 90\n",
    "    - Not round numbers: 110, 707, 222, 1001\n",
    "Create a function that takes a number and returns the \"round\" of each digit (except if the digit is zero) as a string. Check out the following examples for more clarification.\n",
    "\n",
    "**Examples:**   \n",
    "`sum_round(101) ➞ \"1 100\"`   \n",
    "`sum_round(1234) ➞ \"4 30 200 1000\"`  \n",
    "`sum_round(54210) ➞ \"10 200 4000 50000\"`  "
   ]
  },
  {
   "cell_type": "code",
   "execution_count": 3,
   "id": "3701d8a5",
   "metadata": {},
   "outputs": [
    {
     "name": "stdout",
     "output_type": "stream",
     "text": [
      "1 100\n",
      "4 30 200 1000\n",
      "10 200 4000 50000\n"
     ]
    }
   ],
   "source": [
    "def sum_round(num):\n",
    "    output = []\n",
    "    num = str(num)\n",
    "    for i in range(len(num)):\n",
    "        if num[i] != '0':\n",
    "            output.append(num[i]+len(num[i+1:])*'0')\n",
    "    return \" \".join(output[::-1])\n",
    "        \n",
    "print(sum_round(101))\n",
    "print(sum_round(1234))\n",
    "print(sum_round(54210))"
   ]
  },
  {
   "cell_type": "markdown",
   "id": "9fab70eb",
   "metadata": {},
   "source": [
    "### 4. Your task, is to create N x N multiplication table, of size n provided in parameter.\n",
    "For example, when n is 5, the multiplication table is:\n",
    "   - 1, 2, 3, 4, 5\n",
    "   - 2, 4, 6, 8, 10\n",
    "   - 3, 6, 9, 12, 15\n",
    "   - 4, 8, 12, 16, 20\n",
    "   - 5, 10, 15, 20, 25\n",
    "   \n",
    "This example will result in:`[[1, 2, 3, 4, 5], [2, 4, 6, 8, 10], [3, 6, 9, 12, 15], [4, 8, 12, 16, 20], [5, 10, 15, 20, 25]]`  \n",
    "**Examples:**   \n",
    "`multiplication_table(1) ➞ [[1]]`   \n",
    "`multiplication_table(3) ➞ [[1, 2, 3], [2, 4, 6], [3, 6, 9]]`  "
   ]
  },
  {
   "cell_type": "code",
   "execution_count": 4,
   "id": "66431765",
   "metadata": {},
   "outputs": [
    {
     "name": "stdout",
     "output_type": "stream",
     "text": [
      "[[1, 2, 3], [2, 4, 6], [3, 6, 9]]\n",
      "[[1]]\n"
     ]
    }
   ],
   "source": [
    "def multiplication_table(num):\n",
    "    output =[]\n",
    "    for i in range(1,num+1):\n",
    "        temp = []\n",
    "        for j in range(1,num+1):\n",
    "            temp.append(i*j)\n",
    "        output.append(temp)\n",
    "    return output\n",
    "        \n",
    "print(multiplication_table(3)) \n",
    "print(multiplication_table(1))"
   ]
  },
  {
   "cell_type": "markdown",
   "id": "12569648",
   "metadata": {},
   "source": [
    "#### 5. Create a function that returns True if two lines rhyme and False otherwise. For the purposes of this exercise, two lines rhyme if the last word from each sentence contains the same vowels.\n",
    "**Examples:**   \n",
    "`does_rhyme(\"Sam I am!\", \"Green eggs and ham.\") ➞ True`  \n",
    "`does_rhyme(\"Sam I am!\", \"Green eggs and HAM.\") ➞ True`   \n",
    "`# Capitalization and punctuation should not matter.`  \n",
    "`does_rhyme(\"You are off to the races\", \"a splendid day.\") ➞ False`  \n",
    "`does_rhyme(\"and frequently do?\", \"you gotta move.\") ➞ False`  "
   ]
  },
  {
   "cell_type": "code",
   "execution_count": 5,
   "id": "594b2382",
   "metadata": {},
   "outputs": [
    {
     "name": "stdout",
     "output_type": "stream",
     "text": [
      "True\n",
      "True\n",
      "False\n",
      "False\n"
     ]
    }
   ],
   "source": [
    "def does_rhyme(str1,str2):\n",
    "    vowels = 'aeiou'\n",
    "    output= False\n",
    "    str1_rhyme = [i.lower() for i in str1.split(\" \")[-1] if i.lower() in vowels]\n",
    "    str2_rhyme = [i.lower() for i in str2.split(\" \")[-1] if i.lower() in vowels]\n",
    "    if str1_rhyme == str2_rhyme:\n",
    "        output = True\n",
    "    return output\n",
    "    \n",
    "print(does_rhyme(\"Sam I am!\", \"Green eggs and ham.\"))\n",
    "print(does_rhyme(\"Sam I am!\", \"Green eggs and HAM.\"))\n",
    "print(does_rhyme(\"You are off to the races\", \"a splendid day.\"))\n",
    "print(does_rhyme(\"and frequently do?\", \"you gotta move.\"))"
   ]
  },
  {
   "cell_type": "code",
   "execution_count": null,
   "id": "3bc1dd55",
   "metadata": {},
   "outputs": [],
   "source": []
  }
 ],
 "metadata": {
  "kernelspec": {
   "display_name": "Python 3 (ipykernel)",
   "language": "python",
   "name": "python3"
  },
  "language_info": {
   "codemirror_mode": {
    "name": "ipython",
    "version": 3
   },
   "file_extension": ".py",
   "mimetype": "text/x-python",
   "name": "python",
   "nbconvert_exporter": "python",
   "pygments_lexer": "ipython3",
   "version": "3.9.7"
  }
 },
 "nbformat": 4,
 "nbformat_minor": 5
}
