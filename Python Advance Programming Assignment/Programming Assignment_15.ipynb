{
 "cells": [
  {
   "cell_type": "markdown",
   "id": "a413f997",
   "metadata": {},
   "source": [
    "# Python Advance Programming Assignment_ 15 Solutions"
   ]
  },
  {
   "cell_type": "markdown",
   "id": "e488580b",
   "metadata": {},
   "source": [
    "### 1. Write a function that returns True if a given name can generate an array of words.\n",
    "**Examples:**   \n",
    "`anagram(\"Justin Bieber\", [\"injures\", \"ebb\", \"it\"]) ➞ True`    \n",
    "`anagram(\"Natalie Portman\", [\"ornamental\", \"pita\"]) ➞ True`   \n",
    "`anagram(\"Chris Pratt\", [\"chirps\", \"rat\"]) ➞ False`   \n",
    "`# Not all letters are used`   \n",
    "`anagram(\"Jeff Goldblum\", [\"jog\", \"meld\", \"bluffs\"]) ➞ False`   \n",
    "`# \"s\" does not exist in the original name`"
   ]
  },
  {
   "cell_type": "code",
   "execution_count": 1,
   "id": "519a91d0",
   "metadata": {},
   "outputs": [
    {
     "name": "stdout",
     "output_type": "stream",
     "text": [
      "True\n",
      "True\n",
      "False\n",
      "False\n"
     ]
    }
   ],
   "source": [
    "def anagram(string,lst):\n",
    "    string_list = list(string.lower())\n",
    "    string_list.remove(' ')\n",
    "    not_exist_list = []\n",
    "    output = False\n",
    "    for item in lst:\n",
    "        for i in item:\n",
    "            if i in string_list:\n",
    "                string_list.remove(i)\n",
    "            else:\n",
    "                not_exist_list.append(i)\n",
    "    if len(string_list) == 0 and len(not_exist_list) == 0:\n",
    "        output = True\n",
    "    return output\n",
    "            \n",
    "print(anagram(\"Justin Bieber\", [\"injures\", \"ebb\", \"it\"]))\n",
    "print(anagram(\"Natalie Portman\", [\"ornamental\", \"pita\"]))\n",
    "print(anagram(\"Chris Pratt\", [\"chirps\", \"rat\"]))\n",
    "print(anagram(\"Jeff Goldblum\", [\"jog\", \"meld\", \"bluffs\"]))"
   ]
  },
  {
   "cell_type": "markdown",
   "id": "2caf3085",
   "metadata": {},
   "source": [
    "### 2. Given an array of users, each defined by an object with the following properties: name, score, reputation create a function that sorts the array to form the correct leaderboard.\n",
    "\n",
    "The leaderboard takes into consideration the score of each user of course, but an emphasis is put on their reputation in the community, so to get the trueScore, you should add the reputation multiplied by 2 to the score.\n",
    "\n",
    "Once you know the trueScore of each user, sort the array according to it in descending order.\n",
    "\n",
    "**Examples:**   \n",
    "`leaderboards([\n",
    "  { \"name\": \"a\", \"score\": 100, \"reputation\": 20 },\n",
    "  { \"name\": \"b\", \"score\": 90, \"reputation\": 40 },\n",
    "  { \"name\": \"c\", \"score\": 115, \"reputation\": 30 },\n",
    "]) ➞ [\n",
    "  { \"name\": \"c\", \"score\": 115, \"reputation\": 30 },  # trueScore = 175\n",
    "  { \"name\": \"b\", \"score\": 90, \"reputation\": 40 },   # trueScore = 170\n",
    "  { \"name\": \"a\", \"score\": 100, \"reputation\": 20 }   # trueScore = 140\n",
    "]`"
   ]
  },
  {
   "cell_type": "code",
   "execution_count": 2,
   "id": "108f5a96",
   "metadata": {},
   "outputs": [
    {
     "data": {
      "text/plain": [
       "[{'name': 'c', 'score': 115, 'reputation': 30},\n",
       " {'name': 'b', 'score': 90, 'reputation': 40},\n",
       " {'name': 'a', 'score': 100, 'reputation': 20}]"
      ]
     },
     "execution_count": 2,
     "metadata": {},
     "output_type": "execute_result"
    }
   ],
   "source": [
    "def leaderboards(lst):\n",
    "    temp = {}\n",
    "    output = []\n",
    "    for i in lst:\n",
    "        temp[(i['reputation']*2)+i['score']] = i\n",
    "    for i in sorted(temp.keys(),reverse=True):\n",
    "        output.append(temp[i])\n",
    "    return output\n",
    "    \n",
    "leaderboards([\n",
    "  { \"name\": \"a\", \"score\": 100, \"reputation\": 20 },\n",
    "  { \"name\": \"b\", \"score\": 90, \"reputation\": 40 },\n",
    "  { \"name\": \"c\", \"score\": 115, \"reputation\": 30 },\n",
    "])"
   ]
  },
  {
   "cell_type": "markdown",
   "id": "6f7ee557",
   "metadata": {},
   "source": [
    "### 3. Create a function that, given a phrase and a number of letters guessed, returns a string with hyphens - for every letter of the phrase not guessed, and each letter guessed in place.\n",
    "**Examples:**   \n",
    "`hangman(\"helicopter\", [\"o\", \"e\", \"s\"]) ➞ \"-e---o--e-\"`  \n",
    "`hangman(\"tree\", [\"r\", \"t\", \"e\"]) ➞ \"tree\"`  \n",
    "`hangman(\"Python rules\", [\"a\", \"n\", \"p\", \"r\", \"z\"]) ➞ \"P----n r----\"`  \n",
    "`hangman(\"He\"s a very naughty boy!\", [\"e\", \"a\", \"y\"]) ➞ \"-e\"- a -e-y -a----y –y!\"`"
   ]
  },
  {
   "cell_type": "code",
   "execution_count": 3,
   "id": "a434637f",
   "metadata": {},
   "outputs": [
    {
     "name": "stdout",
     "output_type": "stream",
     "text": [
      "-e---o--e-\n",
      "tree\n",
      "P----n r----\n",
      "-e\"- a -e-y -a----y --y!\n"
     ]
    }
   ],
   "source": [
    "def hangman(string,lst):\n",
    "    output = ''\n",
    "    for i in range(len(string)):\n",
    "        if string[i].lower() in lst:\n",
    "            output += string[i]\n",
    "        elif string[i] in '\"! ':\n",
    "            output += string[i]\n",
    "        else:\n",
    "            output += '-'\n",
    "    return output\n",
    "        \n",
    "print(hangman(\"helicopter\", [\"o\", \"e\", \"s\"]))\n",
    "print(hangman(\"tree\", [\"r\", \"t\", \"e\"]))\n",
    "print(hangman(\"Python rules\", [\"a\", \"n\", \"p\", \"r\", \"z\"]))\n",
    "print(hangman(\"He\\\"s a very naughty boy!\", [\"e\", \"a\", \"y\"]))"
   ]
  },
  {
   "cell_type": "markdown",
   "id": "78c5baae",
   "metadata": {},
   "source": [
    "#### 4. The Collatz sequence is as follows:\n",
    "\n",
    "  - Start with some given integer n.\n",
    "  - If it is even, the next number will be n divided by 2.\n",
    "  - If it is odd, multiply it by 3 and add 1 to make the next number.\n",
    "  - The sequence stops when it reaches 1.\n",
    "\n",
    "According to the Collatz conjecture, it will always reach 1. If that's true, you can construct a finite sequence following the aforementioned method for any given integer.\n",
    "\n",
    "Write a function that takes in an integer n and returns the highest integer in the corresponding Collatz sequence.\n",
    "\n",
    "**Examples:**   \n",
    "`max_collatz(10) ➞ 16`  \n",
    "`# Collatz sequence: 10, 5, 16, 8, 4, 2, 1`\n",
    "\n",
    "`max_collatz(32) ➞ 32`  \n",
    "`# Collatz sequence: 32, 16, 8, 4, 2, 1`\n",
    "\n",
    "`max_collatz(85) ➞ 256`  \n",
    "`# Collatz sequence: 85, 256, 128, 64, 32, 16, 8, 4, 2, 1`"
   ]
  },
  {
   "cell_type": "code",
   "execution_count": 4,
   "id": "aa7e9c9b",
   "metadata": {},
   "outputs": [
    {
     "name": "stdout",
     "output_type": "stream",
     "text": [
      "16\n",
      "32\n",
      "256\n"
     ]
    }
   ],
   "source": [
    "def max_collatz(num):\n",
    "    output = []\n",
    "    output.append(num)\n",
    "    temp = num\n",
    "    while True:\n",
    "        if temp%2 == 0:\n",
    "            temp /= 2\n",
    "        else:\n",
    "            temp = (temp*3)+1\n",
    "        output.append(int(temp))\n",
    "        if temp ==1:\n",
    "            break\n",
    "    return max(output)\n",
    "\n",
    "print(max_collatz(10))\n",
    "print(max_collatz(32))\n",
    "print(max_collatz(85))"
   ]
  },
  {
   "cell_type": "markdown",
   "id": "bd2345a1",
   "metadata": {},
   "source": [
    "#### 5. Write a function that sorts a list of integers by their digit length in descending order, then settles ties by sorting numbers with the same digit length in ascending order.\n",
    "\n",
    "**Examples:**   \n",
    "`digit_sort([77, 23, 5, 7, 101]) ➞ [101, 23, 77, 5, 7]`  \n",
    "`digit_sort([1, 5, 9, 2, 789, 563, 444]) ➞ [444, 563, 789, 1, 2, 5, 9]`  \n",
    "`digit_sort([53219, 3772, 564, 32, 1]) ➞ [53219, 3772, 564, 32, 1]`  "
   ]
  },
  {
   "cell_type": "code",
   "execution_count": 5,
   "id": "a5c76fa1",
   "metadata": {},
   "outputs": [
    {
     "name": "stdout",
     "output_type": "stream",
     "text": [
      "[101, 23, 77, 5, 7]\n",
      "[444, 563, 789, 1, 2, 5, 9]\n",
      "[53219, 3772, 564, 32, 1]\n"
     ]
    }
   ],
   "source": [
    "def digit_sort(lst):\n",
    "    max_len = len(str(max(lst)))\n",
    "    output = []\n",
    "    for i in range(max_len,0,-1):\n",
    "        temp = []\n",
    "        for j in lst:\n",
    "            if len(str(j)) == i:\n",
    "                temp.append(j)\n",
    "        output.extend(sorted(temp))\n",
    "    return output\n",
    "    \n",
    "print(digit_sort([77, 23, 5, 7, 101]))\n",
    "print(digit_sort([1, 5, 9, 2, 789, 563, 444]))\n",
    "print(digit_sort([53219, 3772, 564, 32, 1]))"
   ]
  },
  {
   "cell_type": "code",
   "execution_count": null,
   "id": "82c8a7d2",
   "metadata": {},
   "outputs": [],
   "source": []
  }
 ],
 "metadata": {
  "kernelspec": {
   "display_name": "Python 3 (ipykernel)",
   "language": "python",
   "name": "python3"
  },
  "language_info": {
   "codemirror_mode": {
    "name": "ipython",
    "version": 3
   },
   "file_extension": ".py",
   "mimetype": "text/x-python",
   "name": "python",
   "nbconvert_exporter": "python",
   "pygments_lexer": "ipython3",
   "version": "3.9.7"
  }
 },
 "nbformat": 4,
 "nbformat_minor": 5
}
