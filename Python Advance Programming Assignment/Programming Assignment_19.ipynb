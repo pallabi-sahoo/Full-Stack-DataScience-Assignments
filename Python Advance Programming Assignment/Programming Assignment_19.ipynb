{
 "cells": [
  {
   "cell_type": "markdown",
   "id": "98ccab5d",
   "metadata": {},
   "source": [
    "# Python Advance Programming Assignment_19 Solutions"
   ]
  },
  {
   "cell_type": "markdown",
   "id": "80f0dfdc",
   "metadata": {},
   "source": [
    "### 1. Create a checker board generator, which takes as inputs n and 2 elements to generate an n x n checkerboard with those two elements as alternating squares.\n",
    "**Examples:**   \n",
    "`checker_board(2, 7, 6) ➞ [\n",
    "  [7, 6],\n",
    "  [6, 7]\n",
    "]`\n",
    "\n",
    "`checker_board(3, \"A\", \"B\") ➞ [\n",
    "  [\"A\", \"B\", \"A\"],\n",
    "  [\"B\", \"A\", \"B\"],\n",
    "  [\"A\", \"B\", \"A\"]\n",
    "]`\n",
    "\n",
    "`checker_board(4, \"c\", \"d\") ➞ [\n",
    "  [\"c\", \"d\", \"c\", \"d\"],\n",
    "  [\"d\", \"c\", \"d\", \"c\"],\n",
    "  [\"c\", \"d\", \"c\", \"d\"],\n",
    "  [\"d\", \"c\", \"d\", \"c\"]\n",
    "]`\n",
    "\n",
    "`checker_board(4, \"c\", \"c\") ➞ \"invalid\"`  "
   ]
  },
  {
   "cell_type": "code",
   "execution_count": 1,
   "id": "2d2e591e",
   "metadata": {},
   "outputs": [
    {
     "name": "stdout",
     "output_type": "stream",
     "text": [
      "[[7, 6], [6, 7]]\n",
      "[['A', 'B', 'A'], ['B', 'A', 'B'], ['A', 'B', 'A']]\n",
      "[['c', 'd', 'c', 'd'], ['d', 'c', 'd', 'c'], ['c', 'd', 'c', 'd'], ['d', 'c', 'd', 'c']]\n",
      "Invalid\n"
     ]
    }
   ],
   "source": [
    "def checker_board(n,ele1,ele2):\n",
    "    if ele1 != ele2:\n",
    "        input = [ele1,ele2]\n",
    "        output = []\n",
    "        for i in range(n):\n",
    "            output.append([])\n",
    "            for j in range(n):\n",
    "                output[i].append(input[(i+j)%2])\n",
    "    else:\n",
    "        output = 'Invalid'\n",
    "    return output\n",
    "    \n",
    "print(checker_board(2, 7, 6))\n",
    "print(checker_board(3, \"A\", \"B\"))\n",
    "print(checker_board(4, \"c\", \"d\"))\n",
    "print(checker_board(4, \"c\", \"c\")) "
   ]
  },
  {
   "cell_type": "markdown",
   "id": "314c0215",
   "metadata": {},
   "source": [
    "### 2. A string is an almost-palindrome if, by changing only one character, you can make it a palindrome. Create a function that returns True if a string is an almost-palindrome and False otherwise.\n",
    "\n",
    "**Examples:**   \n",
    "`almost_palindrome(\"abcdcbg\") ➞ True`  \n",
    "`# Transformed to \"abcdcba\" by changing \"g\" to \"a\".`  \n",
    "\n",
    "`almost_palindrome(\"abccia\") ➞ True`  \n",
    "`# Transformed to \"abccba\" by changing \"i\" to \"b\".`  \n",
    "\n",
    "`almost_palindrome(\"abcdaaa\") ➞ False`  \n",
    "`# Can't be transformed to a palindrome in exactly 1 turn.`  \n",
    "\n",
    "`almost_palindrome(\"1234312\") ➞ False`"
   ]
  },
  {
   "cell_type": "code",
   "execution_count": 2,
   "id": "ecf0479d",
   "metadata": {},
   "outputs": [
    {
     "name": "stdout",
     "output_type": "stream",
     "text": [
      "True\n",
      "True\n",
      "False\n",
      "False\n"
     ]
    }
   ],
   "source": [
    "def almost_palindrome(string):\n",
    "    reverse = string[::-1]\n",
    "    count = 0\n",
    "    for i in range(len(string)):\n",
    "        if string[i] != reverse[i]:\n",
    "            count +=1\n",
    "    output = True if count == 2 else False\n",
    "    return output\n",
    "    \n",
    "print(almost_palindrome(\"abcdcbg\"))\n",
    "print(almost_palindrome(\"abccia\"))\n",
    "print(almost_palindrome(\"abcdaaa\"))\n",
    "print(almost_palindrome(\"1234312\"))"
   ]
  },
  {
   "cell_type": "markdown",
   "id": "d9631f54",
   "metadata": {},
   "source": [
    "### 3. Create a function that finds how many prime numbers there are, up to the given integer.\n",
    "**Examples:**   \n",
    "`prime_numbers(10) ➞ 4 # 2, 3, 5 and 7`   \n",
    "`prime_numbers(20) ➞ 8 # 2, 3, 5, 7, 11, 13, 17 and 19`   \n",
    "`prime_numbers(30) ➞ 10 # 2, 3, 5, 7, 11, 13, 17, 19, 23 and 29`  "
   ]
  },
  {
   "cell_type": "code",
   "execution_count": 3,
   "id": "03576c26",
   "metadata": {},
   "outputs": [
    {
     "name": "stdout",
     "output_type": "stream",
     "text": [
      "4\n",
      "8\n",
      "10\n"
     ]
    }
   ],
   "source": [
    "def prime_numbers(num):\n",
    "    output = 0\n",
    "    list_ = [2,3]\n",
    "    for i in range(1,num+1):\n",
    "        if i <= 3 and i > 0:\n",
    "            output = 2 if i==3 else 1 if i ==2 else 0\n",
    "        elif i > 3 and (((i-1)%6 == 0) or ((i+1)%6 == 0)):\n",
    "            output +=1\n",
    "            list_.append(i)    \n",
    "    for j in list_:\n",
    "        for k in list_:\n",
    "            if j != k:\n",
    "                if j%k == 0:\n",
    "                    output -= 1\n",
    "    return output\n",
    "        \n",
    "print(prime_numbers(10))     \n",
    "print(prime_numbers(20))\n",
    "print(prime_numbers(30))"
   ]
  },
  {
   "cell_type": "markdown",
   "id": "b56b9ecc",
   "metadata": {},
   "source": [
    "### 4. If today was Monday, in two days, it would be Wednesday.\n",
    "\n",
    "Create a function that takes in a list of days as input and the number of days to increment by. Return a list of days after n number of days has passed.\n",
    "\n",
    "**Examples:**   \n",
    "`after_n_days([\"Thursday\", \"Monday\"], 4) ➞ [\"Monday\", \"Friday\"]`  \n",
    "`after_n_days([\"Sunday\", \"Sunday\", \"Sunday\"], 1) ➞ [\"Monday\", \"Monday\", \"Monday\"]`  \n",
    "`after_n_days([\"Monday\", \"Tuesday\", \"Friday\"], 1) ➞ [\"Tuesday\", \"Wednesday\", \"Saturday\"]`  "
   ]
  },
  {
   "cell_type": "code",
   "execution_count": 4,
   "id": "f2025bff",
   "metadata": {},
   "outputs": [
    {
     "name": "stdout",
     "output_type": "stream",
     "text": [
      "['Monday', 'Friday']\n",
      "['Monday', 'Monday', 'Monday']\n",
      "['Tuesday', 'Wednesday', 'Saturday']\n"
     ]
    }
   ],
   "source": [
    "def after_n_days(list_,num):\n",
    "    week_ = {0:'Sunday',1:'Monday',2:'Tuesday',3:'Wednesday',4:'Thursday',5:'Friday',6:'Saturday'}\n",
    "    week_days_no = list(week_.keys())\n",
    "    week_days_name = list(week_.values())\n",
    "    output = []\n",
    "    for i in list_:\n",
    "        output.append(week_[(week_days_name.index(i)+num)%7])\n",
    "    return output\n",
    "    \n",
    "print(after_n_days([\"Thursday\", \"Monday\"], 4))\n",
    "print(after_n_days([\"Sunday\", \"Sunday\", \"Sunday\"], 1))\n",
    "print(after_n_days([\"Monday\", \"Tuesday\", \"Friday\"], 1))"
   ]
  },
  {
   "cell_type": "markdown",
   "id": "ae1d562c",
   "metadata": {},
   "source": [
    "### 5. You are in the process of creating a chat application and want to add an anonymous name feature. This anonymous name feature will create an alias that consists of two capitalized words beginning with the same letter as the users first name.\n",
    "\n",
    "Create a function that determines if the list of users is mapped to a list of anonymous names correctly.\n",
    "\n",
    "**Examples:**   \n",
    "`is_correct_aliases([\"Adrian M.\", \"Harriet S.\", \"Mandy T.\"], [\"Amazing Artichoke\", \"Hopeful Hedgehog\", \"Marvelous Mouse\"]) ➞ True`\n",
    "\n",
    "`is_correct_aliases([\"Rachel F.\", \"Pam G.\", \"Fred Z.\", \"Nancy K.\"], [\"Reassuring Rat\", \"Peaceful Panda\", \"Fantastic Frog\", \"Notable Nickel\"]) ➞ True`\n",
    "\n",
    "`is_correct_aliases([\"Beth T.\"], [\"Brandishing Mimosa\"]) ➞ False`  \n",
    "`# Both words in \"Brandishing Mimosa\" should begin with a \"B\" - \"Brandishing Beaver\" would do the trick.` "
   ]
  },
  {
   "cell_type": "code",
   "execution_count": 5,
   "id": "bf6b45c8",
   "metadata": {},
   "outputs": [
    {
     "name": "stdout",
     "output_type": "stream",
     "text": [
      "True\n",
      "True\n",
      "False\n"
     ]
    }
   ],
   "source": [
    "def is_correct_aliases(list_1, list_2):\n",
    "    output = False\n",
    "    if len(list_1) == len(list_2):\n",
    "        for i in range(len(list_1)):\n",
    "            if list_1[i].split(\" \")[0][0] == list_2[i].split(\" \")[0][0] == list_2[i].split(\" \")[1][0]:\n",
    "                output = True\n",
    "            else:\n",
    "                output = False\n",
    "                break\n",
    "    return output\n",
    "\n",
    "print(is_correct_aliases([\"Adrian M.\",\"Harriet S.\",\"Mandy T.\"], [\"Amazing Artichoke\", \"Hopeful Hedgehog\", \"Marvelous Mouse\"]))\n",
    "print(is_correct_aliases([\"Rachel F.\",\"Pam G.\",\"Fred Z.\",\"Nancy K.\"], [\"Reassuring Rat\", \"Peaceful Panda\", \"Fantastic Frog\", \"Notable Nickel\"]))\n",
    "print(is_correct_aliases([\"Beth T.\"],[\"Brandishing Mimosa\"]))"
   ]
  },
  {
   "cell_type": "code",
   "execution_count": null,
   "id": "36d117cf",
   "metadata": {},
   "outputs": [],
   "source": []
  }
 ],
 "metadata": {
  "kernelspec": {
   "display_name": "Python 3 (ipykernel)",
   "language": "python",
   "name": "python3"
  },
  "language_info": {
   "codemirror_mode": {
    "name": "ipython",
    "version": 3
   },
   "file_extension": ".py",
   "mimetype": "text/x-python",
   "name": "python",
   "nbconvert_exporter": "python",
   "pygments_lexer": "ipython3",
   "version": "3.9.7"
  }
 },
 "nbformat": 4,
 "nbformat_minor": 5
}
