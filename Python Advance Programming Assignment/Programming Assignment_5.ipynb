{
 "cells": [
  {
   "cell_type": "markdown",
   "id": "45b4ae05",
   "metadata": {},
   "source": [
    "# Python Advance Programming Assignment_4 Solutions"
   ]
  },
  {
   "cell_type": "markdown",
   "id": "c9f9aeb7",
   "metadata": {},
   "source": [
    "### 1.Create a function that takes a number n (integer greater than zero) as an argument, and returns 2 if n is odd and 8 if n is even.\n",
    "You can only use the following arithmetic operators:                                                                       \n",
    "`addition of numbers +, \n",
    "subtraction of numbers -, \n",
    "multiplication of number *, \n",
    "division of number /, \n",
    "and exponentiation **.`                                                                                                    \n",
    "You are not allowed to use any other methods in this challenge (i.e. no if statements, comparison operators, etc).\n",
    "`Examples:\n",
    "f(1) ➞ 2\n",
    "f(2) ➞ 8\n",
    "f(3) ➞ 2`"
   ]
  },
  {
   "cell_type": "code",
   "execution_count": 1,
   "id": "f2e4f244",
   "metadata": {},
   "outputs": [
    {
     "name": "stdout",
     "output_type": "stream",
     "text": [
      "2\n",
      "8\n",
      "2\n"
     ]
    }
   ],
   "source": [
    "def f(n):\n",
    "    output = {0.5:2, 0.0:8}\n",
    "    b = n/2 - n//2  \n",
    "    return output[b]\n",
    "\n",
    "print(f(1))\n",
    "print(f(8))\n",
    "print(f(3))"
   ]
  },
  {
   "cell_type": "markdown",
   "id": "dcc3c230",
   "metadata": {},
   "source": [
    "### 2.Create a function that returns the majority vote in a list. A majority vote is an element that occurs > N/2 times in a list (where N is the length of the list).\n",
    "`Examples:\n",
    "majority_vote([\"A\", \"A\", \"B\"]) ➞ \"A\"\n",
    "majority_vote([\"A\", \"A\", \"A\", \"B\", \"C\", \"A\"]) ➞ \"A\"\n",
    "majority_vote([\"A\", \"B\", \"B\", \"A\", \"C\", \"C\"]) ➞ None`"
   ]
  },
  {
   "cell_type": "code",
   "execution_count": 2,
   "id": "903957c7",
   "metadata": {},
   "outputs": [
    {
     "name": "stdout",
     "output_type": "stream",
     "text": [
      "A\n",
      "A\n",
      "None\n"
     ]
    }
   ],
   "source": [
    "def majority_vote(votes):\n",
    "    for i in set(votes):\n",
    "        if votes.count(i) > len(votes)/2:\n",
    "            return i\n",
    "    else:\n",
    "        return None\n",
    "    \n",
    "print(majority_vote(['A', 'A', 'B']))\n",
    "print(majority_vote(['A', 'A', 'A', 'B', 'C', 'A']))\n",
    "print(majority_vote(['A', 'B', 'B', 'A', 'C', 'C']))"
   ]
  },
  {
   "cell_type": "markdown",
   "id": "0ba3cdac",
   "metadata": {},
   "source": [
    "### 3.Create a function that takes a string txt and censors any word from a given list lst. The text removed must be replaced by the given character char.\n",
    "`Examples:\n",
    "censor_string(\"Today is a Wednesday!\", [\"Today\", \"a\"], \"-\") ➞ \"----- is - Wednesday!\"\n",
    "censor_string(\"The cow jumped over the moon.\", [\"cow\", \"over\"], \"*\"), \"The *** jumped **** the moon.\")\n",
    "censor_string(\"Why did the chicken cross the road ?\", [\"Did\", \"chicken\", \"road\"], \"*\") ➞ \"Why *** the ******* cross the ****?\"`"
   ]
  },
  {
   "cell_type": "code",
   "execution_count": 3,
   "id": "c88676dd",
   "metadata": {},
   "outputs": [
    {
     "name": "stdout",
     "output_type": "stream",
     "text": [
      "----- is - Wednesday!\n",
      "The *** jumped **** the moon.\n",
      "Why *** the ******* cross the **** ?\n"
     ]
    }
   ],
   "source": [
    "def censor_string(string1, string2, char):\n",
    "    output = []\n",
    "    for i in string1.split():\n",
    "        if i.title() in string2 or i.lower() in string2 or i.upper() in string2:\n",
    "            output.append(char*len(i))\n",
    "        else:\n",
    "            output.append(i)\n",
    "    return \" \".join(output)\n",
    "\n",
    "print(censor_string(\"Today is a Wednesday!\", [\"Today\", \"a\"], \"-\"))\n",
    "print(censor_string(\"The cow jumped over the moon.\", [\"cow\", \"over\"], \"*\"))\n",
    "print(censor_string(\"Why did the chicken cross the road ?\", [\"Did\", \"chicken\", \"road\"], \"*\"))"
   ]
  },
  {
   "cell_type": "markdown",
   "id": "b92a15df",
   "metadata": {},
   "source": [
    "### 4.In mathematics a Polydivisible Number (or magic number) is a number in a given number base with digits abcde... that has the following properties:\n",
    "- Its first digit a is not 0.\n",
    "- The number formed by its first two digits ab is a multiple of 2.\n",
    "- The number formed by its first three digits abc is a multiple of 3.\n",
    "- The number formed by its first four digits abcd is a multiple of 4.                                                      \n",
    "Create a function which takes an integer n and returns True if the given number is a Polydivisible Number and False otherwise.                                                                                                                 \n",
    "Examples:                                                                                                                 \n",
    "`is_polydivisible(1232) ➞ True\n",
    "#1     / 1 = 1\n",
    "#12    / 2 = 6\n",
    "#123   / 3 = 41\n",
    "#1232  / 4 = 308\n",
    "is_polydivisible(123220 ) ➞ False\n",
    "#1   / 1 = 1\n",
    "#12   / 2 = 6\n",
    "#123   / 3 = 41\n",
    "#1232   / 4 = 308\n",
    "#12322   / 5 = 2464.4         # Not a Whole Number\n",
    "#123220   /6 = 220536.333...  # Not a Whole Number`"
   ]
  },
  {
   "cell_type": "code",
   "execution_count": 4,
   "id": "dda65f36",
   "metadata": {},
   "outputs": [
    {
     "name": "stdout",
     "output_type": "stream",
     "text": [
      "True\n",
      "False\n"
     ]
    }
   ],
   "source": [
    "def is_polydivisible(num):\n",
    "    output = False\n",
    "    temp = str(num)\n",
    "    for i in range(len(temp)):\n",
    "        if(int(temp[:i+1])%(i+1) == 0):\n",
    "            output = True\n",
    "        else:\n",
    "            output = False\n",
    "            break\n",
    "    return output\n",
    "        \n",
    "print(is_polydivisible(1232))\n",
    "print(is_polydivisible(123220))"
   ]
  },
  {
   "cell_type": "markdown",
   "id": "855c73e2",
   "metadata": {},
   "source": [
    "### 5.Create a function that takes a list of numbers and returns the sum of all prime numbers in the list.\n",
    "`Examples:\n",
    "sum_primes([1, 2, 3, 4, 5, 6, 7, 8, 9, 10]) ➞ 17\n",
    "sum_primes([2, 3, 4, 11, 20, 50, 71]) ➞ 87\n",
    "sum_primes([]) ➞ None`"
   ]
  },
  {
   "cell_type": "code",
   "execution_count": 5,
   "id": "c33a455b",
   "metadata": {},
   "outputs": [
    {
     "name": "stdout",
     "output_type": "stream",
     "text": [
      "17\n",
      "87\n",
      "None\n"
     ]
    }
   ],
   "source": [
    "def sum_primes(lst):\n",
    "    output = []\n",
    "    for i in lst:\n",
    "        if i in [2,3]:\n",
    "            output.append(i)\n",
    "        elif i in [6*n-1 for n in range(0,i)] or i in [6*n+1 for n in range(0,i)]:\n",
    "            output.append(i)\n",
    "    if 1 in output:\n",
    "        output.remove(1)\n",
    "    if len(output)>0:\n",
    "        return sum(output)\n",
    "    else:\n",
    "        return None\n",
    "        \n",
    "print(sum_primes([1, 2, 3, 4, 5, 6, 7, 8, 9, 10]))\n",
    "print(sum_primes([2, 3, 4, 11, 20, 50, 71]))\n",
    "print(sum_primes([]))"
   ]
  },
  {
   "cell_type": "code",
   "execution_count": null,
   "id": "ef982c1a",
   "metadata": {},
   "outputs": [],
   "source": []
  }
 ],
 "metadata": {
  "kernelspec": {
   "display_name": "Python 3 (ipykernel)",
   "language": "python",
   "name": "python3"
  },
  "language_info": {
   "codemirror_mode": {
    "name": "ipython",
    "version": 3
   },
   "file_extension": ".py",
   "mimetype": "text/x-python",
   "name": "python",
   "nbconvert_exporter": "python",
   "pygments_lexer": "ipython3",
   "version": "3.9.7"
  }
 },
 "nbformat": 4,
 "nbformat_minor": 5
}
