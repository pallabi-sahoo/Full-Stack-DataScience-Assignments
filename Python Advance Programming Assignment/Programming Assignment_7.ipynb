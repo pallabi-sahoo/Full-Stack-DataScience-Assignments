{
 "cells": [
  {
   "cell_type": "markdown",
   "id": "e1b8fc76",
   "metadata": {},
   "source": [
    "# Python Advance Programming Assignment_7 Solutions "
   ]
  },
  {
   "cell_type": "markdown",
   "id": "f4146fbe",
   "metadata": {},
   "source": [
    "### 1. Write a function that counts how many concentric layers a rug.\n",
    "`Examples:\n",
    "count_layers([\"AAAA\",\"ABBA\",\"AAAA\"]) ➞ 2\n",
    "count_layers([\"AAAAAAAAA\",\"ABBBBBBBA\",\"ABBAAABBA\",\"ABBBBBBBA\",\"AAAAAAAAA\"]) ➞ 3\n",
    "count_layers([\"AAAAAAAAAAA\",\"AABBBBBBBAA\",\"AABCCCCCBAA\",\"AABCAAACBAA\",\"AABCADACBAA\",\"AABCAAACBAA\",\"AABCCCCCBAA\",\"AABBBBBBBAA\",\"AAAAAAAAAAA\"]) ➞ 5`"
   ]
  },
  {
   "cell_type": "code",
   "execution_count": 1,
   "id": "49d6d504",
   "metadata": {},
   "outputs": [
    {
     "name": "stdout",
     "output_type": "stream",
     "text": [
      "2\n",
      "3\n",
      "5\n"
     ]
    }
   ],
   "source": [
    "def count_layers(lst):\n",
    "    output = []\n",
    "    for i in lst:\n",
    "        if i not in output:\n",
    "            output.append(i)\n",
    "    return len(output)\n",
    "\n",
    "print(count_layers([\"AAAA\",\"ABBA\",\"AAAA\"]))\n",
    "print(count_layers([\"AAAAAAAAA\",\"ABBBBBBBA\",\"ABBAAABBA\",\"ABBBBBBBA\",\"AAAAAAAAA\"]))\n",
    "print(count_layers([\"AAAAAAAAAAA\",\"AABBBBBBBAA\",\"AABCCCCCBAA\",\"AABCAAACBAA\",\"AABCADACBAA\",\"AABCAAACBAA\",\"AABCCCCCBAA\",\"AABBBBBBBAA\",\"AAAAAAAAAAA\"]))"
   ]
  },
  {
   "cell_type": "markdown",
   "id": "709d5318",
   "metadata": {},
   "source": [
    "### 2. There are many different styles of music and many albums exhibit multiple styles. Create a function that takes a list of musical styles from albums and returns how many styles are unique.\n",
    "`Examples:\n",
    "unique_styles([\n",
    "  \"Dub,Dancehall\",\n",
    "  \"Industrial,Heavy Metal\",\n",
    "  \"Techno,Dubstep\",\n",
    "  \"Synth-pop,Euro-Disco\",\n",
    "  \"Industrial,Techno,Minimal\"\n",
    "]) ➞ 9\n",
    "unique_styles([\n",
    "  \"Soul\",\n",
    "  \"House,Folk\",\n",
    "  \"Trance,Downtempo,Big Beat,House\",\n",
    "  \"Deep House\",\n",
    "  \"Soul\"\n",
    "]) ➞ 7`"
   ]
  },
  {
   "cell_type": "code",
   "execution_count": 2,
   "id": "b0bb3d1d",
   "metadata": {},
   "outputs": [
    {
     "name": "stdout",
     "output_type": "stream",
     "text": [
      "9\n",
      "7\n"
     ]
    }
   ],
   "source": [
    "def unique_styles(lst):\n",
    "    output = []\n",
    "    for i in lst:\n",
    "        for j in i.split(','):\n",
    "            output.append(j)\n",
    "    return len(set(output))\n",
    "                \n",
    "print(unique_styles([\"Dub,Dancehall\",\"Industrial,Heavy Metal\",\"Techno,Dubstep\",\"Synth-pop,Euro-Disco\",\"Industrial,Techno,Minimal\"])) \n",
    "print(unique_styles([\"Soul\",\"House,Folk\",\"Trance,Downtempo,Big Beat,House\",\"Deep House\",\"Soul\"]))"
   ]
  },
  {
   "cell_type": "markdown",
   "id": "46c05ab0",
   "metadata": {},
   "source": [
    "### 3. Create a function that finds a target number in a list of prime numbers. Implement a binary search algorithm in your function. The target number will be from 2 through 97. If the target is prime then return \"yes\" else return \"no\".\n",
    "`Examples:\n",
    "primes = [2, 3, 5, 7, 11, 13, 17, 19, 23, 29, 31, 37, 41, 43, 47, 53, 59, 61, 67, 71, 73, 79, 83, 89, 97]\n",
    "is_prime(primes, 3) ➞ \"yes\"\n",
    "is_prime(primes, 4) ➞ \"no\"\n",
    "is_prime(primes, 67) ➞ \"yes\"\n",
    "is_prime(primes, 36) ➞ \"no\"`"
   ]
  },
  {
   "cell_type": "code",
   "execution_count": 3,
   "id": "388fdfae",
   "metadata": {},
   "outputs": [
    {
     "name": "stdout",
     "output_type": "stream",
     "text": [
      "Yes\n",
      "No\n",
      "Yes\n",
      "No\n"
     ]
    }
   ],
   "source": [
    "primes = [2, 3, 5, 7, 11, 13, 17, 19, 23, 29, 31, 37, 41, 43, 47, 53, 59, 61, 67, 71, 73, 79, 83, 89, 97]\n",
    "def is_prime(lst,num):\n",
    "    output = 'No'\n",
    "    start_point = 0\n",
    "    end_point = len(lst) - 1\n",
    "    mid_point = 0\n",
    "    while start_point <= end_point:\n",
    "        mid_point = (end_point+start_point)//2\n",
    "        if lst[mid_point] < num:\n",
    "            start_point = mid_point + 1\n",
    "        elif lst[mid_point] > num:\n",
    "            end_point = mid_point - 1\n",
    "        else:\n",
    "            output = 'Yes'\n",
    "            break\n",
    "    return output\n",
    "\n",
    "print(is_prime(primes, 3))\n",
    "print(is_prime(primes, 4))\n",
    "print(is_prime(primes, 67))\n",
    "print(is_prime(primes, 36))"
   ]
  },
  {
   "cell_type": "markdown",
   "id": "b234e836",
   "metadata": {},
   "source": [
    "### 4. Create a function that takes in n, a, b and returns the number of positive values raised to the nth power that lie in the range [a, b], inclusive.\n",
    "`Examples:\n",
    "power_ranger(2, 49, 65) ➞ 2\n",
    "#2 squares (n^2) lie between 49 and 65, 49 (7^2) and 64 (8^2)`\n",
    "\n",
    "`power_ranger(3, 1, 27) ➞ 3\n",
    "#3 cubes (n^3) lie between 1 and 27, 1 (1^3), 8 (2^3) and 27 (3^3)`\n",
    "\n",
    "`power_ranger(10, 1, 5) ➞ 1\n",
    "#1 value raised to the 10th power lies between 1 and 5, 1 (1^10)`\n",
    "\n",
    "`power_ranger(5, 31, 33) ➞ 1\n",
    " power_ranger(4, 250, 1300) ➞ 3`"
   ]
  },
  {
   "cell_type": "code",
   "execution_count": 4,
   "id": "6d1d25b0",
   "metadata": {},
   "outputs": [
    {
     "name": "stdout",
     "output_type": "stream",
     "text": [
      "2\n",
      "3\n",
      "1\n",
      "1\n",
      "3\n"
     ]
    }
   ],
   "source": [
    "import math\n",
    "def power_ranger(n,a,b):\n",
    "    output = []\n",
    "    for i in range(a,b+1):\n",
    "        root = round(math.exp(math.log(i)/n),1)\n",
    "        if str(root).split(\".\")[1] == '0':\n",
    "            output.append(int(root))\n",
    "    print(len(set(output)))\n",
    "\n",
    "power_ranger(2, 49, 65)\n",
    "power_ranger(3, 1, 27)\n",
    "power_ranger(10, 1, 5)\n",
    "power_ranger(5, 31, 33)\n",
    "power_ranger(4, 250, 1300)"
   ]
  },
  {
   "cell_type": "markdown",
   "id": "410834ec",
   "metadata": {},
   "source": [
    "### 5. Given a number, return the difference between the maximum and minimum numbers that can be formed when the digits are rearranged.\n",
    "`Examples:\n",
    "rearranged_difference(972882) ➞ 760833\n",
    "#988722 - 227889 = 760833\n",
    "rearranged_difference(3320707) ➞ 7709823\n",
    "#7733200 - 23377 = 7709823\n",
    "rearranged_difference(90010) ➞ 90981\n",
    "#91000 - 19 = 90981`"
   ]
  },
  {
   "cell_type": "code",
   "execution_count": 5,
   "id": "345418b1",
   "metadata": {},
   "outputs": [
    {
     "name": "stdout",
     "output_type": "stream",
     "text": [
      "760833\n",
      "7709823\n",
      "90981\n"
     ]
    }
   ],
   "source": [
    "def rearranged_difference(num):\n",
    "    split_num = []\n",
    "    for i in str(num):\n",
    "        split_num.append(i)\n",
    "    min_num = int(''.join(sorted(split_num))) \n",
    "    max_num = int(''.join(sorted(split_num, reverse=True)))\n",
    "    print(max_num-min_num)\n",
    "    \n",
    "rearranged_difference(972882)    \n",
    "rearranged_difference(3320707)\n",
    "rearranged_difference(90010)"
   ]
  },
  {
   "cell_type": "code",
   "execution_count": null,
   "id": "0cd34df0",
   "metadata": {},
   "outputs": [],
   "source": []
  }
 ],
 "metadata": {
  "kernelspec": {
   "display_name": "Python 3 (ipykernel)",
   "language": "python",
   "name": "python3"
  },
  "language_info": {
   "codemirror_mode": {
    "name": "ipython",
    "version": 3
   },
   "file_extension": ".py",
   "mimetype": "text/x-python",
   "name": "python",
   "nbconvert_exporter": "python",
   "pygments_lexer": "ipython3",
   "version": "3.9.7"
  }
 },
 "nbformat": 4,
 "nbformat_minor": 5
}
