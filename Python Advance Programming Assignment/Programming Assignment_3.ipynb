{
 "cells": [
  {
   "cell_type": "markdown",
   "id": "ef40e465",
   "metadata": {},
   "source": [
    "# Python Advance Programming Assignment_3 Solutions"
   ]
  },
  {
   "cell_type": "markdown",
   "id": "ec407cf6",
   "metadata": {},
   "source": [
    "### 1.Create a function to perform basic arithmetic operations that includes addition, subtraction, multiplication and division on a string number (e.g. \"12 + 24\" or \"23 - 21\" or \"12 // 12\" or \"12 * 21\").\n",
    "Here, we have 1 followed by a space, operator followed by another space and 2. For the challenge, we are going to have only two numbers between 1 valid operator. The return value should be a number.                                                 \n",
    "eval() is not allowed. In case of division, whenever the second number equals \"0\" return -1.                               \n",
    "For example:`\"15 // 0\"  ➞ -1`\n",
    "`Examples:\n",
    "arithmetic_operation(\"12 + 12\") ➞ 24 // 12 + 12 = 24\n",
    "arithmetic_operation(\"12 - 12\") ➞ 24 // 12 - 12 = 0\n",
    "arithmetic_operation(\"12 * 12\") ➞ 144 // 12 * 12 = 144\n",
    "arithmetic_operation(\"12 // 0\") ➞ -1 // 12 / 0 = -1`"
   ]
  },
  {
   "cell_type": "code",
   "execution_count": 1,
   "id": "34b102a5",
   "metadata": {},
   "outputs": [
    {
     "name": "stdout",
     "output_type": "stream",
     "text": [
      "24\n",
      "0\n",
      "144\n",
      "-1\n"
     ]
    }
   ],
   "source": [
    "import operator\n",
    "ops = {'+':operator.add,'-':operator.sub,'*':operator.mul,'//':operator.floordiv}\n",
    "def arithmetic_operation(string):\n",
    "    lst = string.split(\" \")\n",
    "    output = ops[lst[1]](int(lst[0]),int(lst[2])) if int(lst[2]) != 0 else -1\n",
    "    return output\n",
    "    \n",
    "print(arithmetic_operation(\"12 + 12\"))\n",
    "print(arithmetic_operation(\"12 - 12\"))\n",
    "print(arithmetic_operation(\"12 * 12\"))\n",
    "print(arithmetic_operation(\"12 // 0\"))"
   ]
  },
  {
   "cell_type": "markdown",
   "id": "bf86aa0c",
   "metadata": {},
   "source": [
    "### 2. Write a function that takes the coordinates of three points in the form of a 2d array and returns the perimeter of the triangle. The given points are the vertices of a triangle on a two-dimensional plane.\n",
    "`Examples\n",
    "perimeter( [ [15, 7], [5, 22], [11, 1] ] ) ➞ 47.08\n",
    "perimeter( [ [0, 0], [0, 1], [1, 0] ] ) ➞ 3.42\n",
    "perimeter( [ [-10, -10], [10, 10 ], [-10, 10] ] ) ➞ 68.28`"
   ]
  },
  {
   "cell_type": "code",
   "execution_count": 2,
   "id": "781aa224",
   "metadata": {},
   "outputs": [
    {
     "name": "stdout",
     "output_type": "stream",
     "text": [
      "47.08\n",
      "3.41\n",
      "68.28\n"
     ]
    }
   ],
   "source": [
    "import math\n",
    "def distance(x1, y1, x2, y2):\n",
    "    length = math.sqrt((x2 - x1)**2 + (y2 - y1)**2)\n",
    "    return length\n",
    "\n",
    "def perimeter(vertices):    \n",
    "    # [ [15, 7], [5, 22], [11, 1] ]     \n",
    "    side1 = distance(vertices[0][0], vertices[0][1], vertices[1][0], vertices[1][1])\n",
    "    side2 = distance(vertices[1][0], vertices[1][1], vertices[2][0], vertices[2][1])\n",
    "    side3 = distance(vertices[2][0], vertices[2][1], vertices[0][0], vertices[0][1])    \n",
    "    return round(side1 + side2+ side3,2)\n",
    "\n",
    "\n",
    "print(perimeter([[15,7],[5,22],[11,1]]))\n",
    "print(perimeter([[0,0],[0,1],[1,0]]))\n",
    "print(perimeter([[-10,-10],[10,10],[-10,10]]))"
   ]
  },
  {
   "cell_type": "markdown",
   "id": "50153b80",
   "metadata": {},
   "source": [
    "### 3. A city skyline can be represented as a 2-D list with 1s representing buildings. In the example below, the height of the tallest building is 4 (second-most right column).\n",
    "`[[0, 0, 0, 0, 0, 0],\n",
    "[0, 0, 0, 0, 1, 0],\n",
    "[0, 0, 1, 0, 1, 0],\n",
    "[0, 1, 1, 1, 1, 0],\n",
    "[1, 1, 1, 1, 1, 1]]`                                                                                                     \n",
    "Create a function that takes a skyline (2-D list of 0&#39;s and 1&#39;s) and returns the height of the tallest skyscraper. \n",
    "`Examples\n",
    "tallest_skyscraper([\n",
    "[0, 0, 0, 0],\n",
    "[0, 1, 0, 0],\n",
    "[0, 1, 1, 0],\n",
    "[1, 1, 1, 1]\n",
    "]) ➞ 3\n",
    "tallest_skyscraper([\n",
    "[0, 1, 0, 0],\n",
    "[0, 1, 0, 0],\n",
    "[0, 1, 1, 0],\n",
    "[1, 1, 1, 1]\n",
    "]) ➞ 4\n",
    "tallest_skyscraper([\n",
    "[0, 0, 0, 0],\n",
    "[0, 0, 0, 0],\n",
    "[1, 1, 1, 0],\n",
    "[1, 1, 1, 1]\n",
    "]) ➞ 2`"
   ]
  },
  {
   "cell_type": "code",
   "execution_count": 3,
   "id": "f4514a1a",
   "metadata": {},
   "outputs": [
    {
     "name": "stdout",
     "output_type": "stream",
     "text": [
      "3\n",
      "4\n",
      "2\n"
     ]
    }
   ],
   "source": [
    "def tallest_skyscraper(lst):\n",
    "    tallest = 0    \n",
    "    for i in range(len(lst[0])):\n",
    "        current_height = 0\n",
    "        for j in range(len(lst)):\n",
    "            current_height += lst[j][i]        \n",
    "        if current_height >= tallest:\n",
    "            tallest = current_height            \n",
    "    return tallest\n",
    "\n",
    "print(tallest_skyscraper([\n",
    "[0, 0, 0, 0],\n",
    "[0, 1, 0, 0],\n",
    "[0, 1, 1, 0],\n",
    "[1, 1, 1, 1]\n",
    "]))\n",
    "print(tallest_skyscraper([\n",
    "[0, 1, 0, 0],\n",
    "[0, 1, 0, 0],\n",
    "[0, 1, 1, 0],\n",
    "[1, 1, 1, 1]\n",
    "]))\n",
    "print(tallest_skyscraper([\n",
    "[0, 0, 0, 0],\n",
    "[0, 0, 0, 0],\n",
    "[1, 1, 1, 0],\n",
    "[1, 1, 1, 1]\n",
    "]))"
   ]
  },
  {
   "cell_type": "markdown",
   "id": "3cab6fe4",
   "metadata": {},
   "source": [
    "### 4. A financial institution provides professional services to banks and claims charges from the customers based on the number of man-days provided. Internally, it has set a scheme to motivate and reward staff to meet and exceed targeted billable utilization and revenues by paying a bonus for each day claimed from customers in excess of a threshold target.\n",
    "This quarterly scheme is calculated with a threshold target of 32 days per quarter, and the incentive payment for each billable day in excess of such threshold target is shown as follows:                                                 \n",
    "`Days                    Bonus\n",
    "0 to 32 days             Zero\n",
    "33 to 40 days            SGD$325 per billable day\n",
    "41 to 48 days            SGD$550 per billable day\n",
    "Greater than 48 days     SGD$600 per billable day `                                                                     \n",
    "Please note that incentive payment is calculated progressively. As an example, if an employee reached total billable days of 45 in a quarter, his/her incentive payment is computed as follows:                                                      \n",
    "32*0 + 8*325 + 5*550 = 5350                                                                                                 \n",
    "Write a function to read the billable days of an employee and return the bonus he/she has obtained in that quarter.       \n",
    "`Examples\n",
    "bonus(15) ➞ 0\n",
    "bonus(37) ➞ 1625\n",
    "bonus(50) ➞ 8200`"
   ]
  },
  {
   "cell_type": "code",
   "execution_count": 4,
   "id": "90246543",
   "metadata": {},
   "outputs": [
    {
     "name": "stdout",
     "output_type": "stream",
     "text": [
      "0\n",
      "1625\n",
      "8200\n"
     ]
    }
   ],
   "source": [
    "def bonus(days):    \n",
    "    bonus = 0\n",
    "    for i in range(days + 1):\n",
    "        if i <= 32:\n",
    "            continue\n",
    "        if i > 32 and i <= 40:\n",
    "            bonus += 325\n",
    "        if i > 40 and i <= 48:\n",
    "            bonus += 550\n",
    "        if i > 48:\n",
    "            bonus += 600        \n",
    "    return bonus\n",
    "\n",
    "\n",
    "print(bonus(15))\n",
    "print(bonus(37))\n",
    "print(bonus(50))"
   ]
  },
  {
   "cell_type": "markdown",
   "id": "a0437a19",
   "metadata": {},
   "source": [
    "### 5. A number is said to be Disarium if the sum of its digits raised to their respective positions is the number itself.\n",
    "Create a function that determines whether a number is a Disarium or not.                                                   \n",
    "`Examples\n",
    "is_disarium(75) ➞ False\n",
    "#7^1 + 5^2 = 7 + 25 = 32\n",
    "is_disarium(135) ➞ True\n",
    "#1^1 + 3^2 + 5^3 = 1 + 9 + 125 = 135\n",
    "is_disarium(544) ➞ False\n",
    "is_disarium(518) ➞ True\n",
    "is_disarium(466) ➞ False\n",
    "is_disarium(8) ➞ True`"
   ]
  },
  {
   "cell_type": "code",
   "execution_count": 5,
   "id": "ce0d69dd",
   "metadata": {},
   "outputs": [
    {
     "name": "stdout",
     "output_type": "stream",
     "text": [
      "False\n",
      "True\n",
      "False\n",
      "True\n",
      "False\n",
      "True\n"
     ]
    }
   ],
   "source": [
    "def is_disarium(num):    \n",
    "    temp = num\n",
    "    total = 0\n",
    "    itr = 1    \n",
    "    for i in str(num):\n",
    "        total += int(i)**itr\n",
    "        itr += 1        \n",
    "    return total == temp\n",
    "\n",
    "print(is_disarium(75))\n",
    "print(is_disarium(135))\n",
    "print(is_disarium(544))\n",
    "print(is_disarium(518))\n",
    "print(is_disarium(466))\n",
    "print(is_disarium(8))"
   ]
  },
  {
   "cell_type": "code",
   "execution_count": null,
   "id": "83eef755",
   "metadata": {},
   "outputs": [],
   "source": []
  }
 ],
 "metadata": {
  "kernelspec": {
   "display_name": "Python 3 (ipykernel)",
   "language": "python",
   "name": "python3"
  },
  "language_info": {
   "codemirror_mode": {
    "name": "ipython",
    "version": 3
   },
   "file_extension": ".py",
   "mimetype": "text/x-python",
   "name": "python",
   "nbconvert_exporter": "python",
   "pygments_lexer": "ipython3",
   "version": "3.9.7"
  }
 },
 "nbformat": 4,
 "nbformat_minor": 5
}
