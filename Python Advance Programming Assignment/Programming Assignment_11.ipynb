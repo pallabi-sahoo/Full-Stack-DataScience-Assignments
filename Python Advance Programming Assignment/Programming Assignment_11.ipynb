{
 "cells": [
  {
   "cell_type": "markdown",
   "id": "1ef1b1df",
   "metadata": {},
   "source": [
    "# Python Advance Programming Assignment_ 11 Solutions¶"
   ]
  },
  {
   "cell_type": "markdown",
   "id": "825a65de",
   "metadata": {},
   "source": [
    "### 1. Create a function that takes a list and returns a new list containing only prime numbers.\n",
    "`Examples\n",
    "filter_primes([7, 9, 3, 9, 10, 11, 27]) ➞ [7, 3, 11]\n",
    "filter_primes([10007, 1009, 1007, 27, 147, 77, 1001, 70]) ➞ [10007, 1009]\n",
    "filter_primes([1009, 10, 10, 10, 3, 33, 9, 4, 1, 61, 63, 69, 1087, 1091, 1093,\n",
    "1097]) ➞ [1009, 3, 61, 1087, 1091, 1093, 1097]`"
   ]
  },
  {
   "cell_type": "code",
   "execution_count": 1,
   "id": "2781926d",
   "metadata": {},
   "outputs": [
    {
     "name": "stdout",
     "output_type": "stream",
     "text": [
      "[7, 3, 11]\n",
      "[10007, 1009]\n",
      "[1009, 10, 10, 10, 3, 33, 9, 4, 1, 61, 63, 69, 1087, 1091, 1093, 1097]\n"
     ]
    }
   ],
   "source": [
    "def filter_primes(lst):\n",
    "    output = []\n",
    "    for i in lst:\n",
    "        if i in [2,3]:\n",
    "            output.append(i)\n",
    "        elif ((i+1)%6 == 0) or ((i-1)%6 == 0) and i != 1:\n",
    "            output.append(i)\n",
    "    temp = output.copy()\n",
    "    for i in temp:\n",
    "        for j in range(2,i):\n",
    "            if i%j == 0:\n",
    "                output.remove(i)\n",
    "                break        \n",
    "    return output\n",
    "    \n",
    "print(filter_primes([7, 9, 3, 9, 10, 11, 27]))\n",
    "print(filter_primes([10007, 1009, 1007, 27, 147, 77, 1001, 70]))\n",
    "print(([1009, 10, 10, 10, 3, 33, 9, 4, 1, 61, 63, 69, 1087, 1091, 1093, 1097]))"
   ]
  },
  {
   "cell_type": "markdown",
   "id": "b4a3b67e",
   "metadata": {},
   "source": [
    "### 2. Once a water balloon pops, is soaks the area around it. The ground gets drier the further away you travel from the balloon.\n",
    "The effect of a water balloon popping can be modeled using a list. Create a function that takes a list which takes the pre-pop state and returns the state after the balloon is popped. The pre-pop state will contain at most a single balloon, whose size is represented by the only non-zero element.                                                                          \n",
    "`Examples\n",
    "pop([0, 0, 0, 0, 4, 0, 0, 0, 0]) ➞ [0, 1, 2, 3, 4, 3, 2, 1, 0]\n",
    "pop([0, 0, 0, 3, 0, 0, 0]) ➞ [0, 1, 2, 3, 2, 1, 0]\n",
    "pop([0, 0, 2, 0, 0]) ➞ [0, 1, 2, 1, 0]\n",
    "pop([0]) ➞ [0]`"
   ]
  },
  {
   "cell_type": "code",
   "execution_count": 2,
   "id": "df4544b4",
   "metadata": {},
   "outputs": [
    {
     "name": "stdout",
     "output_type": "stream",
     "text": [
      "[0, 1, 2, 3, 4, 3, 2, 1, 0]\n",
      "[0, 1, 2, 3, 2, 1, 0]\n",
      "[0, 1, 2, 1, 0]\n",
      "[0]\n"
     ]
    }
   ],
   "source": [
    "def pop(lst):\n",
    "    num = sorted(lst,reverse=True)[0]\n",
    "    output = []\n",
    "    if num == 0:\n",
    "        output.append(0)\n",
    "    else:\n",
    "        output.extend([x for x in range((len(lst)-1)//2)])\n",
    "        output.append(num)\n",
    "        output.extend([((len(lst)-2)//2)-x for x in range((len(lst)-1)//2)])\n",
    "    return output\n",
    "    \n",
    "print(pop([0, 0, 0, 0, 4, 0, 0, 0, 0]))\n",
    "print(pop([0, 0, 0, 3, 0, 0, 0]))\n",
    "print(pop([0, 0, 2, 0, 0]))\n",
    "print(pop([0]))"
   ]
  },
  {
   "cell_type": "markdown",
   "id": "82380a6c",
   "metadata": {},
   "source": [
    "### 3. \"Loves me, loves me not\" is a traditional game in which a person plucks off all the petals of a flower one by one, saying the phrase \"Loves me\" and \"Loves me not\" when determining whether the one that they love, loves them back.                                                                                                                                                             \n",
    "Given a number of petals, return a string which repeats the phrases \"Loves me\" and \"Loves  me not\" for every alternating petal, and return the last phrase in all caps. Remember to put a comma and space between phrases.                           \n",
    "`Examples\n",
    "loves_me(3) ➞ \"Loves me, Loves me not, LOVES ME\"\n",
    "loves_me(6) ➞ \"Loves me, Loves me not, Loves me, Loves me not, Loves me, LOVES ME NOT\"\n",
    "loves_me(1) ➞ \"LOVES ME\"`"
   ]
  },
  {
   "cell_type": "code",
   "execution_count": 3,
   "id": "2b54f353",
   "metadata": {},
   "outputs": [
    {
     "name": "stdout",
     "output_type": "stream",
     "text": [
      "Loves me, Loves me not, LOVES ME\n",
      "Loves me, Loves me not, Loves me, Loves me not, Loves me, LOVES ME NOT\n",
      "LOVES ME\n"
     ]
    }
   ],
   "source": [
    "def loves_me(num):\n",
    "    output = []\n",
    "    for i in range(num):\n",
    "        if i%2 ==0:\n",
    "            output.append('Loves me')\n",
    "        else:\n",
    "            output.append('Loves me not')\n",
    "    output[-1] = output[-1].upper()\n",
    "    print(\", \".join(output))\n",
    "    \n",
    "loves_me(3)\n",
    "loves_me(6)\n",
    "loves_me(1)"
   ]
  },
  {
   "cell_type": "markdown",
   "id": "98177454",
   "metadata": {},
   "source": [
    "### 4. Write a function that sorts each string in a list by the letter in alphabeticn ascending order (a-z).\n",
    "`Examples\n",
    "sort_by_letter([\"932c\", \"832u32\", \"2344b\"]) ➞ [\"2344b\", \"932c\", \"832u32\"]\n",
    "sort_by_letter([\"99a\", \"78b\", \"c2345\", \"11d\"]) ➞ [\"99a\", \"78b\", \"c2345\", \"11d\"]\n",
    "sort_by_letter([\"572z\", \"5y5\", \"304q2\"]) ➞ [\"304q2\", \"5y5\", \"572z\"]\n",
    "sort_by_letter([]) ➞ []`"
   ]
  },
  {
   "cell_type": "code",
   "execution_count": 4,
   "id": "251ab78d",
   "metadata": {},
   "outputs": [
    {
     "name": "stdout",
     "output_type": "stream",
     "text": [
      "['2344b', '932c', '832u32']\n",
      "['99a', '78b', 'c2345', '11d']\n",
      "['304q2', '5y5', '572z']\n",
      "[]\n"
     ]
    }
   ],
   "source": [
    "def sort_by_letter(lst):\n",
    "    temp = []\n",
    "    output = []\n",
    "    for i in lst:\n",
    "        for j in i:\n",
    "            if j.isalpha():\n",
    "                temp.append(j)\n",
    "    temp.sort()\n",
    "    for j in temp:\n",
    "        for i in lst:\n",
    "            if j in i:\n",
    "                output.append(i)\n",
    "    \n",
    "    return output\n",
    "                \n",
    "print(sort_by_letter([\"932c\", \"832u32\", \"2344b\"]))\n",
    "print(sort_by_letter([\"99a\", \"78b\", \"c2345\", \"11d\"]))\n",
    "print(sort_by_letter([\"572z\", \"5y5\", \"304q2\"]))\n",
    "print(sort_by_letter([]))"
   ]
  },
  {
   "attachments": {
    "j47rnydh4b7185830ske.jpg": {
     "image/jpeg": "[encoded data removed]"
    }
   },
   "cell_type": "markdown",
   "id": "d466c9cd",
   "metadata": {},
   "source": [
    "### 5. There are three cups on a table, at positions A, B, and C. At the start, there is a ball hidden under the cup at position B.\n",
    "![j47rnydh4b7185830ske.jpg](attachment:j47rnydh4b7185830ske.jpg)\n",
    "However, I perform several swaps on the cups, which is notated as two letters. For example, if I swap the cups at positions A and B, I could notate this as AB or BA.\n",
    "Create a function that returns the letter position that the ball is at, once I finish swapping the cups. The swaps will be given to you as a list.                                                                                                   \n",
    "`Example\n",
    "cup_swapping([\"AB\", \"CA\", \"AB\"]) ➞ \"C\"`                                                                                   \n",
    "`# Ball begins at position B.`                                                                                             \n",
    "`# Cups A and B swap, so the ball is at position A.`                                                                      \n",
    "`# Cups C and A swap, so the ball is at position C.`                                                                      \n",
    "`# Cups A and B swap, but the ball is at position C, so it doesn't move.`                                                 "
   ]
  },
  {
   "cell_type": "code",
   "execution_count": 5,
   "id": "7a4da45d",
   "metadata": {},
   "outputs": [
    {
     "name": "stdout",
     "output_type": "stream",
     "text": [
      "C\n",
      "B\n",
      "A\n",
      "B\n"
     ]
    }
   ],
   "source": [
    "def cup_swapping(lst,ini_position):\n",
    "    position = ini_position\n",
    "    for i in lst:\n",
    "        if position in i:\n",
    "            position = i.replace(position,'')\n",
    "    return position\n",
    "            \n",
    "print(cup_swapping([\"AB\", \"CA\", \"AB\"],'B'))\n",
    "print(cup_swapping([\"BC\", \"AB\", \"AC\"],'A'))\n",
    "print(cup_swapping([\"AB\", \"AC\", \"BC\"],'C'))\n",
    "print(cup_swapping([\"BA\", \"CB\", \"AB\"],'B'))"
   ]
  }
 ],
 "metadata": {
  "kernelspec": {
   "display_name": "Python 3 (ipykernel)",
   "language": "python",
   "name": "python3"
  },
  "language_info": {
   "codemirror_mode": {
    "name": "ipython",
    "version": 3
   },
   "file_extension": ".py",
   "mimetype": "text/x-python",
   "name": "python",
   "nbconvert_exporter": "python",
   "pygments_lexer": "ipython3",
   "version": "3.9.7"
  }
 },
 "nbformat": 4,
 "nbformat_minor": 5
}
