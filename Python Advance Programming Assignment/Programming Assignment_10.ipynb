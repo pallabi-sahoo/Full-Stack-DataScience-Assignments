{
 "cells": [
  {
   "cell_type": "markdown",
   "id": "3c382ce8",
   "metadata": {},
   "source": [
    "# Python Advance Programming Assignment_ 10 Solutions"
   ]
  },
  {
   "cell_type": "markdown",
   "id": "ec554172",
   "metadata": {},
   "source": [
    "### 1. Create a function that takes the width, height and character and returns a picture frame as a 2D list.\n",
    "Examples:                                                                                                                   \n",
    "`get_frame(4, 5, \"#\") ➞ [\n",
    "  [\"####\"],\n",
    "  [\"#  #\"],\n",
    "  [\"#  #\"],\n",
    "  [\"#  #\"],\n",
    "  [\"####\"]\n",
    "]`                                                                                                                         \n",
    "`# Frame is 4 characters wide and 5 characters tall.`\n",
    "\n",
    "`get_frame(10, 3, \"*\") ➞ [\n",
    "  [\"**********\"],\n",
    "  [\"*        *\"],\n",
    "  [\"**********\"]\n",
    "]`                                                              \n",
    "`# Frame is 10 characters and wide and 3 characters tall.`                                                                \n",
    "\n",
    "`get_frame(2, 5, \"0\") ➞ \"invalid\"`                                                                                        \n",
    "`# Frame's width is not more than 2.`                                                                                     "
   ]
  },
  {
   "cell_type": "code",
   "execution_count": 1,
   "id": "f33e6a75",
   "metadata": {},
   "outputs": [
    {
     "name": "stdout",
     "output_type": "stream",
     "text": [
      "['####']\n",
      "['#  #']\n",
      "['#  #']\n",
      "['#  #']\n",
      "['####']\n",
      "\n",
      "['**********']\n",
      "['*        *']\n",
      "['**********']\n",
      "\n",
      "Invalid\n"
     ]
    }
   ],
   "source": [
    "def get_frame(width, height, char):\n",
    "    if width <= 2:\n",
    "        print(\"Invalid\")\n",
    "    else:\n",
    "        output = []\n",
    "        for i in range(height):\n",
    "            if i == 0 or i == height-1:\n",
    "                output.append([width*char])\n",
    "            else:\n",
    "                output.append([char+' '*(width-2)+char])\n",
    "        for j in output:\n",
    "            print(j)\n",
    "        print()\n",
    "    \n",
    "get_frame(4, 5, \"#\")\n",
    "get_frame(10, 3, \"*\")\n",
    "get_frame(2, 5, \"0\")"
   ]
  },
  {
   "cell_type": "markdown",
   "id": "f84a365c",
   "metadata": {},
   "source": [
    "### 2. Write three functions:\n",
    "1. boolean_and\n",
    "2. boolean_or\n",
    "3. boolean_xor\n",
    "These functions should evaluate a list of True and False values, starting from the leftmost element and evaluating pairwise.                                                                                                                  \n",
    "Examples:                                                                                                                  \n",
    "`boolean_and([True, True, False, True]) ➞ False`                                                                          \n",
    "`# [True, True, False, True] => [True, False, True] => [False, True] => False`                                            \n",
    "\n",
    "`boolean_or([True, True, False, False]) ➞ True`                                                                           \n",
    "`# [True, True, False, True] => [True, False, False] => [True, False] => True`                                             \n",
    "\n",
    "`boolean_xor([True, True, False, False]) ➞ False`                                                                         \n",
    "`# [True, True, False, False] => [False, False, False] => [False, False] => False`                                         "
   ]
  },
  {
   "cell_type": "code",
   "execution_count": 2,
   "id": "429ed7f6",
   "metadata": {},
   "outputs": [
    {
     "name": "stdout",
     "output_type": "stream",
     "text": [
      "False\n",
      "True\n",
      "False\n"
     ]
    }
   ],
   "source": [
    "def boolean_and(lst):\n",
    "    while len(lst) != 1:\n",
    "        x = lst.pop(0)\n",
    "        y = lst.pop(0)\n",
    "        lst.insert(0,(x and y))\n",
    "    return lst[0]\n",
    "    \n",
    "def boolean_or(lst):\n",
    "    while len(lst) != 1:\n",
    "        x = lst.pop(0)\n",
    "        y = lst.pop(0)\n",
    "        lst.insert(0,(x or y))\n",
    "    return lst[0]\n",
    "    \n",
    "def boolean_xor(lst):\n",
    "    while len(lst) != 1:\n",
    "        x = lst.pop(0)\n",
    "        y = lst.pop(0)\n",
    "        lst.insert(0,(x ^ y))\n",
    "    return lst[0]\n",
    "    \n",
    "print(boolean_and([True, True, False, True]))\n",
    "print(boolean_or([True, True, False, False]))\n",
    "print(boolean_xor([True, True, False, False]))"
   ]
  },
  {
   "cell_type": "markdown",
   "id": "51e0f894",
   "metadata": {},
   "source": [
    "### 3. Create a function that creates a box based on dimension n.\n",
    "`Examples:\n",
    "make_box(5) ➞ [\n",
    "  \"#####\",\n",
    "  \"#   #\",\n",
    "  \"#   #\",\n",
    "  \"#   #\",\n",
    "  \"#####\"\n",
    "]`\n",
    "\n",
    "`make_box(3) ➞ [\n",
    "  \"###\",\n",
    "  \"# #\",\n",
    "  \"###\"\n",
    "]`\n",
    "\n",
    "`make_box(2) ➞ [\n",
    "  \"##\",\n",
    "  \"##\"\n",
    "]`\n",
    "\n",
    "`make_box(1) ➞ [\n",
    "  \"#\"\n",
    "]`"
   ]
  },
  {
   "cell_type": "code",
   "execution_count": 3,
   "id": "82535edc",
   "metadata": {},
   "outputs": [
    {
     "name": "stdout",
     "output_type": "stream",
     "text": [
      "#####\n",
      "#   #\n",
      "#   #\n",
      "#   #\n",
      "#####\n",
      "\n",
      "##\n",
      "##\n",
      "\n",
      "#\n",
      "\n"
     ]
    }
   ],
   "source": [
    "def make_box(dimension):\n",
    "    output = []\n",
    "    for i in range(dimension):\n",
    "        if i == 0 or i == dimension-1:\n",
    "            output.append('#'*dimension)\n",
    "        else:\n",
    "            output.append('#'+' '*(dimension-2)+'#')\n",
    "    for i in output:\n",
    "        print(i)\n",
    "    print()\n",
    "    \n",
    "make_box(5)   \n",
    "make_box(2)\n",
    "make_box(1)"
   ]
  },
  {
   "cell_type": "markdown",
   "id": "92fa0e96",
   "metadata": {},
   "source": [
    "### 4. Given a common phrase, return False if any individual word in the phrase contains duplicate letters. Return True otherwise.\n",
    "`Examples:\n",
    "no_duplicate_letters(\"Fortune favours the bold.\") ➞ True\n",
    "no_duplicate_letters(\"You can lead a horse to water, but you can't make him drink.\") ➞ True\n",
    "no_duplicate_letters(\"Look before you leap.\") ➞ False`                                                                    \n",
    "`# Duplicate letters in \"Look\" and \"before\".`                                                                              \n",
    "`no_duplicate_letters(\"An apple a day keeps the doctor away.\") ➞ False`                                                   \n",
    "`# Duplicate letters in \"apple\", \"keeps\", \"doctor\", and \"away\".`"
   ]
  },
  {
   "cell_type": "code",
   "execution_count": 4,
   "id": "823da505",
   "metadata": {},
   "outputs": [
    {
     "name": "stdout",
     "output_type": "stream",
     "text": [
      "True\n",
      "True\n",
      "False\n",
      "False\n"
     ]
    }
   ],
   "source": [
    "def no_duplicate_letters(string):\n",
    "    output = None\n",
    "    for i in string.split(' '):\n",
    "        if len(i) == len(set(i)):\n",
    "            output = True\n",
    "        else:\n",
    "            output = False\n",
    "            break\n",
    "    return output\n",
    "    \n",
    "print(no_duplicate_letters(\"Fortune favours the bold.\"))\n",
    "print(no_duplicate_letters(\"You can lead a horse to water, but you can't make him drink.\"))\n",
    "print(no_duplicate_letters(\"Look before you leap.\"))\n",
    "print(no_duplicate_letters(\"An apple a day keeps the doctor away.\"))"
   ]
  },
  {
   "cell_type": "markdown",
   "id": "ae8151a2",
   "metadata": {},
   "source": [
    "### 5. Write a regular expression that will match the states that voted yes to President Trump's impeachment. You must use RegEx positive lookahead.\n",
    "`Examples:\n",
    "txt = \"Texas = no, California = yes, Florida = yes, Michigan = no\"\n",
    "pattern = \"yourregularexpressionhere\"\n",
    "re.findall(pattern, txt) ➞ [\"California\", \"Florida\"]`"
   ]
  },
  {
   "cell_type": "code",
   "execution_count": 5,
   "id": "3d55a734",
   "metadata": {},
   "outputs": [
    {
     "name": "stdout",
     "output_type": "stream",
     "text": [
      "['California', 'Florida']\n"
     ]
    }
   ],
   "source": [
    "import re\n",
    "txt = \"Texas = no, California = yes, Florida = yes, Michigan = no\"\n",
    "pattern = r'\\w+(?=\\s=\\syes*)'\n",
    "match = re.findall(pattern,txt)\n",
    "print(match)"
   ]
  },
  {
   "cell_type": "code",
   "execution_count": null,
   "id": "a22a236f",
   "metadata": {},
   "outputs": [],
   "source": []
  }
 ],
 "metadata": {
  "kernelspec": {
   "display_name": "Python 3 (ipykernel)",
   "language": "python",
   "name": "python3"
  },
  "language_info": {
   "codemirror_mode": {
    "name": "ipython",
    "version": 3
   },
   "file_extension": ".py",
   "mimetype": "text/x-python",
   "name": "python",
   "nbconvert_exporter": "python",
   "pygments_lexer": "ipython3",
   "version": "3.9.7"
  }
 },
 "nbformat": 4,
 "nbformat_minor": 5
}
