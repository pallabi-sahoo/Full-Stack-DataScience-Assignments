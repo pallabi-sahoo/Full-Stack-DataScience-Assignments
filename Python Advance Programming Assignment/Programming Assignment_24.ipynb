{
 "cells": [
  {
   "cell_type": "markdown",
   "id": "bc4f7640",
   "metadata": {},
   "source": [
    "# Python Advance Programming Assignment_24 Solutions"
   ]
  },
  {
   "cell_type": "markdown",
   "id": "f0ddc30b",
   "metadata": {},
   "source": [
    "### 1. Implement a class iterator to flatten a nested list of lists of integers. Each list element is either an integer or a list. There can be many levels of nested lists in lists.\n",
    "\n",
    "The class initializes with a nested list. It also has two methods:\n",
    "\n",
    "  1. next() returns an integer in the order of appearance.\n",
    "  2. hasNext() returns True / False regarding if all integers have been retrieved or not.\n",
    "\n",
    "Write the Class implementation for three required methods.\n",
    "\n",
    "**Examples:**   \n",
    "\n",
    "`ni, actual = NestedIterator([[1, 1], 2, [1, 1]]), []\n",
    "while ni.hasNext():\n",
    "    actual.append(ni.next())\n",
    "actual ➞ [1, 1, 2, 1, 1]`\n",
    "\n",
    "`ni, actual = NestedIterator([1, [4, [6]]]), []\n",
    "while ni.hasNext():\n",
    "    actual.append(ni.next())\n",
    "actual ➞ [1, 4, 6]`\n",
    "\n",
    "`ni, actual = NestedIterator([[[]], []]), []\n",
    "while ni.hasNext():\n",
    "    actual.append(ni.next())\n",
    "actual ➞ []`"
   ]
  },
  {
   "cell_type": "code",
   "execution_count": 1,
   "id": "c79dc864",
   "metadata": {},
   "outputs": [
    {
     "name": "stdout",
     "output_type": "stream",
     "text": [
      "actual ➞ [1, 1, 2, 1, 1]\n",
      "actual ➞ [1, 4, 6]\n",
      "actual ➞ []\n"
     ]
    }
   ],
   "source": [
    "class NestedIterator:\n",
    "    def __init__(self,lst):\n",
    "        self.list = lst\n",
    "        self.flatten_list = []\n",
    "        self.test(self.list)\n",
    "    \n",
    "    def test(self,lst):\n",
    "        for i in lst:\n",
    "            if isinstance(i,int):\n",
    "                self.flatten_list.append(i)\n",
    "            else:\n",
    "                self.test(i)\n",
    "                \n",
    "    def hasNext(self):\n",
    "        return True if len(self.flatten_list) > 0 else False\n",
    "    \n",
    "    def next(self):\n",
    "        return self.flatten_list.pop(0)\n",
    "    \n",
    "ni, actual = NestedIterator([[1, 1], 2, [1, 1]]), []\n",
    "while ni.hasNext():\n",
    "    actual.append(ni.next())\n",
    "print(f'actual ➞ {actual}')\n",
    "\n",
    "ni, actual = NestedIterator([1, [4, [6]]]), []\n",
    "while ni.hasNext():\n",
    "    actual.append(ni.next())\n",
    "print(f'actual ➞ {actual}')\n",
    "\n",
    "ni, actual = NestedIterator([[[]], []]), []\n",
    "while ni.hasNext():\n",
    "    actual.append(ni.next())\n",
    "print(f'actual ➞ {actual}')"
   ]
  },
  {
   "cell_type": "markdown",
   "id": "2c8b2154",
   "metadata": {},
   "source": [
    "### 3. Given a 3x3 matrix of a completed tic-tac-toe game, create a function that returns whether the game is a win for \"X\", \"O\", or a \"Draw\", where \"X\" and \"O\" represent themselves on the matrix, and \"E\" represents an empty spot.\n",
    "**Examples:**   \n",
    "`tic_tac_toe([\n",
    "  [\"X\", \"O\", \"X\"],\n",
    "  [\"O\", \"X\",  \"O\"],\n",
    "  [\"O\", \"X\",  \"X\"]\n",
    "]) ➞ \"X\"`  \n",
    "\n",
    "`tic_tac_toe([\n",
    "  [\"O\", \"O\", \"O\"],\n",
    "  [\"O\", \"X\", \"X\"],\n",
    "  [\"E\", \"X\", \"X\"]\n",
    "]) ➞ \"O\"`  \n",
    "\n",
    "`tic_tac_toe([\n",
    "  [\"X\", \"X\", \"O\"],\n",
    "  [\"O\", \"O\", \"X\"],\n",
    "  [\"X\", \"X\", \"O\"]\n",
    "]) ➞ \"Draw\"`  "
   ]
  },
  {
   "cell_type": "code",
   "execution_count": 2,
   "id": "d1b203a5",
   "metadata": {},
   "outputs": [
    {
     "name": "stdout",
     "output_type": "stream",
     "text": [
      "tic_tac_toe([['X', 'O', 'X'], ['O', 'X', 'O'], ['O', 'X', 'X']]) ➞ \"X\"\n",
      "tic_tac_toe([['O', 'O', 'O'], ['O', 'X', 'X'], ['E', 'X', 'X']]) ➞ \"O\"\n",
      "tic_tac_toe([['X', 'X', 'O'], ['O', 'O', 'X'], ['X', 'X', 'O']]) ➞ \"Draw\"\n",
      "tic_tac_toe([['X', 'X', 'O'], ['X', 'O', 'X'], ['X', 'O', 'O']]) ➞ \"X\"\n",
      "tic_tac_toe([['O', 'O', 'X'], ['O', 'X', 'O'], ['X', 'O', 'O']]) ➞ \"X\"\n"
     ]
    }
   ],
   "source": [
    "def tic_tac_toe(lst):\n",
    "    output = None  \n",
    "    # Case 1 to search for horizontal match\n",
    "    for i in lst:\n",
    "        if len(list(set(i))) == 1:\n",
    "            output = list(set(i))[0]\n",
    "            break\n",
    "    # Case 2 to search for vertical match   \n",
    "    if output == None:\n",
    "        for i in range(len(lst)):\n",
    "            temp = []\n",
    "            for j in range(len(lst)): temp.append(lst[j][i])\n",
    "            if len(list(set(temp))) == 1: output = list(set(temp))[0]\n",
    "    # Case 3 to search for diagonal match\n",
    "    if output == None:\n",
    "        temp = []\n",
    "        for i in [0,1,2]:\n",
    "            temp.append(lst[i][i])\n",
    "        if len(list(set(temp))) == 1: output = list(set(temp))[0]\n",
    "    # Case 4 to search for reverse diagonal match\n",
    "    if output == None:\n",
    "        temp = []\n",
    "        for i in [0,1,2]:\n",
    "            for j in [0,1,2]:\n",
    "                if sum([i,j]) == 2: temp.append(lst[i][j])\n",
    "        if len(list(set(temp))) == 1: output = list(set(temp))[0]\n",
    "    # Case 5 Draw Condition\n",
    "    if output == None: output = 'Draw'\n",
    "    print(f'tic_tac_toe({lst}) ➞ \"{output}\"')\n",
    "            \n",
    "tic_tac_toe([[\"X\", \"O\", \"X\"],[\"O\", \"X\", \"O\"],[\"O\", \"X\", \"X\"]])\n",
    "tic_tac_toe([[\"O\", \"O\", \"O\"],[\"O\",\"X\", \"X\"],[\"E\", \"X\", \"X\"]])\n",
    "tic_tac_toe([[\"X\", \"X\", \"O\"],[\"O\", \"O\", \"X\"],[\"X\", \"X\", \"O\"]])\n",
    "tic_tac_toe([[\"X\", \"X\", \"O\"],[\"X\", \"O\", \"X\"],[\"X\", \"O\", \"O\"]])\n",
    "tic_tac_toe([[\"O\", \"O\", \"X\"],[\"O\", \"X\", \"O\"],[\"X\", \"O\", \"O\"]])"
   ]
  },
  {
   "cell_type": "markdown",
   "id": "5b1c3ef0",
   "metadata": {},
   "source": [
    "### 4. Your computer might have been infected by a virus! Create a function that finds the viruses in files and removes them from your computer.\n",
    "**Examples:**   \n",
    "`remove_virus(\"PC Files: spotifysetup.exe, virus.exe, dog.jpg\") ➞ \"PC Files: spotifysetup.exe, dog.jpg\"`  \n",
    "`remove_virus(\"PC Files: antivirus.exe, cat.pdf, lethalmalware.exe, dangerousvirus.exe \") ➞ \"PC Files: antivirus.exe, cat.pdf\"` \n",
    "`remove_virus(\"PC Files: notvirus.exe, funnycat.gif\") ➞ \"PC Files: notvirus.exe, funnycat.gif\")` "
   ]
  },
  {
   "cell_type": "code",
   "execution_count": 3,
   "id": "dc37c545",
   "metadata": {},
   "outputs": [
    {
     "name": "stdout",
     "output_type": "stream",
     "text": [
      "PC Files: spotifysetup.exe, dog.jpg\n",
      "PC Files: antivirus.exe, cat.pdf\n",
      "PC Files: notvirus.exe, funnycat.gif\n"
     ]
    }
   ],
   "source": [
    "import re\n",
    "def remove_virus(string):\n",
    "    lst = [i.strip() for i in re.split(\", \",string)]\n",
    "    output = []\n",
    "    for i in lst:\n",
    "        if i not in ['virus.exe','dangerousvirus.exe','lethalmalware.exe']:\n",
    "            output.append(i)\n",
    "    print(\", \".join(output))\n",
    "    \n",
    "remove_virus(\"PC Files: spotifysetup.exe, virus.exe, dog.jpg\")\n",
    "remove_virus(\"PC Files: antivirus.exe, cat.pdf, lethalmalware.exe, dangerousvirus.exe \")\n",
    "remove_virus(\"PC Files: notvirus.exe, funnycat.gif\")"
   ]
  },
  {
   "cell_type": "markdown",
   "id": "ce5b9192",
   "metadata": {},
   "source": [
    "### 5. In a video game, a meteor will fall toward the main character's home planet. Given the meteor's trajectory as a string in the form y = mx + b and the character's position as a tuple of (x, y), return True if the meteor will hit the character and False if it will not.\n",
    "**Examples:**   \n",
    "`will_hit(\"y = 2x - 5\", (0, 0)) ➞ False`  \n",
    "`will_hit(\"y = -4x + 6\", (1, 2)) ➞ True`   \n",
    "`will_hit(\"y = 2x + 6\", (3, 2)) ➞ False`  "
   ]
  },
  {
   "cell_type": "code",
   "execution_count": 4,
   "id": "30d11c3c",
   "metadata": {},
   "outputs": [
    {
     "name": "stdout",
     "output_type": "stream",
     "text": [
      "False\n",
      "True\n",
      "False\n"
     ]
    }
   ],
   "source": [
    "def will_hit(y,char_pos):\n",
    "    eq = y.split(\" \")\n",
    "    temp = []\n",
    "    for i in eq:\n",
    "        if 'x' in i or 'y'in i:\n",
    "            if len(i) == 1:\n",
    "                temp.append(i.replace('x',str(char_pos[0]))) if 'x' in i else temp.append(i.replace('y',str(char_pos[1])))\n",
    "            else:\n",
    "                temp.append(i.replace('x',f'*{char_pos[0]}')) if 'x' in i else temp.append(i.replace('y',f'*{char_pos[1]}'))\n",
    "        else:\n",
    "            temp.append(\"==\") if i == \"=\" else temp.append(i)\n",
    "    print(eval(\" \".join(temp)))\n",
    "\n",
    "will_hit(\"y = 2x - 5\", (0, 0))\n",
    "will_hit(\"y = -4x + 6\", (1, 2))\n",
    "will_hit(\"y = 2x + 6\", (3, 2))"
   ]
  },
  {
   "cell_type": "code",
   "execution_count": null,
   "id": "72df340b",
   "metadata": {},
   "outputs": [],
   "source": []
  }
 ],
 "metadata": {
  "kernelspec": {
   "display_name": "Python 3 (ipykernel)",
   "language": "python",
   "name": "python3"
  },
  "language_info": {
   "codemirror_mode": {
    "name": "ipython",
    "version": 3
   },
   "file_extension": ".py",
   "mimetype": "text/x-python",
   "name": "python",
   "nbconvert_exporter": "python",
   "pygments_lexer": "ipython3",
   "version": "3.9.7"
  }
 },
 "nbformat": 4,
 "nbformat_minor": 5
}
