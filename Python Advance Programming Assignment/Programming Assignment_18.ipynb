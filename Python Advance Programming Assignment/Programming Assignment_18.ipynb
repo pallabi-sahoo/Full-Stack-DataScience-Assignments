{
 "cells": [
  {
   "cell_type": "markdown",
   "id": "512fd906",
   "metadata": {},
   "source": [
    "# Python Advance Programming Assignment_18 Solutions"
   ]
  },
  {
   "cell_type": "markdown",
   "id": "cece1bfe",
   "metadata": {},
   "source": [
    "### 1. A robot has been given a list of movement instructions. Each instruction is either left, right, up or down, followed by a distance to move. The robot starts at [0, 0]. You want to calculate where the robot will end up and return its final position as a list.\n",
    "\n",
    "To illustrate, if the robot is given the following instructions: `[\"right 10\", \"up 50\", \"left 30\", \"down 10\"]`  \n",
    "It will end up 20 left and 40 up from where it started, so we return `[-20, 40].`  \n",
    "\n",
    "**Examples:**   \n",
    "`track_robot([\"right 10\", \"up 50\", \"left 30\", \"down 10\"]) ➞ [-20, 40]`  \n",
    "`track_robot([]) ➞ [0, 0]`  \n",
    "`// If there are no instructions, the robot doesn't move.`  \n",
    "`track_robot([\"right 100\", \"right 100\", \"up 500\", \"up 10000\"]) ➞ [200, 10500]`  "
   ]
  },
  {
   "cell_type": "code",
   "execution_count": 1,
   "id": "71b70f7c",
   "metadata": {},
   "outputs": [
    {
     "name": "stdout",
     "output_type": "stream",
     "text": [
      "[-20, 40]\n",
      "[0, 0]\n",
      "[200, 10500]\n"
     ]
    }
   ],
   "source": [
    "def track_robot(lst):\n",
    "    output = [0,0]\n",
    "    for i in lst:\n",
    "        i = i.split(\" \")\n",
    "        if i[0] in ['right','left']:\n",
    "            output[0] = output[0]-int(i[1]) if i[0] == 'left' else output[0]+int(i[1])\n",
    "        else:\n",
    "            output[1] = output[1]-int(i[1]) if i[0] == 'down' else output[1]+int(i[1])\n",
    "    return output\n",
    "        \n",
    "print(track_robot([\"right 10\", \"up 50\", \"left 30\", \"down 10\"]))\n",
    "print(track_robot([]))\n",
    "print(track_robot([\"right 100\", \"right 100\", \"up 500\", \"up 10000\"]))"
   ]
  },
  {
   "cell_type": "markdown",
   "id": "684dda4b",
   "metadata": {},
   "source": [
    "### 2. Write a function that will return the longest word in a sentence. In cases where more than one word is found, return the first one.\n",
    "**Examples:**  \n",
    "`find_longest(\"A thing of beauty is a joy forever.\") ➞ \"forever\"`   \n",
    "`find_longest(\"Forgetfulness is by all means powerless!\") ➞ \"forgetfulness\"`   \n",
    "`find_longest(\"\\\"Strengths\\\" is the longest and most commonly used word that contains only a single vowel.\") ➞ \"strengths\"`  "
   ]
  },
  {
   "cell_type": "code",
   "execution_count": 2,
   "id": "0e72c29a",
   "metadata": {},
   "outputs": [
    {
     "name": "stdout",
     "output_type": "stream",
     "text": [
      "forever.\n",
      "forgetfulness\n",
      "\"strengths\"\n"
     ]
    }
   ],
   "source": [
    "def find_longest(string):\n",
    "    longest = []\n",
    "    for i in string.split(' '):\n",
    "        longest.append(len(i))\n",
    "    print(f'{string.split(\" \")[longest.index(max(longest))].lower()}')\n",
    "        \n",
    "find_longest(\"A thing of beauty is a joy forever.\")\n",
    "find_longest(\"Forgetfulness is by all means powerless!\")\n",
    "find_longest(\"\\\"Strengths\\\" is the longest and most commonly used word that contains only a single vowel.\")"
   ]
  },
  {
   "cell_type": "markdown",
   "id": "aa328290",
   "metadata": {},
   "source": [
    "### 3. Create a function to check if a candidate is qualified in an imaginary coding interview of an imaginary tech startup.\n",
    "\n",
    "The criteria for a candidate to be qualified in the coding interview is:\n",
    "   1. The candidate should have complete all the questions.\n",
    "   2. The maximum time given to complete the interview is 120 minutes.\n",
    "   3. The maximum time given for very easy questions is 5 minutes each.\n",
    "   4. The maximum time given for easy questions is 10 minutes each.\n",
    "   5. The maximum time given for medium questions is 15 minutes each.\n",
    "   6. The maximum time given for hard questions is 20 minutes each.\n",
    "\n",
    "If all the above conditions are satisfied, return \"qualified\", else return \"disqualified\".\n",
    "\n",
    "You will be given a list of time taken by a candidate to solve a particular question and the total time taken by the candidate to complete the interview.\n",
    "\n",
    "Given a list , in a true condition will always be in the format `[very easy, very easy, easy, easy, medium, medium, hard, hard].`  \n",
    "\n",
    "The maximum time to complete the interview includes a buffer time of 20 minutes.\n",
    "\n",
    "**Examples:**   \n",
    "`interview([5, 5, 10, 10, 15, 15, 20, 20], 120) ➞ \"qualified\"`  \n",
    "`interview([2, 3, 8, 6, 5, 12, 10, 18], 64) ➞  \"qualified\"`   \n",
    "`interview([5, 5, 10, 10, 25, 15, 20, 20], 120) ➞ \"disqualified\"`  \n",
    "`# Exceeded the time limit for a medium question.`   \n",
    "`interview([5, 5, 10, 10, 15, 15, 20], 120) ➞ \"disqualified\"`   \n",
    "`# Did not complete all the questions.`  \n",
    "`interview([5, 5, 10, 10, 15, 15, 20, 20], 130) ➞ \"disqualified\"`  \n",
    "`# Solved all the questions in their respected time limits but exceeded the total time limit of the interview.`  "
   ]
  },
  {
   "cell_type": "code",
   "execution_count": 3,
   "id": "63b1d011",
   "metadata": {},
   "outputs": [
    {
     "name": "stdout",
     "output_type": "stream",
     "text": [
      "qualified\n",
      "qualified\n",
      "disqualified\n",
      "disqualified\n",
      "disqualified\n"
     ]
    }
   ],
   "source": [
    "def interview(lst, time):\n",
    "    output = 'qualified'\n",
    "    if time > 120 or max(lst[0:2]) > 5 or max(lst[2:4]) > 10 or max(lst[4:6]) > 15 or max(lst[6:8]) > 20 or len(lst) != 8:\n",
    "            output = 'disqualified'\n",
    "    return output\n",
    "    \n",
    "print(interview([5, 5, 10, 10, 15, 15, 20, 20], 120))\n",
    "print(interview([2, 3, 8, 6, 5, 12, 10, 18], 64))\n",
    "print(interview([5, 5, 10, 10, 25, 15, 20, 20], 120))\n",
    "print(interview([5, 5, 10, 10, 15, 15, 20], 120))\n",
    "print(interview([5, 5, 10, 10, 15, 15, 20, 20], 130))"
   ]
  },
  {
   "cell_type": "markdown",
   "id": "89d892a4",
   "metadata": {},
   "source": [
    "### 4. Write a function that divides a list into chunks of size n, where n is the length of each chunk.\n",
    "**Examples:**   \n",
    "`chunkify([2, 3, 4, 5], 2) ➞ [[2, 3], [4, 5]]`  \n",
    "`chunkify([2, 3, 4, 5, 6], 2) ➞ [[2, 3], [4, 5], [6]]`  \n",
    "`chunkify([2, 3, 4, 5, 6, 7], 3) ➞ [[2, 3, 4], [5, 6, 7]]`  \n",
    "`chunkify([2, 3, 4, 5, 6, 7], 1) ➞ [[2], [3], [4], [5], [6], [7]]`  \n",
    "`chunkify([2, 3, 4, 5, 6, 7], 7) ➞ [[2, 3, 4, 5, 6, 7]]`  "
   ]
  },
  {
   "cell_type": "code",
   "execution_count": 4,
   "id": "3137eac4",
   "metadata": {},
   "outputs": [
    {
     "name": "stdout",
     "output_type": "stream",
     "text": [
      "[[2, 3], [4, 5]]\n",
      "[[2, 3], [4, 5], [6]]\n",
      "[[2, 3, 4], [5, 6, 7]]\n",
      "[[2], [3], [4], [5], [6], [7]]\n",
      "[[2, 3, 4, 5, 6, 7]]\n"
     ]
    }
   ],
   "source": [
    "def chunkify(lst,size):\n",
    "    output = []\n",
    "    for i in range(0,len(lst),size):\n",
    "        output.append(lst[i:i+size])\n",
    "    return output\n",
    "    \n",
    "print(chunkify([2, 3, 4, 5], 2))   \n",
    "print(chunkify([2, 3, 4, 5, 6], 2))\n",
    "print(chunkify([2, 3, 4, 5, 6, 7], 3))\n",
    "print(chunkify([2, 3, 4, 5, 6, 7], 1))\n",
    "print(chunkify([2, 3, 4, 5, 6, 7], 7))"
   ]
  },
  {
   "cell_type": "markdown",
   "id": "38c1dc4e",
   "metadata": {},
   "source": [
    "### 5. You are given a list of strings consisting of grocery items, with prices in parentheses. Return a list of prices in float format.\n",
    "**Examples:**   \n",
    "`get_prices([\"salad ($4.99)\"]) ➞ [4.99]`\n",
    "\n",
    "`get_prices([\n",
    "  \"artichokes ($1.99)\",\n",
    "  \"rotiserrie chicken ($5.99)\",\n",
    "  \"gum ($0.75)\"\n",
    "]) ➞ [1.99, 5.99, 0.75]`  \n",
    "\n",
    "`get_prices([\n",
    "  \"ice cream ($5.99)\",\n",
    "  \"banana ($0.20)\",\n",
    "  \"sandwich ($8.50)\",\n",
    "  \"soup ($1.99)\"\n",
    "]) ➞ [5.99, 0.2, 8.50, 1.99]`"
   ]
  },
  {
   "cell_type": "code",
   "execution_count": 5,
   "id": "ea069590",
   "metadata": {},
   "outputs": [
    {
     "name": "stdout",
     "output_type": "stream",
     "text": [
      "[4.99]\n",
      "[1.99, 5.99, 0.75]\n",
      "[5.99, 0.2, 8.5, 1.99]\n"
     ]
    }
   ],
   "source": [
    "def get_prices(lst):\n",
    "    output = []\n",
    "    for i in lst:\n",
    "        output.append(float((i.split('$')[-1]).split(')')[0]))\n",
    "    return output\n",
    "        \n",
    "print(get_prices([\"salad ($4.99)\"]))\n",
    "print(get_prices([\"artichokes ($1.99)\",\"rotiserrie chicken ($5.99)\",\"gum ($0.75)\"]))\n",
    "print(get_prices([\"ice cream ($5.99)\",\"banana ($0.20)\",\"sandwich ($8.50)\",\"soup ($1.99)\"]))"
   ]
  },
  {
   "cell_type": "code",
   "execution_count": null,
   "id": "1b9974b3",
   "metadata": {},
   "outputs": [],
   "source": []
  }
 ],
 "metadata": {
  "kernelspec": {
   "display_name": "Python 3 (ipykernel)",
   "language": "python",
   "name": "python3"
  },
  "language_info": {
   "codemirror_mode": {
    "name": "ipython",
    "version": 3
   },
   "file_extension": ".py",
   "mimetype": "text/x-python",
   "name": "python",
   "nbconvert_exporter": "python",
   "pygments_lexer": "ipython3",
   "version": "3.9.7"
  }
 },
 "nbformat": 4,
 "nbformat_minor": 5
}
