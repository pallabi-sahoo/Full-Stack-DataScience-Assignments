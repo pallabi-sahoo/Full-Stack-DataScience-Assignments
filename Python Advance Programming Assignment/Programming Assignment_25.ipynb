{
 "cells": [
  {
   "cell_type": "markdown",
   "id": "6899c0e0",
   "metadata": {},
   "source": [
    "# Python Advance Programming Assignment_25 Solutions"
   ]
  },
  {
   "cell_type": "markdown",
   "id": "e1a6006b",
   "metadata": {},
   "source": [
    "### 1. Write four functions that directly mutate a list:\n",
    "1. repeat(lst, n): Repeat lst n times.\n",
    "2. add(lst, x): Adds x to the end of the lst.\n",
    "3. remove(lst, m, n): Removes all elements between indices m and n inclusive in lst.\n",
    "4. concat(lst, x): concatenates lst with x (another list).\n",
    "**Examples:**  \n",
    "`lst = [1, 2, 3, 4]`  \n",
    "`repeat(lst, 3) ➞ [1, 2, 3, 4, 1, 2, 3, 4, 1, 2, 3, 4] `  \n",
    "`add(lst, 1) ➞ [1, 2, 3, 4, 1, 2, 3, 4, 1, 2, 3, 4, 1]`  \n",
    "`remove(lst, 1, 12) ➞ [1]`  \n",
    "`concat(lst, [3, 4]) ➞ [1, 3, 4]`"
   ]
  },
  {
   "cell_type": "code",
   "execution_count": 1,
   "id": "48337b5e",
   "metadata": {},
   "outputs": [
    {
     "name": "stdout",
     "output_type": "stream",
     "text": [
      "[1, 2, 3, 4, 1, 2, 3, 4, 1, 2, 3, 4]\n",
      "[1, 2, 3, 4, 1, 2, 3, 4, 1, 2, 3, 4, 1]\n",
      "[1]\n",
      "[1, 3, 4]\n"
     ]
    }
   ],
   "source": [
    "lst = [1, 2, 3, 4]\n",
    "\n",
    "def repeat(num):\n",
    "    global lst\n",
    "    lst = lst*num\n",
    "    return lst\n",
    "\n",
    "def add(num):\n",
    "    global lst\n",
    "    lst.append(num)\n",
    "    return lst\n",
    "\n",
    "def remove(start,end):\n",
    "    global lst\n",
    "    for i in lst[start:end+1]:\n",
    "        lst.remove(i)\n",
    "    return lst\n",
    "\n",
    "def concat(list_):\n",
    "    global lst\n",
    "    lst = lst+list_\n",
    "    return lst\n",
    "\n",
    "print(repeat(3))\n",
    "print(add(1))\n",
    "print(remove(1,12))\n",
    "print(concat([3, 4]))"
   ]
  },
  {
   "cell_type": "markdown",
   "id": "9907ea1c",
   "metadata": {},
   "source": [
    "### 2. The classic game of Mastermind is played on a tray on which the Mastermind conceals a code and the Guesser has 10 tries to guess it. The code is a sequence of 4 (or 6, sometimes more) pegs of different colors. Each guess is a corresponding sequence of 4 (or more) pegs of different colors. A guess is \"correct\" when the color of every peg in the guess exactly matches the corresponding peg in the Mastermind's code.\n",
    "\n",
    "After each guess by the Guesser, the Mastermind will give a score comprising black & white pegs, not arranged in any order:\n",
    "\n",
    "   - Black peg == guess peg matches the color of a code peg in the same position.\n",
    "   - White peg == guess peg matches the color of a code peg in another position.\n",
    "\n",
    "Create a function that takes two strings, code and guess as arguments, and returns the score in a dictionary.\n",
    "\n",
    "   - The code and guess are strings of numeric digits\n",
    "   - The color of the pegs are represented by numeric digits\n",
    "   - no \"peg\" may be double-scored\n",
    "\n",
    "**Examples:**  \n",
    "`guess_score(\"1423\", \"5678\") ➞ {\"black\": 0, \"white\": 0}`  \n",
    "`guess_score(\"1423\", \"2222\") ➞ {\"black\": 1, \"white\": 0}`  \n",
    "`guess_score(\"1423\", \"1234\") ➞ {\"black\": 1, \"white\": 3}`  \n",
    "`guess_score(\"1423\", \"2211\") ➞ {\"black\": 0, \"white\": 2}` "
   ]
  },
  {
   "cell_type": "code",
   "execution_count": 2,
   "id": "bef8edc3",
   "metadata": {},
   "outputs": [
    {
     "name": "stdout",
     "output_type": "stream",
     "text": [
      "{'black': 0, 'white': 0}\n",
      "{'black': 1, 'white': 0}\n",
      "{'black': 1, 'white': 3}\n",
      "{'black': 0, 'white': 2}\n"
     ]
    }
   ],
   "source": [
    "def guess_score(code,guess):\n",
    "    output = {\"black\":0,\"white\":0}\n",
    "    for i in range(len(code)): \n",
    "        if code[i] == guess[i]:\n",
    "            output['black'] += 1\n",
    "        elif code[i] in guess and i != guess.index(code[i]):\n",
    "            output['white'] += 1\n",
    "    return output\n",
    "        \n",
    "print(guess_score(\"1423\", \"5678\"))\n",
    "print(guess_score(\"1423\", \"2222\"))\n",
    "print(guess_score(\"1423\", \"1234\")) \n",
    "print(guess_score(\"1423\", \"2211\"))"
   ]
  },
  {
   "cell_type": "markdown",
   "id": "48f9e74a",
   "metadata": {},
   "source": [
    "### 3. Create a function that takes a list lst and a number N and returns a list of two integers from lst whose product equals N.\n",
    "\n",
    "**Examples:**  \n",
    "`two_product([1, 2, -1, 4, 5], 20) ➞ [4, 5]`  \n",
    "`two_product([1, 2, 3, 4, 5], 10) ➞ [2, 5]`  \n",
    "`two_product([100, 12, 4, 1, 2], 15) ➞ None` "
   ]
  },
  {
   "cell_type": "code",
   "execution_count": 3,
   "id": "64a30c10",
   "metadata": {},
   "outputs": [
    {
     "name": "stdout",
     "output_type": "stream",
     "text": [
      "[4, 5]\n",
      "[2, 5]\n",
      "None\n"
     ]
    }
   ],
   "source": [
    "def two_product(lst,num):\n",
    "    output = None\n",
    "    for i in lst:\n",
    "        for j in lst:\n",
    "            if i*j == num:\n",
    "                output = sorted([i,j])\n",
    "                break\n",
    "    return output\n",
    "    \n",
    "print(two_product([1, 2, -1, 4, 5], 20))\n",
    "print(two_product([1, 2, 3, 4, 5], 10))\n",
    "print(two_product([100, 12, 4, 1, 2], 15))"
   ]
  },
  {
   "cell_type": "markdown",
   "id": "cd4c9241",
   "metadata": {},
   "source": [
    "### 4. In this challenge, sort a list containing a series of dates given as strings. Each date is given in the format DD-MM-YYYY_HH:MM:\n",
    "\n",
    "\"12-02-2012_13:44\"\n",
    "\n",
    "The priority of criteria used for sorting will be:\n",
    "\n",
    "  - Year\n",
    "  - Month\n",
    "  - Day\n",
    "  - Hours\n",
    "  - Minutes\n",
    "\n",
    "Given a list lst and a string mode, implement a function that returns:\n",
    "\n",
    "   - if mode is equal to \"ASC\", the list lst sorted in ascending order.\n",
    "   - if mode is equal to \"DSC\", the list lst sorted in descending order.\n",
    "\n",
    "**Examples:**  \n",
    "\n",
    "`sort_dates([\"10-02-2018_12:30\", \"10-02-2016_12:30\", \"10-02-2018_12:15\"], \"ASC\") ➞ [\"10-02-2016_12:30\", \"10-02-2018_12:15\", \"10-02-2018_12:30\"]`   \n",
    "\n",
    "`sort_dates([\"10-02-2018_12:30\", \"10-02-2016_12:30\", \"10-02-2018_12:15\"], \"DSC\") ➞ [\"10-02-2018_12:30\", \"10-02-2018_12:15\", \"10-02-2016_12:30\"]`  \n",
    "\n",
    "`sort_dates([\"09-02-2000_10:03\", \"10-02-2000_18:29\", \"01-01-1999_00:55\"], \"ASC\") ➞ [\"01-01-1999_00:55\", \"09-02-2000_10:03\", \"10-02-2000_18:29\"]`   "
   ]
  },
  {
   "cell_type": "code",
   "execution_count": 4,
   "id": "1968e236",
   "metadata": {},
   "outputs": [
    {
     "name": "stdout",
     "output_type": "stream",
     "text": [
      "['10-02-2016_12:30', '10-02-2018_12:15', '10-02-2018_12:30']\n",
      "['10-02-2018_12:30', '10-02-2018_12:15', '10-02-2016_12:30']\n",
      "['01-01-1999_00:55', '09-02-2000_10:03', '10-02-2000_18:29']\n"
     ]
    }
   ],
   "source": [
    "from datetime import datetime\n",
    "def sort_dates(lst,sort_by):\n",
    "    lst_clone = lst.copy()\n",
    "    lst_unix = []\n",
    "    for i in lst:\n",
    "        lst_unix.append(datetime.strptime(i, \"%d-%m-%Y_%H:%M\").timestamp())\n",
    "    lst_unix = sorted(lst_unix) if sort_by == 'ASC' else sorted(lst_unix, reverse=True)\n",
    "    output = []\n",
    "    for i in lst_unix:\n",
    "        output.append(datetime.fromtimestamp(i).strftime(\"%d-%m-%Y_%H:%M\"))\n",
    "    return output\n",
    "\n",
    "print(sort_dates([\"10-02-2018_12:30\", \"10-02-2016_12:30\", \"10-02-2018_12:15\"], \"ASC\"))\n",
    "print(sort_dates([\"10-02-2018_12:30\", \"10-02-2016_12:30\", \"10-02-2018_12:15\"], \"DSC\"))\n",
    "print(sort_dates([\"09-02-2000_10:03\", \"10-02-2000_18:29\", \"01-01-1999_00:55\"], \"ASC\"))"
   ]
  },
  {
   "cell_type": "markdown",
   "id": "d8ddcff7",
   "metadata": {},
   "source": [
    "### 5. Write a function that selects all words that have all the same vowels (in any order and/or number) as the first word, including the first word.\n",
    "\n",
    "**Examples:**  \n",
    "`same_vowel_group([\"toe\", \"ocelot\", \"maniac\"]) ➞ [\"toe\", \"ocelot\"]`  \n",
    "`same_vowel_group([\"many\", \"carriage\", \"emit\", \"apricot\", \"animal\"]) ➞ [\"many\", \"carriage\", \"apricot\", \"animal\"]`  \n",
    "`same_vowel_group([\"hoops\", \"chuff\", \"bot\", \"bottom\"]) ➞ [\"hoops\", \"bot\", \"bottom\"]`  "
   ]
  },
  {
   "cell_type": "code",
   "execution_count": 5,
   "id": "3c753351",
   "metadata": {},
   "outputs": [
    {
     "name": "stdout",
     "output_type": "stream",
     "text": [
      "['toe', 'ocelot']\n",
      "['many', 'carriage', 'apricot', 'animal']\n",
      "['hoops', 'bot', 'bottom']\n"
     ]
    }
   ],
   "source": [
    "def same_vowel_group(lst):\n",
    "    vowels = ['a','e','i','o','u']\n",
    "    first_ = sorted(set([x for x in lst[0] if x in vowels]))\n",
    "    output = []\n",
    "    for i in range(0,len(lst)):\n",
    "        vowels_in_word = [x for x in lst[i] if x in first_]\n",
    "        if sorted(first_) == sorted(set(vowels_in_word)):\n",
    "            output.append(lst[i])\n",
    "    return output\n",
    "    \n",
    "print(same_vowel_group([\"toe\", \"ocelot\", \"maniac\"]))\n",
    "print(same_vowel_group([\"many\", \"carriage\", \"emit\", \"apricot\", \"animal\"]))\n",
    "print(same_vowel_group([\"hoops\", \"chuff\", \"bot\", \"bottom\"]))"
   ]
  },
  {
   "cell_type": "markdown",
   "id": "7af82dd8",
   "metadata": {},
   "source": [
    "### 6. Create a function that takes a list of more than three numbers and returns the Least Common Multiple (LCM).\n",
    "\n",
    "**Examples:**  \n",
    "`lcm_of_list([1, 2, 3, 4, 5, 6, 7, 8, 9, 10]) ➞ 2520`  \n",
    "`lcm_of_list([13, 6, 17, 18, 19, 20, 37]) ➞ 27965340`  \n",
    "`lcm_of_list([44, 64, 12, 17, 65]) ➞ 2333760`  "
   ]
  },
  {
   "cell_type": "code",
   "execution_count": 6,
   "id": "f3144d2e",
   "metadata": {},
   "outputs": [
    {
     "name": "stdout",
     "output_type": "stream",
     "text": [
      "2520\n",
      "27965340\n",
      "2333760\n"
     ]
    }
   ],
   "source": [
    "import math\n",
    "def lcm_of_list(lst):\n",
    "    output = lst[0]\n",
    "    for i in range(1,len(lst)):\n",
    "        output = (output*lst[i])//math.gcd(output,lst[i])\n",
    "    return output\n",
    "    \n",
    "print(lcm_of_list([1, 2, 3, 4, 5, 6, 7, 8, 9, 10]))\n",
    "print(lcm_of_list([13, 6, 17, 18, 19, 20, 37]))\n",
    "print(lcm_of_list([44, 64, 12, 17, 65]))"
   ]
  },
  {
   "cell_type": "code",
   "execution_count": null,
   "id": "1c1ffe6a",
   "metadata": {},
   "outputs": [],
   "source": []
  }
 ],
 "metadata": {
  "kernelspec": {
   "display_name": "Python 3 (ipykernel)",
   "language": "python",
   "name": "python3"
  },
  "language_info": {
   "codemirror_mode": {
    "name": "ipython",
    "version": 3
   },
   "file_extension": ".py",
   "mimetype": "text/x-python",
   "name": "python",
   "nbconvert_exporter": "python",
   "pygments_lexer": "ipython3",
   "version": "3.9.7"
  }
 },
 "nbformat": 4,
 "nbformat_minor": 5
}
