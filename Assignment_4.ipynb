{
 "cells": [
  {
   "cell_type": "markdown",
   "id": "da5a9604",
   "metadata": {},
   "source": [
    "# Assignment_4 Solutionsm"
   ]
  },
  {
   "cell_type": "markdown",
   "id": "3e28d424",
   "metadata": {},
   "source": [
    "### 1.Write a Python Program to find the factorial of a number ?"
   ]
  },
  {
   "cell_type": "code",
   "execution_count": 8,
   "id": "9c37eb51",
   "metadata": {},
   "outputs": [
    {
     "name": "stdout",
     "output_type": "stream",
     "text": [
      "Enter a number: 5\n",
      "The Factorial of 5 is 120\n"
     ]
    }
   ],
   "source": [
    "def fact():\n",
    "    \"\"\"Function to find the factorial of a number \"\"\"\n",
    "    num = int(input(\"Enter a number: \"))\n",
    "    fact=1\n",
    "    if num<1:\n",
    "        return 1\n",
    "    else:\n",
    "        for i in range(num, 0 ,-1):\n",
    "            fact = fact*i \n",
    "        print(f'The Factorial of {num} is {fact}')\n",
    "fact()"
   ]
  },
  {
   "cell_type": "code",
   "execution_count": null,
   "id": "b699cbdf",
   "metadata": {},
   "outputs": [],
   "source": [
    "### "
   ]
  }
 ],
 "metadata": {
  "kernelspec": {
   "display_name": "Python 3 (ipykernel)",
   "language": "python",
   "name": "python3"
  },
  "language_info": {
   "codemirror_mode": {
    "name": "ipython",
    "version": 3
   },
   "file_extension": ".py",
   "mimetype": "text/x-python",
   "name": "python",
   "nbconvert_exporter": "python",
   "pygments_lexer": "ipython3",
   "version": "3.9.7"
  }
 },
 "nbformat": 4,
 "nbformat_minor": 5
}
